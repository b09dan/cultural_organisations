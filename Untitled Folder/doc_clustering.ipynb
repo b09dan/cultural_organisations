{
 "cells": [
  {
   "cell_type": "markdown",
   "metadata": {},
   "source": [
    "TL;DR\n",
    "\n",
    "Data: Top 100 movies (http://www.imdb.com/list/ls055592025/) with title, genre, and synopsis (IMDB and Wiki)\n",
    "Goal: Put 100 movies into 5 clusters based on text mining their synopses"
   ]
  },
  {
   "cell_type": "code",
   "execution_count": 1,
   "metadata": {
    "collapsed": true
   },
   "outputs": [],
   "source": [
    "import numpy as np\n",
    "import pandas as pd\n",
    "import nltk\n",
    "from nltk.stem.snowball import SnowballStemmer\n",
    "from bs4 import BeautifulSoup\n",
    "import re\n",
    "import os\n",
    "import codecs\n",
    "from sklearn import feature_extraction\n",
    "#import mpld3"
   ]
  },
  {
   "cell_type": "markdown",
   "metadata": {},
   "source": [
    "Read movie titles, 100 movies but somehow the last one is empty string"
   ]
  },
  {
   "cell_type": "code",
   "execution_count": 2,
   "metadata": {
    "collapsed": true
   },
   "outputs": [],
   "source": [
    "# so that you need to use print()\n",
    "from __future__ import print_function\n",
    "titles = open('data/title_list.txt').read().split('\\n')"
   ]
  },
  {
   "cell_type": "code",
   "execution_count": 3,
   "metadata": {},
   "outputs": [
    {
     "data": {
      "text/plain": [
       "101"
      ]
     },
     "execution_count": 3,
     "metadata": {},
     "output_type": "execute_result"
    }
   ],
   "source": [
    "len(titles)"
   ]
  },
  {
   "cell_type": "code",
   "execution_count": 4,
   "metadata": {},
   "outputs": [
    {
     "data": {
      "text/plain": [
       "['The Godfather',\n",
       " 'The Shawshank Redemption',\n",
       " \"Schindler's List\",\n",
       " 'Raging Bull',\n",
       " 'Casablanca',\n",
       " \"One Flew Over the Cuckoo's Nest\",\n",
       " 'Gone with the Wind',\n",
       " 'Citizen Kane',\n",
       " 'The Wizard of Oz',\n",
       " 'Titanic']"
      ]
     },
     "execution_count": 4,
     "metadata": {},
     "output_type": "execute_result"
    }
   ],
   "source": [
    "titles[:10]"
   ]
  },
  {
   "cell_type": "code",
   "execution_count": 5,
   "metadata": {
    "collapsed": true
   },
   "outputs": [],
   "source": [
    "titles = titles[:100]"
   ]
  },
  {
   "cell_type": "markdown",
   "metadata": {},
   "source": [
    "Read Genres information"
   ]
  },
  {
   "cell_type": "code",
   "execution_count": 6,
   "metadata": {
    "collapsed": true
   },
   "outputs": [],
   "source": [
    "genres = open('data/genres_list.txt').read().split('\\n')\n",
    "genres = genres[:100]"
   ]
  },
  {
   "cell_type": "code",
   "execution_count": 7,
   "metadata": {},
   "outputs": [
    {
     "data": {
      "text/plain": [
       "\"[u' Crime', u' Drama']\""
      ]
     },
     "execution_count": 7,
     "metadata": {},
     "output_type": "execute_result"
    }
   ],
   "source": [
    "genres[0]"
   ]
  },
  {
   "cell_type": "markdown",
   "metadata": {},
   "source": [
    "Read in the synopses from wiki"
   ]
  },
  {
   "cell_type": "code",
   "execution_count": 8,
   "metadata": {
    "collapsed": true
   },
   "outputs": [],
   "source": [
    "synopses_wiki = open('data/synopses_list_wiki.txt').read().split('\\n BREAKS HERE')"
   ]
  },
  {
   "cell_type": "code",
   "execution_count": 9,
   "metadata": {},
   "outputs": [
    {
     "data": {
      "text/plain": [
       "101"
      ]
     },
     "execution_count": 9,
     "metadata": {},
     "output_type": "execute_result"
    }
   ],
   "source": [
    "len(synopses_wiki)"
   ]
  },
  {
   "cell_type": "code",
   "execution_count": 10,
   "metadata": {
    "collapsed": true
   },
   "outputs": [],
   "source": [
    "synopses_wiki = synopses_wiki[:100]"
   ]
  },
  {
   "cell_type": "code",
   "execution_count": 11,
   "metadata": {
    "scrolled": true
   },
   "outputs": [
    {
     "data": {
      "text/plain": [
       "' Plot  [edit]  [  [  edit  edit  ]  ]  \\n  On the day of his only daughter\\'s wedding, Vito Corleone hears requests in his role as the Godfather, the Don of a New York crime family. Vito\\'s youngest son, Michael, in a Marine Corps uniform, introduces his girlfriend, Kay Adams, to his family at the sprawling reception. Vito\\'s godson Johnny Fontane, a popular singer, pleads for help in securing a coveted movie role, so Vito dispatches his consigliere, Tom Hagen, to Los Angeles to influence the abrasive studio head, Jack Woltz. Woltz is unmoved until the morning he wakes up in bed with the severed head of his prized stallion.  On the day of his only daughter\\'s wedding,   Vito Corleone  Vito Corleone   hears requests in his role as the Godfather, the   Don  Don   of a New York crime family. Vito\\'s youngest son,   Michael  Michael  , in a   Marine Corps  Marine Corps   uniform, introduces his girlfriend,   Kay Adams  Kay Adams  , to his family at the sprawling reception. Vito\\'s godson   Johnny Fontane  Johnny Fontane  , a popular singer, pleads for help in securing a coveted movie role, so Vito dispatches his   consigliere  consigliere  ,   Tom Hagen  Tom Hagen  , to Los Angeles to influence the abrasive studio head,   Jack Woltz  Jack Woltz  . Woltz is unmoved until the morning he wakes up in bed with the severed head of his prized   stallion  stallion  .  \\n  Shortly before Christmas 1945, drug baron Virgil \"The Turk\" Sollozzo, backed by the Corleones\\' rivals, the Tattaglias, asks Vito for investment in the emerging drug trade and protection through his political connections. Vito disapproves of drug dealers, so he sends his enforcer, Luca Brasi, to spy on them. The family then receives two fish wrapped in Brasi\\'s vest, imparting that he \"sleeps with the fishes\". An assassination attempt by Sollozzo\\'s men lands Vito in the hospital, so his eldest son, Sonny, takes command. Sollozzo kidnaps Hagen to pressure Sonny to accept his deal. Michael thwarts a second assassination attempt on his father at the hospital; his jaw is broken by Police Captain McCluskey, who is also Sollozzo\\'s bodyguard. Sonny retaliates for the attacks on his father by having Tattaglia\\'s son killed. Michael comes up with a plan to hit Sollozzo and McCluskey: on the pretext of settling the dispute, Michael accepts their offer to meet in a Bronx restaurant and, retrieving a planted handgun, murders them.  Shortly before Christmas 1945, drug baron   Virgil \"The Turk\" Sollozzo  Virgil \"The Turk\" Sollozzo  , backed by the Corleones\\' rivals, the Tattaglias, asks Vito for investment in the emerging drug trade and protection through his political connections. Vito disapproves of drug dealers, so he sends his enforcer,   Luca Brasi  Luca Brasi  , to spy on them. The family then receives two fish wrapped in Brasi\\'s vest, imparting that he \"sleeps with the fishes\". An assassination attempt by Sollozzo\\'s men lands Vito in the hospital, so his eldest son,   Sonny  Sonny  , takes command. Sollozzo kidnaps Hagen to pressure Sonny to accept his deal. Michael thwarts a second assassination attempt on his father at the hospital; his jaw is broken by Police Captain McCluskey, who is also Sollozzo\\'s bodyguard. Sonny retaliates for the attacks on his father by having Tattaglia\\'s son killed. Michael comes up with a plan to hit Sollozzo and McCluskey: on the pretext of settling the dispute, Michael accepts their offer to meet in a Bronx restaurant and, retrieving a planted handgun, murders them.  \\n  Despite a clampdown from the authorities, the Five Families erupt in open warfare and the brothers fear for their safety. Michael takes refuge in Sicily, and Fredo Corleone is sheltered by associate Moe Greene in Las Vegas. Sonny attacks his brother-in-law Carlo on the street for abusing his sister Connie and threatens to kill him if he abuses her again. When it happens again, Sonny speeds for her home but assassins ambush him at a highway toll booth and riddle him with submachine gun fire. Michael\\'s time abroad has led to marriage to Apollonia Vitelli. Their euphoria is shattered when a car bomb intended for him takes her life.  Despite a clampdown from the authorities, the   Five Families  Five Families   erupt in open warfare and the brothers fear for their safety. Michael takes refuge in Sicily, and   Fredo Corleone  Fredo Corleone   is sheltered by associate   Moe Greene  Moe Greene   in   Las Vegas  Las Vegas  . Sonny attacks his brother-in-law   Carlo  Carlo   on the street for abusing his sister Connie and threatens to kill him if he abuses her again. When it happens again, Sonny speeds for her home but assassins ambush him at a highway toll booth and riddle him with submachine gun fire. Michael\\'s time abroad has led to marriage to Apollonia Vitelli. Their euphoria is shattered when a car bomb intended for him takes her life.  \\n  Devastated by Sonny\\'s death, Vito decides to end the feuds. Realising that the Tattaglias were under orders of the now dominant Don Emilio Barzini, he promises, before the heads of the Five Families, to withdraw his opposition to their heroin business and forgo revenge for his son\\'s murder. His safety guaranteed, Michael returns home to a father saddened by his involvement in the family business and marries Kay the next year.  Devastated by Sonny\\'s death, Vito decides to end the feuds. Realising that the Tattaglias were under orders of the now dominant Don   Emilio Barzini  Emilio Barzini  , he promises, before the heads of the Five Families, to withdraw his opposition to their heroin business and forgo revenge for his son\\'s murder. His safety guaranteed, Michael returns home to a father saddened by his involvement in the family business and marries Kay the next year.  \\n  With his father at the end of his career and his surviving brother too weak, Michael takes the reins of the family, promising Kay that he will make the business legitimate within five years. To that end, he insists Hagen relocate to Las Vegas and relinquish his role to Vito because Tom is not a \"wartime consigliere\"; the older man agrees Tom should \"have no part in what will happen\" in the coming battles with rival families. When Michael travels to Las Vegas to buy out Greene\\'s stake in the family\\'s casinos, Greene derides the Corleones as a fading power. To add injury to insult, Michael sees Fredo falling under Greene\\'s sway.  With his father at the end of his career and his surviving brother too weak, Michael takes the reins of the family, promising Kay that he will make the business legitimate within five years. To that end, he insists Hagen relocate to Las Vegas and relinquish his role to Vito because Tom is not a \"wartime consigliere\"; the older man agrees Tom should \"have no part in what will happen\" in the coming battles with rival families. When Michael travels to Las Vegas to buy out Greene\\'s stake in the family\\'s casinos, Greene derides the Corleones as a fading power. To add injury to insult, Michael sees Fredo falling under Greene\\'s sway.  \\n  Vito collapses and dies in his garden while playing with Michael\\'s son, Anthony. At the funeral, Salvatore Tessio arranges a meeting between Michael and Don Barzini, signalling his treachery as Vito had warned. The meeting is set for the same day as the christening of Connie\\'s son, to whom Michael will stand as godfather. As the christening proceeds, Corleone assassins, acting on Michael\\'s orders, murder the other New York dons and Moe Greene. Tessio is told that Michael is aware of his betrayal and taken off to his death. After Carlo is questioned by Michael on his involvement in setting up Sonny\\'s murder and confesses he was contacted by Barzini, Peter Clemenza kills him with a wire garrote. Michael is confronted by Connie, who accuses him of having her husband killed. He denies killing Carlo when questioned by Kay, an answer she accepts. As Kay watches warily, Michael receives his capos, who address him as the new Don Corleone.  Vito collapses and dies in his garden while playing with Michael\\'s son,   Anthony  Anthony  . At the funeral,   Salvatore Tessio  Salvatore Tessio   arranges a meeting between Michael and Don Barzini, signalling his treachery as Vito had warned. The meeting is set for the same day as the christening of Connie\\'s son, to whom Michael will stand as godfather. As the christening proceeds, Corleone assassins, acting on Michael\\'s orders, murder the other New York dons and Moe Greene. Tessio is told that Michael is aware of his betrayal and taken off to his death. After Carlo is questioned by Michael on his involvement in setting up Sonny\\'s murder and confesses he was contacted by Barzini,   Peter Clemenza  Peter Clemenza   kills him with a wire   garrote  garrote  . Michael is confronted by Connie, who accuses him of having her husband killed. He denies killing Carlo when questioned by Kay, an answer she accepts. As Kay watches warily, Michael receives his   capos  capos  , who address him as the new Don Corleone.  \\n '"
      ]
     },
     "execution_count": 11,
     "metadata": {},
     "output_type": "execute_result"
    }
   ],
   "source": [
    "synopses_wiki[0]"
   ]
  },
  {
   "cell_type": "markdown",
   "metadata": {},
   "source": [
    "strips html formatting and converts to unicode"
   ]
  },
  {
   "cell_type": "code",
   "execution_count": 12,
   "metadata": {
    "collapsed": true
   },
   "outputs": [],
   "source": [
    "synopses_clean_wiki = []\n",
    "for text in synopses_wiki:\n",
    "    text = BeautifulSoup(text, 'html.parser').getText()\n",
    "    synopses_clean_wiki.append(text)\n",
    "synopses_wiki = synopses_clean_wiki"
   ]
  },
  {
   "cell_type": "code",
   "execution_count": 13,
   "metadata": {
    "collapsed": true
   },
   "outputs": [
    {
     "data": {
      "text/plain": [
       "u' Plot  [edit]  [  [  edit  edit  ]  ]  \\n  On the day of his only daughter\\'s wedding, Vito Corleone hears requests in his role as the Godfather, the Don of a New York crime family. Vito\\'s youngest son, Michael, in a Marine Corps uniform, introduces his girlfriend, Kay Adams, to his family at the sprawling reception. Vito\\'s godson Johnny Fontane, a popular singer, pleads for help in securing a coveted movie role, so Vito dispatches his consigliere, Tom Hagen, to Los Angeles to influence the abrasive studio head, Jack Woltz. Woltz is unmoved until the morning he wakes up in bed with the severed head of his prized stallion.  On the day of his only daughter\\'s wedding,   Vito Corleone  Vito Corleone   hears requests in his role as the Godfather, the   Don  Don   of a New York crime family. Vito\\'s youngest son,   Michael  Michael  , in a   Marine Corps  Marine Corps   uniform, introduces his girlfriend,   Kay Adams  Kay Adams  , to his family at the sprawling reception. Vito\\'s godson   Johnny Fontane  Johnny Fontane  , a popular singer, pleads for help in securing a coveted movie role, so Vito dispatches his   consigliere  consigliere  ,   Tom Hagen  Tom Hagen  , to Los Angeles to influence the abrasive studio head,   Jack Woltz  Jack Woltz  . Woltz is unmoved until the morning he wakes up in bed with the severed head of his prized   stallion  stallion  .  \\n  Shortly before Christmas 1945, drug baron Virgil \"The Turk\" Sollozzo, backed by the Corleones\\' rivals, the Tattaglias, asks Vito for investment in the emerging drug trade and protection through his political connections. Vito disapproves of drug dealers, so he sends his enforcer, Luca Brasi, to spy on them. The family then receives two fish wrapped in Brasi\\'s vest, imparting that he \"sleeps with the fishes\". An assassination attempt by Sollozzo\\'s men lands Vito in the hospital, so his eldest son, Sonny, takes command. Sollozzo kidnaps Hagen to pressure Sonny to accept his deal. Michael thwarts a second assassination attempt on his father at the hospital; his jaw is broken by Police Captain McCluskey, who is also Sollozzo\\'s bodyguard. Sonny retaliates for the attacks on his father by having Tattaglia\\'s son killed. Michael comes up with a plan to hit Sollozzo and McCluskey: on the pretext of settling the dispute, Michael accepts their offer to meet in a Bronx restaurant and, retrieving a planted handgun, murders them.  Shortly before Christmas 1945, drug baron   Virgil \"The Turk\" Sollozzo  Virgil \"The Turk\" Sollozzo  , backed by the Corleones\\' rivals, the Tattaglias, asks Vito for investment in the emerging drug trade and protection through his political connections. Vito disapproves of drug dealers, so he sends his enforcer,   Luca Brasi  Luca Brasi  , to spy on them. The family then receives two fish wrapped in Brasi\\'s vest, imparting that he \"sleeps with the fishes\". An assassination attempt by Sollozzo\\'s men lands Vito in the hospital, so his eldest son,   Sonny  Sonny  , takes command. Sollozzo kidnaps Hagen to pressure Sonny to accept his deal. Michael thwarts a second assassination attempt on his father at the hospital; his jaw is broken by Police Captain McCluskey, who is also Sollozzo\\'s bodyguard. Sonny retaliates for the attacks on his father by having Tattaglia\\'s son killed. Michael comes up with a plan to hit Sollozzo and McCluskey: on the pretext of settling the dispute, Michael accepts their offer to meet in a Bronx restaurant and, retrieving a planted handgun, murders them.  \\n  Despite a clampdown from the authorities, the Five Families erupt in open warfare and the brothers fear for their safety. Michael takes refuge in Sicily, and Fredo Corleone is sheltered by associate Moe Greene in Las Vegas. Sonny attacks his brother-in-law Carlo on the street for abusing his sister Connie and threatens to kill him if he abuses her again. When it happens again, Sonny speeds for her home but assassins ambush him at a highway toll booth and riddle him with submachine gun fire. Michael\\'s time abroad has led to marriage to Apollonia Vitelli. Their euphoria is shattered when a car bomb intended for him takes her life.  Despite a clampdown from the authorities, the   Five Families  Five Families   erupt in open warfare and the brothers fear for their safety. Michael takes refuge in Sicily, and   Fredo Corleone  Fredo Corleone   is sheltered by associate   Moe Greene  Moe Greene   in   Las Vegas  Las Vegas  . Sonny attacks his brother-in-law   Carlo  Carlo   on the street for abusing his sister Connie and threatens to kill him if he abuses her again. When it happens again, Sonny speeds for her home but assassins ambush him at a highway toll booth and riddle him with submachine gun fire. Michael\\'s time abroad has led to marriage to Apollonia Vitelli. Their euphoria is shattered when a car bomb intended for him takes her life.  \\n  Devastated by Sonny\\'s death, Vito decides to end the feuds. Realising that the Tattaglias were under orders of the now dominant Don Emilio Barzini, he promises, before the heads of the Five Families, to withdraw his opposition to their heroin business and forgo revenge for his son\\'s murder. His safety guaranteed, Michael returns home to a father saddened by his involvement in the family business and marries Kay the next year.  Devastated by Sonny\\'s death, Vito decides to end the feuds. Realising that the Tattaglias were under orders of the now dominant Don   Emilio Barzini  Emilio Barzini  , he promises, before the heads of the Five Families, to withdraw his opposition to their heroin business and forgo revenge for his son\\'s murder. His safety guaranteed, Michael returns home to a father saddened by his involvement in the family business and marries Kay the next year.  \\n  With his father at the end of his career and his surviving brother too weak, Michael takes the reins of the family, promising Kay that he will make the business legitimate within five years. To that end, he insists Hagen relocate to Las Vegas and relinquish his role to Vito because Tom is not a \"wartime consigliere\"; the older man agrees Tom should \"have no part in what will happen\" in the coming battles with rival families. When Michael travels to Las Vegas to buy out Greene\\'s stake in the family\\'s casinos, Greene derides the Corleones as a fading power. To add injury to insult, Michael sees Fredo falling under Greene\\'s sway.  With his father at the end of his career and his surviving brother too weak, Michael takes the reins of the family, promising Kay that he will make the business legitimate within five years. To that end, he insists Hagen relocate to Las Vegas and relinquish his role to Vito because Tom is not a \"wartime consigliere\"; the older man agrees Tom should \"have no part in what will happen\" in the coming battles with rival families. When Michael travels to Las Vegas to buy out Greene\\'s stake in the family\\'s casinos, Greene derides the Corleones as a fading power. To add injury to insult, Michael sees Fredo falling under Greene\\'s sway.  \\n  Vito collapses and dies in his garden while playing with Michael\\'s son, Anthony. At the funeral, Salvatore Tessio arranges a meeting between Michael and Don Barzini, signalling his treachery as Vito had warned. The meeting is set for the same day as the christening of Connie\\'s son, to whom Michael will stand as godfather. As the christening proceeds, Corleone assassins, acting on Michael\\'s orders, murder the other New York dons and Moe Greene. Tessio is told that Michael is aware of his betrayal and taken off to his death. After Carlo is questioned by Michael on his involvement in setting up Sonny\\'s murder and confesses he was contacted by Barzini, Peter Clemenza kills him with a wire garrote. Michael is confronted by Connie, who accuses him of having her husband killed. He denies killing Carlo when questioned by Kay, an answer she accepts. As Kay watches warily, Michael receives his capos, who address him as the new Don Corleone.  Vito collapses and dies in his garden while playing with Michael\\'s son,   Anthony  Anthony  . At the funeral,   Salvatore Tessio  Salvatore Tessio   arranges a meeting between Michael and Don Barzini, signalling his treachery as Vito had warned. The meeting is set for the same day as the christening of Connie\\'s son, to whom Michael will stand as godfather. As the christening proceeds, Corleone assassins, acting on Michael\\'s orders, murder the other New York dons and Moe Greene. Tessio is told that Michael is aware of his betrayal and taken off to his death. After Carlo is questioned by Michael on his involvement in setting up Sonny\\'s murder and confesses he was contacted by Barzini,   Peter Clemenza  Peter Clemenza   kills him with a wire   garrote  garrote  . Michael is confronted by Connie, who accuses him of having her husband killed. He denies killing Carlo when questioned by Kay, an answer she accepts. As Kay watches warily, Michael receives his   capos  capos  , who address him as the new Don Corleone.  \\n '"
      ]
     },
     "execution_count": 13,
     "metadata": {},
     "output_type": "execute_result"
    }
   ],
   "source": [
    "synopses_wiki[0]"
   ]
  },
  {
   "cell_type": "markdown",
   "metadata": {},
   "source": [
    "Read synopses information from imdb, which might be different from wiki. Also cleaned as above."
   ]
  },
  {
   "cell_type": "code",
   "execution_count": 14,
   "metadata": {
    "collapsed": true
   },
   "outputs": [],
   "source": [
    "synopses_imdb = open('data/synopses_list_imdb.txt').read().split('\\n BREAKS HERE')\n",
    "synopses_imdb = synopses_imdb[:100]\n",
    "\n",
    "synopses_clean_imdb = []\n",
    "\n",
    "for text in synopses_imdb:\n",
    "    text = BeautifulSoup(text, 'html.parser').getText()\n",
    "    synopses_clean_imdb.append(text)\n",
    "synopses_imdb = synopses_clean_imdb"
   ]
  },
  {
   "cell_type": "code",
   "execution_count": 15,
   "metadata": {
    "collapsed": true
   },
   "outputs": [
    {
     "data": {
      "text/plain": [
       "u'\\n\\nIn late summer 1945, guests are gathered for the wedding reception of Don Vito Corleone\\'s daughter Connie (Talia Shire) and Carlo Rizzi (Gianni Russo). Vito (Marlon Brando), the head of the Corleone Mafia family, is known to friends and associates as \"Godfather.\" He and Tom Hagen (Robert Duvall), the Corleone family lawyer, are hearing requests for favors because, according to Italian tradition, \"no Sicilian can refuse a request on his daughter\\'s wedding day.\" One of the men who asks the Don for a favor is Amerigo Bonasera, a successful mortician and acquaintance of the Don, whose daughter was brutally beaten by two young men because she refused their advances; the men received minimal punishment. The Don is disappointed in Bonasera, who\\'d avoided most contact with the Don due to Corleone\\'s nefarious business dealings. The Don\\'s wife is godmother to Bonasera\\'s shamed daughter, a relationship the Don uses to extract new loyalty from the undertaker. The Don agrees to have his men punish the young men responsible.Meanwhile, the Don\\'s youngest son Michael (Al Pacino), a decorated Marine hero returning from World War II service, arrives at the wedding and tells his girlfriend Kay Adams (Diane Keaton) anecdotes about his family, informing her about his father\\'s criminal life; he reassures her that he is different from his family and doesn\\'t plan to join them in their criminal dealings. The wedding scene serves as critical exposition for the remainder of the film, as Michael introduces the main characters to Kay. Fredo (John Cazale), Michael\\'s next older brother, is a bit dim-witted and quite drunk by the time he finds Michael at the party. Sonny (James Caan), the Don\\'s eldest child and next in line to become Don upon his father\\'s retirement, is married but he is a hot-tempered philanderer who sneaks into a bedroom to have sex with one of Connie\\'s bridesmaids, Lucy Mancini (Jeannie Linero). Tom Hagen is not related to the family by blood but is considered one of the Don\\'s sons because he was homeless when he befriended Sonny in the Little Italy neighborhood of Manhattan and the Don took him in. Now a talented attorney, Tom is being groomed for the important position of consigliere (counselor) to the Don, despite his non-Sicilian heritage.Also among the guests at the celebration is the famous singer Johnny Fontane (Al Martino), Corleone\\'s godson, who has come from Hollywood to petition Vito\\'s help in landing a movie role that will revitalize his flagging career. Jack Woltz (John Marley), the head of the studio, denies Fontane the part (a character much like Johnny himself), which will make him an even bigger star, but Don Corleone explains to Johnny: \"I\\'m gonna make him an offer he can\\'t refuse.\" The Don also receives congratulatory salutations from Luca Brasi, a terrifying enforcer in the criminal underworld, and fills a request from the baker who made Connie\\'s wedding cake who wishes for his nephew Enzo to become an American citizen.After the wedding, Hagen is dispatched to Los Angeles to meet with Woltz, but Woltz angrily tells him that he will never cast Fontane in the role. Woltz holds a grudge because Fontane seduced and \"ruined\" a starlet who Woltz had been grooming for stardom and with whom he had a sexual relationship. Woltz is persuaded to give Johnny the role, however, when he wakes up early the next morning and feels something wet in his bed. He pulls back the sheets and finds himself in a pool of blood; he screams in horror when he discovers the severed head of his prized $600,000 stud horse, Khartoum, in the bed with him. (A deleted scene from the film implies that Luca Brasi (Lenny Montana), Vito\\'s top \"button man\" or hitman, is responsible.)Upon Hagen\\'s return, the family meets with Virgil \"The Turk\" Sollozzo (Al Lettieri), who is being backed by the rival Tattaglia family. He asks Don Corleone for financing as well as political and legal protection for importing and distributing heroin. Despite the huge profit to be made, Vito Corleone refuses, explaining that his political influence would be jeopardized by a move into the narcotics trade. The Don\\'s eldest son, Sonny, who had earlier urged the family to enter the narcotics trade, breaks ranks during the meeting and questions Sollozzo\\'s assurances as to the Corleone Family\\'s investment being guaranteed by the Tattaglia Family. His father, angry at Sonny\\'s dissension in a non-family member\\'s presence, privately rebukes him later. Don Corleone then dispatches Luca Brasi to infiltrate Sollozzo\\'s organization and report back with information. During the meeting, while Brasi is bent over to allow Bruno Tattaglia to light his cigarette, he is stabbed in the hand by Sollozzo, and is subsequently garroted by an assassin.Soon after his meeting with Sollozzo, Don Corleone is gunned down in an assassination attempt just outside his office, and it is not immediately known whether he has survived. Fredo Corleone had been assigned driving and protection duty for his father when Paulie Gatto, the Don\\'s usual bodyguard, had called in sick. Fredo proves to be ineffectual, fumbling with his gun and unable to shoot back. When Sonny hears about the Don being shot and Paulie\\'s absence, he orders Clemenza (Richard S. Castellano) to find Paulie and bring him to the Don\\'s house.Sollozzo abducts Tom Hagen and persuades him to offer Sonny the deal previously offered to his father. Enraged, Sonny refuses to consider it and issues an ultimatum to the Tattaglias: turn over Sollozzo or face a lengthy, bloody and costly (for both sides) gang war. They refuse, and instead send Sonny \"a Sicilian message,\" in the form of two fresh fish wrapped in Luca Brasi\\'s bullet-proof vest, to tell the Corleones that Luca Brasi \"sleeps with the fishes.\"Clemenza later takes Paulie and one of the family\\'s hitmen, Rocco Lampone, for a drive into Manhattan. Sonny wants to \"go to the mattresses\" -- set up beds in apartments for Corleone button men to operate out of in the event that the crime war breaks out. On their way back from Manhattan, Clemenza has Paulie stop the car in a remote area so he can urinate. Rocco shoots Paulie dead; he and Clemenza leave Paulie and the car behind.Michael, whom the other Mafia families consider a \"civilian\" uninvolved in mob business, visits his father at a small private hospital. He is shocked to find that no one is guarding him. Realizing that his father is again being set up to be killed, he calls Sonny for help, moves his father to another room, and goes outside to watch the entrance. Michael enlists help from Enzo the baker (Gabriele Torrei), who has come to the hospital to pay his respects. Together, they bluff away Sollozzo\\'s men as they drive by. Police cars soon appear bringing the corrupt Captain McCluskey (Sterling Hayden), who viciously punches Michael in the cheek and breaks his jaw when Michael insinuates that Sollozzo paid McCluskey to set up his father. Just then, Hagen arrives with \"private detectives\" licensed to carry guns to protect Don Corleone, and he takes the injured Michael home. Sonny responds by having Bruno Tattaglia (Tony Giorgio), the eldest son and underboss of Don Phillip Tattaglia (Victor Rendina), killed (off-camera).Following the attempt on the Don\\'s life at the hospital, Sollozzo requests a meeting with the Corleones, which Captain McCluskey will attend as Sollozzo\\'s bodyguard. When Michael volunteers to kill both men during the meeting, Sonny and the other senior Family members are amused; however, Michael convinces them that he is serious and that killing Sollozzo and McCluskey is in the family\\'s interest: \"It\\'s not personal. It\\'s strictly business.\" Because Michael is considered a civilian, he won\\'t be regarded as a suspicious ambassador for the Corleones. Although police officers are usually off limits for hits, Michael argues that since McCluskey is corrupt and has illegal dealings with Sollozzo, he is fair game. Michael also implies that newspaper reporters that the Corleones have on their payroll would delight in publishing stories about a corrupt police captain.Michael meets with Clemenza, one of his father\\'s caporegimes (captains), who prepares a small pistol for him, covering the trigger and grip with tape to prevent any fingerprint evidence. He instructs Michael about the proper way to perform the assassination and tells him to leave the gun behind. He also tells Michael that the family were all very proud of Michael for becoming a war hero during his service in the Marines. Clemenza shows great confidence that Michael can perform the job and tells him it will all go smoothly. The plan is to have the Corleone\\'s informers find out the location of the meeting and plant the revolver before Michael, Sollozzo and McCluskey arrive.Before the meeting in a small Italian restaurant, McCluskey frisks Michael for weapons and finds him clean. Michael excuses himself to go to the bathroom, where he retrieves the planted revolver. Returning to the table, he fatally shoots Sollozzo, then McCluskey. Michael is sent to hide in Sicily while the Corleone family prepares for all-out warfare with the Five Families (who are united against the Corleones) as well as a general clampdown on the mob by the police and government authorities. When the don returns home from the hospital, he is distraught to learn that it was Michael who killed Sollozzo and McCluskey.Meanwhile, Connie and Carlo\\'s marriage is disintegrating. They argue publicly over Carlo\\'s suspected infidelity and his possessive behavior toward Connie. By Italian tradition, nobody, not even a high-ranking Mafia don, can intervene in a married couple\\'s personal disputes, even if they involve infidelity, money, or domestic abuse. One day, Sonny sees a bruise on Connie\\'s face and she tells him that Carlo hit her after she asked him if he was having an affair. Sonny tracks down and severely beats up Carlo Rizzi in the middle of a crowded street for brutalizing the pregnant Connie, and threatens to kill Carlo if he ever abuses Connie again. An angry Carlo responds by plotting with Tattaglia and Don Emilio Barzini (Richard Conte), the Corleones\\' chief rivals, to have Sonny killed.Later, Carlo has one of his mistresses phone his house, knowing that Connie will answer. The woman asks Connie to tell Carlo not to meet her tonight. The very pregnant and distraught Connie assaults Carlo; he takes advantage of the altercation to beat Connie in order to lure Sonny out in the open and away from the Corleone compound. When Connie phones the compound to tell Sonny that Carlo has beaten her again, the furious Sonny drives off (alone and unescorted) to fulfill his threat against Carlo. On the way to Connie and Carlo\\'s house, Sonny is ambushed at a toll booth on the Long Island Causeway and violently shot to death by several carloads of hitmen wielding Thompson sub-machine guns.Tom Hagen relays the news of Sonny\\'s massacre to the Don, who calls in the favor from Bonasera to personally handle the embalming of Sonny\\'s body. Rather than seek revenge for Sonny\\'s killing, Don Corleone meets with the heads of the Five Families to negotiate a cease-fire. Not only is the conflict draining all their assets and threatening their survival, but ending it is the only way that Michael can return home safely. Reversing his previous decision, Vito agrees that the Corleone family will provide political protection for Tattaglia\\'s traffic in heroin, as long as it is controlled and not sold to children. At the meeting, Don Corleone deduces that Don Barzini, not Tattaglia, was ultimately behind the start of the mob war and Sonny\\'s death.In Sicily, Michael patiently waits out his exile, protected by Don Tommasino (Corrado Gaipa), an old family friend. Michael aimlessly wanders the countryside, accompanied by his ever-present bodyguards, Calo (Franco Citti) and Fabrizio (Angelo Infanti). In a small village, Michael meets and falls in love with Apollonia Vitelli (Simonetta Stefanelli), the beautiful young daughter of a bar owner. They court and marry in the traditional Sicilian fashion, but soon Michael\\'s presence becomes known to Corleone enemies. As the couple is about to be moved to a safer location, Apollonia is killed as a result of a rigged car (originally intended for Michael), exploding on ignition; Michael, who watched the car blow up, spots Fabrizio hurriedly leaving the grounds seconds before the explosion, implicating him in the assassination plot. (In a deleted scene, Fabrizio is found years later and killed.)With his safety guaranteed, Michael returns home. More than a year later, in 1950, he reunites with his former girlfriend Kay after a total of four years of separation -- three in Italy and one in America. He tells her he wants them to be married. Although Kay is hurt that he waited so long to contact her, she accepts his proposal. With Don Vito semi-retired, Sonny dead, and middle brother Fredo considered incapable of running the family business, Michael is now in charge; he promises Kay he will make the family business completely legitimate within five years.Two years later, Clemenza and Salvatore Tessio (Abe Vigoda), complain that they are being pushed around by the Barzini Family and ask permission to strike back, but Michael denies the request. He plans to move the family operations to Nevada and after that, Clemenza and Tessio may break away to form their own families. Michael further promises Connie\\'s husband, Carlo, that he will be his right hand man in Nevada (Carlo had grown up there), unaware of his part in Sonny\\'s assassination. Tom Hagen has been removed as consigliere and is now merely the family\\'s lawyer, with Vito serving as consigliere. Privately, Hagen inquires about his change in status, and also questions Michael about a new regime of \"soldiers\" secretly being built under Rocco Lampone (Tom Rosqui). Don Vito explains to Hagen that Michael is acting on his advice.Another year or so later, Michael travels to Las Vegas and meets with Moe Greene (Alex Rocco), a rich and shrewd casino boss looking to expand his business dealings. After the Don\\'s attempted assassination, Fredo had been sent to Las Vegas to learn about the casino business from Greene. Michael arrogantly offers to buy out Greene but is rudely rebuffed. Greene believes the Corleones are weak and that he can secure a better deal from Barzini. As Moe and Michael heatedly negotiate, Fredo sides with Moe. Afterward, Michael warns Fredo to never again \"take sides with anyone against the family.\"Michael returns home. In a private moment, Vito explains his expectation that the Family\\'s enemies will attempt to murder Michael by using a trusted associate to arrange a meeting as a pretext for assassination. Vito also reveals that he had never really intended a life of crime for Michael, hoping that his youngest son would hold legitimate power as a senator or governor. Some months later, Vito collapses and dies while playing with his young grandson Anthony (Anthony Gounaris) in his tomato garden. At the burial, Tessio conveys a proposal for a meeting with Barzini, which identifies Tessio as the traitor that Vito was expecting.Michael arranges for a series of murders to occur simultaneously while he is standing godfather to Connie\\'s and Carlo\\'s newborn son at the church:Don Stracci (Don Costello) is gunned down along with his bodyguard in a hotel elevator by a shotgun-wielding Clemenza.Moe Greene is killed while having a massage, shot through the eye by an unidentified assassin.Don Cuneo (Rudy Bond) is trapped in a revolving door at the St. Regis Hotel and shot dead by soldier Willi Cicci (Joe Spinell).Don Tattaglia is assassinated in his bed, along with a prostitute, by Rocco Lampone and an unknown associate.Don Barzini is killed on the steps of his office building along with his bodyguard and driver, shot by Al Neri (Richard Bright), disguised in his old police uniform.After the baptism, Tessio believes he and Hagen are on their way to the meeting between Michael and Barzini that he has arranged. Instead, he is surrounded by Willi Cicci and other button men as Hagen steps away. Realizing that Michael has uncovered his betrayal, Tessio tells Hagen that he always respected Michael, and that his disloyalty \"was only business.\" He asks if Tom can get him off for \"old times\\' sake,\" but Tom says he cannot. Tessio is driven away and never seen again (it is implied that Cicci shoots and kills Tessio with his own gun after he disarms him prior to entering the car).Meanwhile, Michael confronts Carlo about Sonny\\'s murder and forces him to admit his role in setting up the ambush, having been approached by Barzini himself. (The hitmen who killed Sonny were the core members of Barzini\\'s personal bodyguard.) Michael assures Carlo he will not be killed, but his punishment is exclusion from all family business. He hands Carlo a plane ticket to exile in Las Vegas. However, when Carlo gets into a car headed for the airport, he is immediately garroted to death by Clemenza, on Michael\\'s orders.Later, a hysterical Connie confronts Michael at the Corleone compound as movers carry away the furniture in preparation for the family move to Nevada. She accuses him of murdering Carlo in retribution for Carlo\\'s brutal treatment of her and for Carlo\\'s suspected involvement in Sonny\\'s murder. After Connie is removed from the house, Kay questions Michael about Connie\\'s accusation, but he refuses to answer, reminding her to never ask him about his business or what he does for a living. She insists, and Michael outright lies, reassuring his wife that he played no role in Carlo\\'s death. Kay believes him and is relieved. The film ends with Clemenza and new caporegimes Rocco Lampone and Al Neri arriving and paying their respects to Michael. Clemenza kisses Michael\\'s hand and greets him as \"Don Corleone.\" As Kay watches, the office door is closed.\\n\\n'"
      ]
     },
     "execution_count": 15,
     "metadata": {},
     "output_type": "execute_result"
    }
   ],
   "source": [
    "synopses_imdb[0]"
   ]
  },
  {
   "cell_type": "markdown",
   "metadata": {},
   "source": [
    "Combine synopses from wiki and imdb"
   ]
  },
  {
   "cell_type": "code",
   "execution_count": 16,
   "metadata": {
    "collapsed": true
   },
   "outputs": [],
   "source": [
    "synopses = []\n",
    "for i in range(len(synopses_wiki)):\n",
    "    item = synopses_wiki[i] + synopses_imdb[i]\n",
    "    synopses.append(item)"
   ]
  },
  {
   "cell_type": "code",
   "execution_count": 17,
   "metadata": {},
   "outputs": [
    {
     "data": {
      "text/plain": [
       "u' Plot  [edit]  [  [  edit  edit  ]  ]  \\n  On the day of his only daughter\\'s wedding, Vito Corleone hears requests in his role as the Godfather, the Don of a New York crime family. Vito\\'s youngest son, Michael, in a Marine Corps uniform, introduces his girlfriend, Kay Adams, to his family at the sprawling reception. Vito\\'s godson Johnny Fontane, a popular singer, pleads for help in securing a coveted movie role, so Vito dispatches his consigliere, Tom Hagen, to Los Angeles to influence the abrasive studio head, Jack Woltz. Woltz is unmoved until the morning he wakes up in bed with the severed head of his prized stallion.  On the day of his only daughter\\'s wedding,   Vito Corleone  Vito Corleone   hears requests in his role as the Godfather, the   Don  Don   of a New York crime family. Vito\\'s youngest son,   Michael  Michael  , in a   Marine Corps  Marine Corps   uniform, introduces his girlfriend,   Kay Adams  Kay Adams  , to his family at the sprawling reception. Vito\\'s godson   Johnny Fontane  Johnny Fontane  , a popular singer, pleads for help in securing a coveted movie role, so Vito dispatches his   consigliere  consigliere  ,   Tom Hagen  Tom Hagen  , to Los Angeles to influence the abrasive studio head,   Jack Woltz  Jack Woltz  . Woltz is unmoved until the morning he wakes up in bed with the severed head of his prized   stallion  stallion  .  \\n  Shortly before Christmas 1945, drug baron Virgil \"The Turk\" Sollozzo, backed by the Corleones\\' rivals, the Tattaglias, asks Vito for investment in the emerging drug trade and protection through his political connections. Vito disapproves of drug dealers, so he sends his enforcer, Luca Brasi, to spy on them. The family then receives two fish wrapped in Brasi\\'s vest, imparting that he \"sleeps with the fishes\". An assassination attempt by Sollozzo\\'s men lands Vito in the hospital, so his eldest son, Sonny, takes command. Sollozzo kidnaps Hagen to pressure Sonny to accept his deal. Michael thwarts a second assassination attempt on his father at the hospital; his jaw is broken by Police Captain McCluskey, who is also Sollozzo\\'s bodyguard. Sonny retaliates for the attacks on his father by having Tattaglia\\'s son killed. Michael comes up with a plan to hit Sollozzo and McCluskey: on the pretext of settling the dispute, Michael accepts their offer to meet in a Bronx restaurant and, retrieving a planted handgun, murders them.  Shortly before Christmas 1945, drug baron   Virgil \"The Turk\" Sollozzo  Virgil \"The Turk\" Sollozzo  , backed by the Corleones\\' rivals, the Tattaglias, asks Vito for investment in the emerging drug trade and protection through his political connections. Vito disapproves of drug dealers, so he sends his enforcer,   Luca Brasi  Luca Brasi  , to spy on them. The family then receives two fish wrapped in Brasi\\'s vest, imparting that he \"sleeps with the fishes\". An assassination attempt by Sollozzo\\'s men lands Vito in the hospital, so his eldest son,   Sonny  Sonny  , takes command. Sollozzo kidnaps Hagen to pressure Sonny to accept his deal. Michael thwarts a second assassination attempt on his father at the hospital; his jaw is broken by Police Captain McCluskey, who is also Sollozzo\\'s bodyguard. Sonny retaliates for the attacks on his father by having Tattaglia\\'s son killed. Michael comes up with a plan to hit Sollozzo and McCluskey: on the pretext of settling the dispute, Michael accepts their offer to meet in a Bronx restaurant and, retrieving a planted handgun, murders them.  \\n  Despite a clampdown from the authorities, the Five Families erupt in open warfare and the brothers fear for their safety. Michael takes refuge in Sicily, and Fredo Corleone is sheltered by associate Moe Greene in Las Vegas. Sonny attacks his brother-in-law Carlo on the street for abusing his sister Connie and threatens to kill him if he abuses her again. When it happens again, Sonny speeds for her home but assassins ambush him at a highway toll booth and riddle him with submachine gun fire. Michael\\'s time abroad has led to marriage to Apollonia Vitelli. Their euphoria is shattered when a car bomb intended for him takes her life.  Despite a clampdown from the authorities, the   Five Families  Five Families   erupt in open warfare and the brothers fear for their safety. Michael takes refuge in Sicily, and   Fredo Corleone  Fredo Corleone   is sheltered by associate   Moe Greene  Moe Greene   in   Las Vegas  Las Vegas  . Sonny attacks his brother-in-law   Carlo  Carlo   on the street for abusing his sister Connie and threatens to kill him if he abuses her again. When it happens again, Sonny speeds for her home but assassins ambush him at a highway toll booth and riddle him with submachine gun fire. Michael\\'s time abroad has led to marriage to Apollonia Vitelli. Their euphoria is shattered when a car bomb intended for him takes her life.  \\n  Devastated by Sonny\\'s death, Vito decides to end the feuds. Realising that the Tattaglias were under orders of the now dominant Don Emilio Barzini, he promises, before the heads of the Five Families, to withdraw his opposition to their heroin business and forgo revenge for his son\\'s murder. His safety guaranteed, Michael returns home to a father saddened by his involvement in the family business and marries Kay the next year.  Devastated by Sonny\\'s death, Vito decides to end the feuds. Realising that the Tattaglias were under orders of the now dominant Don   Emilio Barzini  Emilio Barzini  , he promises, before the heads of the Five Families, to withdraw his opposition to their heroin business and forgo revenge for his son\\'s murder. His safety guaranteed, Michael returns home to a father saddened by his involvement in the family business and marries Kay the next year.  \\n  With his father at the end of his career and his surviving brother too weak, Michael takes the reins of the family, promising Kay that he will make the business legitimate within five years. To that end, he insists Hagen relocate to Las Vegas and relinquish his role to Vito because Tom is not a \"wartime consigliere\"; the older man agrees Tom should \"have no part in what will happen\" in the coming battles with rival families. When Michael travels to Las Vegas to buy out Greene\\'s stake in the family\\'s casinos, Greene derides the Corleones as a fading power. To add injury to insult, Michael sees Fredo falling under Greene\\'s sway.  With his father at the end of his career and his surviving brother too weak, Michael takes the reins of the family, promising Kay that he will make the business legitimate within five years. To that end, he insists Hagen relocate to Las Vegas and relinquish his role to Vito because Tom is not a \"wartime consigliere\"; the older man agrees Tom should \"have no part in what will happen\" in the coming battles with rival families. When Michael travels to Las Vegas to buy out Greene\\'s stake in the family\\'s casinos, Greene derides the Corleones as a fading power. To add injury to insult, Michael sees Fredo falling under Greene\\'s sway.  \\n  Vito collapses and dies in his garden while playing with Michael\\'s son, Anthony. At the funeral, Salvatore Tessio arranges a meeting between Michael and Don Barzini, signalling his treachery as Vito had warned. The meeting is set for the same day as the christening of Connie\\'s son, to whom Michael will stand as godfather. As the christening proceeds, Corleone assassins, acting on Michael\\'s orders, murder the other New York dons and Moe Greene. Tessio is told that Michael is aware of his betrayal and taken off to his death. After Carlo is questioned by Michael on his involvement in setting up Sonny\\'s murder and confesses he was contacted by Barzini, Peter Clemenza kills him with a wire garrote. Michael is confronted by Connie, who accuses him of having her husband killed. He denies killing Carlo when questioned by Kay, an answer she accepts. As Kay watches warily, Michael receives his capos, who address him as the new Don Corleone.  Vito collapses and dies in his garden while playing with Michael\\'s son,   Anthony  Anthony  . At the funeral,   Salvatore Tessio  Salvatore Tessio   arranges a meeting between Michael and Don Barzini, signalling his treachery as Vito had warned. The meeting is set for the same day as the christening of Connie\\'s son, to whom Michael will stand as godfather. As the christening proceeds, Corleone assassins, acting on Michael\\'s orders, murder the other New York dons and Moe Greene. Tessio is told that Michael is aware of his betrayal and taken off to his death. After Carlo is questioned by Michael on his involvement in setting up Sonny\\'s murder and confesses he was contacted by Barzini,   Peter Clemenza  Peter Clemenza   kills him with a wire   garrote  garrote  . Michael is confronted by Connie, who accuses him of having her husband killed. He denies killing Carlo when questioned by Kay, an answer she accepts. As Kay watches warily, Michael receives his   capos  capos  , who address him as the new Don Corleone.  \\n \\n\\nIn late summer 1945, guests are gathered for the wedding reception of Don Vito Corleone\\'s daughter Connie (Talia Shire) and Carlo Rizzi (Gianni Russo). Vito (Marlon Brando), the head of the Corleone Mafia family, is known to friends and associates as \"Godfather.\" He and Tom Hagen (Robert Duvall), the Corleone family lawyer, are hearing requests for favors because, according to Italian tradition, \"no Sicilian can refuse a request on his daughter\\'s wedding day.\" One of the men who asks the Don for a favor is Amerigo Bonasera, a successful mortician and acquaintance of the Don, whose daughter was brutally beaten by two young men because she refused their advances; the men received minimal punishment. The Don is disappointed in Bonasera, who\\'d avoided most contact with the Don due to Corleone\\'s nefarious business dealings. The Don\\'s wife is godmother to Bonasera\\'s shamed daughter, a relationship the Don uses to extract new loyalty from the undertaker. The Don agrees to have his men punish the young men responsible.Meanwhile, the Don\\'s youngest son Michael (Al Pacino), a decorated Marine hero returning from World War II service, arrives at the wedding and tells his girlfriend Kay Adams (Diane Keaton) anecdotes about his family, informing her about his father\\'s criminal life; he reassures her that he is different from his family and doesn\\'t plan to join them in their criminal dealings. The wedding scene serves as critical exposition for the remainder of the film, as Michael introduces the main characters to Kay. Fredo (John Cazale), Michael\\'s next older brother, is a bit dim-witted and quite drunk by the time he finds Michael at the party. Sonny (James Caan), the Don\\'s eldest child and next in line to become Don upon his father\\'s retirement, is married but he is a hot-tempered philanderer who sneaks into a bedroom to have sex with one of Connie\\'s bridesmaids, Lucy Mancini (Jeannie Linero). Tom Hagen is not related to the family by blood but is considered one of the Don\\'s sons because he was homeless when he befriended Sonny in the Little Italy neighborhood of Manhattan and the Don took him in. Now a talented attorney, Tom is being groomed for the important position of consigliere (counselor) to the Don, despite his non-Sicilian heritage.Also among the guests at the celebration is the famous singer Johnny Fontane (Al Martino), Corleone\\'s godson, who has come from Hollywood to petition Vito\\'s help in landing a movie role that will revitalize his flagging career. Jack Woltz (John Marley), the head of the studio, denies Fontane the part (a character much like Johnny himself), which will make him an even bigger star, but Don Corleone explains to Johnny: \"I\\'m gonna make him an offer he can\\'t refuse.\" The Don also receives congratulatory salutations from Luca Brasi, a terrifying enforcer in the criminal underworld, and fills a request from the baker who made Connie\\'s wedding cake who wishes for his nephew Enzo to become an American citizen.After the wedding, Hagen is dispatched to Los Angeles to meet with Woltz, but Woltz angrily tells him that he will never cast Fontane in the role. Woltz holds a grudge because Fontane seduced and \"ruined\" a starlet who Woltz had been grooming for stardom and with whom he had a sexual relationship. Woltz is persuaded to give Johnny the role, however, when he wakes up early the next morning and feels something wet in his bed. He pulls back the sheets and finds himself in a pool of blood; he screams in horror when he discovers the severed head of his prized $600,000 stud horse, Khartoum, in the bed with him. (A deleted scene from the film implies that Luca Brasi (Lenny Montana), Vito\\'s top \"button man\" or hitman, is responsible.)Upon Hagen\\'s return, the family meets with Virgil \"The Turk\" Sollozzo (Al Lettieri), who is being backed by the rival Tattaglia family. He asks Don Corleone for financing as well as political and legal protection for importing and distributing heroin. Despite the huge profit to be made, Vito Corleone refuses, explaining that his political influence would be jeopardized by a move into the narcotics trade. The Don\\'s eldest son, Sonny, who had earlier urged the family to enter the narcotics trade, breaks ranks during the meeting and questions Sollozzo\\'s assurances as to the Corleone Family\\'s investment being guaranteed by the Tattaglia Family. His father, angry at Sonny\\'s dissension in a non-family member\\'s presence, privately rebukes him later. Don Corleone then dispatches Luca Brasi to infiltrate Sollozzo\\'s organization and report back with information. During the meeting, while Brasi is bent over to allow Bruno Tattaglia to light his cigarette, he is stabbed in the hand by Sollozzo, and is subsequently garroted by an assassin.Soon after his meeting with Sollozzo, Don Corleone is gunned down in an assassination attempt just outside his office, and it is not immediately known whether he has survived. Fredo Corleone had been assigned driving and protection duty for his father when Paulie Gatto, the Don\\'s usual bodyguard, had called in sick. Fredo proves to be ineffectual, fumbling with his gun and unable to shoot back. When Sonny hears about the Don being shot and Paulie\\'s absence, he orders Clemenza (Richard S. Castellano) to find Paulie and bring him to the Don\\'s house.Sollozzo abducts Tom Hagen and persuades him to offer Sonny the deal previously offered to his father. Enraged, Sonny refuses to consider it and issues an ultimatum to the Tattaglias: turn over Sollozzo or face a lengthy, bloody and costly (for both sides) gang war. They refuse, and instead send Sonny \"a Sicilian message,\" in the form of two fresh fish wrapped in Luca Brasi\\'s bullet-proof vest, to tell the Corleones that Luca Brasi \"sleeps with the fishes.\"Clemenza later takes Paulie and one of the family\\'s hitmen, Rocco Lampone, for a drive into Manhattan. Sonny wants to \"go to the mattresses\" -- set up beds in apartments for Corleone button men to operate out of in the event that the crime war breaks out. On their way back from Manhattan, Clemenza has Paulie stop the car in a remote area so he can urinate. Rocco shoots Paulie dead; he and Clemenza leave Paulie and the car behind.Michael, whom the other Mafia families consider a \"civilian\" uninvolved in mob business, visits his father at a small private hospital. He is shocked to find that no one is guarding him. Realizing that his father is again being set up to be killed, he calls Sonny for help, moves his father to another room, and goes outside to watch the entrance. Michael enlists help from Enzo the baker (Gabriele Torrei), who has come to the hospital to pay his respects. Together, they bluff away Sollozzo\\'s men as they drive by. Police cars soon appear bringing the corrupt Captain McCluskey (Sterling Hayden), who viciously punches Michael in the cheek and breaks his jaw when Michael insinuates that Sollozzo paid McCluskey to set up his father. Just then, Hagen arrives with \"private detectives\" licensed to carry guns to protect Don Corleone, and he takes the injured Michael home. Sonny responds by having Bruno Tattaglia (Tony Giorgio), the eldest son and underboss of Don Phillip Tattaglia (Victor Rendina), killed (off-camera).Following the attempt on the Don\\'s life at the hospital, Sollozzo requests a meeting with the Corleones, which Captain McCluskey will attend as Sollozzo\\'s bodyguard. When Michael volunteers to kill both men during the meeting, Sonny and the other senior Family members are amused; however, Michael convinces them that he is serious and that killing Sollozzo and McCluskey is in the family\\'s interest: \"It\\'s not personal. It\\'s strictly business.\" Because Michael is considered a civilian, he won\\'t be regarded as a suspicious ambassador for the Corleones. Although police officers are usually off limits for hits, Michael argues that since McCluskey is corrupt and has illegal dealings with Sollozzo, he is fair game. Michael also implies that newspaper reporters that the Corleones have on their payroll would delight in publishing stories about a corrupt police captain.Michael meets with Clemenza, one of his father\\'s caporegimes (captains), who prepares a small pistol for him, covering the trigger and grip with tape to prevent any fingerprint evidence. He instructs Michael about the proper way to perform the assassination and tells him to leave the gun behind. He also tells Michael that the family were all very proud of Michael for becoming a war hero during his service in the Marines. Clemenza shows great confidence that Michael can perform the job and tells him it will all go smoothly. The plan is to have the Corleone\\'s informers find out the location of the meeting and plant the revolver before Michael, Sollozzo and McCluskey arrive.Before the meeting in a small Italian restaurant, McCluskey frisks Michael for weapons and finds him clean. Michael excuses himself to go to the bathroom, where he retrieves the planted revolver. Returning to the table, he fatally shoots Sollozzo, then McCluskey. Michael is sent to hide in Sicily while the Corleone family prepares for all-out warfare with the Five Families (who are united against the Corleones) as well as a general clampdown on the mob by the police and government authorities. When the don returns home from the hospital, he is distraught to learn that it was Michael who killed Sollozzo and McCluskey.Meanwhile, Connie and Carlo\\'s marriage is disintegrating. They argue publicly over Carlo\\'s suspected infidelity and his possessive behavior toward Connie. By Italian tradition, nobody, not even a high-ranking Mafia don, can intervene in a married couple\\'s personal disputes, even if they involve infidelity, money, or domestic abuse. One day, Sonny sees a bruise on Connie\\'s face and she tells him that Carlo hit her after she asked him if he was having an affair. Sonny tracks down and severely beats up Carlo Rizzi in the middle of a crowded street for brutalizing the pregnant Connie, and threatens to kill Carlo if he ever abuses Connie again. An angry Carlo responds by plotting with Tattaglia and Don Emilio Barzini (Richard Conte), the Corleones\\' chief rivals, to have Sonny killed.Later, Carlo has one of his mistresses phone his house, knowing that Connie will answer. The woman asks Connie to tell Carlo not to meet her tonight. The very pregnant and distraught Connie assaults Carlo; he takes advantage of the altercation to beat Connie in order to lure Sonny out in the open and away from the Corleone compound. When Connie phones the compound to tell Sonny that Carlo has beaten her again, the furious Sonny drives off (alone and unescorted) to fulfill his threat against Carlo. On the way to Connie and Carlo\\'s house, Sonny is ambushed at a toll booth on the Long Island Causeway and violently shot to death by several carloads of hitmen wielding Thompson sub-machine guns.Tom Hagen relays the news of Sonny\\'s massacre to the Don, who calls in the favor from Bonasera to personally handle the embalming of Sonny\\'s body. Rather than seek revenge for Sonny\\'s killing, Don Corleone meets with the heads of the Five Families to negotiate a cease-fire. Not only is the conflict draining all their assets and threatening their survival, but ending it is the only way that Michael can return home safely. Reversing his previous decision, Vito agrees that the Corleone family will provide political protection for Tattaglia\\'s traffic in heroin, as long as it is controlled and not sold to children. At the meeting, Don Corleone deduces that Don Barzini, not Tattaglia, was ultimately behind the start of the mob war and Sonny\\'s death.In Sicily, Michael patiently waits out his exile, protected by Don Tommasino (Corrado Gaipa), an old family friend. Michael aimlessly wanders the countryside, accompanied by his ever-present bodyguards, Calo (Franco Citti) and Fabrizio (Angelo Infanti). In a small village, Michael meets and falls in love with Apollonia Vitelli (Simonetta Stefanelli), the beautiful young daughter of a bar owner. They court and marry in the traditional Sicilian fashion, but soon Michael\\'s presence becomes known to Corleone enemies. As the couple is about to be moved to a safer location, Apollonia is killed as a result of a rigged car (originally intended for Michael), exploding on ignition; Michael, who watched the car blow up, spots Fabrizio hurriedly leaving the grounds seconds before the explosion, implicating him in the assassination plot. (In a deleted scene, Fabrizio is found years later and killed.)With his safety guaranteed, Michael returns home. More than a year later, in 1950, he reunites with his former girlfriend Kay after a total of four years of separation -- three in Italy and one in America. He tells her he wants them to be married. Although Kay is hurt that he waited so long to contact her, she accepts his proposal. With Don Vito semi-retired, Sonny dead, and middle brother Fredo considered incapable of running the family business, Michael is now in charge; he promises Kay he will make the family business completely legitimate within five years.Two years later, Clemenza and Salvatore Tessio (Abe Vigoda), complain that they are being pushed around by the Barzini Family and ask permission to strike back, but Michael denies the request. He plans to move the family operations to Nevada and after that, Clemenza and Tessio may break away to form their own families. Michael further promises Connie\\'s husband, Carlo, that he will be his right hand man in Nevada (Carlo had grown up there), unaware of his part in Sonny\\'s assassination. Tom Hagen has been removed as consigliere and is now merely the family\\'s lawyer, with Vito serving as consigliere. Privately, Hagen inquires about his change in status, and also questions Michael about a new regime of \"soldiers\" secretly being built under Rocco Lampone (Tom Rosqui). Don Vito explains to Hagen that Michael is acting on his advice.Another year or so later, Michael travels to Las Vegas and meets with Moe Greene (Alex Rocco), a rich and shrewd casino boss looking to expand his business dealings. After the Don\\'s attempted assassination, Fredo had been sent to Las Vegas to learn about the casino business from Greene. Michael arrogantly offers to buy out Greene but is rudely rebuffed. Greene believes the Corleones are weak and that he can secure a better deal from Barzini. As Moe and Michael heatedly negotiate, Fredo sides with Moe. Afterward, Michael warns Fredo to never again \"take sides with anyone against the family.\"Michael returns home. In a private moment, Vito explains his expectation that the Family\\'s enemies will attempt to murder Michael by using a trusted associate to arrange a meeting as a pretext for assassination. Vito also reveals that he had never really intended a life of crime for Michael, hoping that his youngest son would hold legitimate power as a senator or governor. Some months later, Vito collapses and dies while playing with his young grandson Anthony (Anthony Gounaris) in his tomato garden. At the burial, Tessio conveys a proposal for a meeting with Barzini, which identifies Tessio as the traitor that Vito was expecting.Michael arranges for a series of murders to occur simultaneously while he is standing godfather to Connie\\'s and Carlo\\'s newborn son at the church:Don Stracci (Don Costello) is gunned down along with his bodyguard in a hotel elevator by a shotgun-wielding Clemenza.Moe Greene is killed while having a massage, shot through the eye by an unidentified assassin.Don Cuneo (Rudy Bond) is trapped in a revolving door at the St. Regis Hotel and shot dead by soldier Willi Cicci (Joe Spinell).Don Tattaglia is assassinated in his bed, along with a prostitute, by Rocco Lampone and an unknown associate.Don Barzini is killed on the steps of his office building along with his bodyguard and driver, shot by Al Neri (Richard Bright), disguised in his old police uniform.After the baptism, Tessio believes he and Hagen are on their way to the meeting between Michael and Barzini that he has arranged. Instead, he is surrounded by Willi Cicci and other button men as Hagen steps away. Realizing that Michael has uncovered his betrayal, Tessio tells Hagen that he always respected Michael, and that his disloyalty \"was only business.\" He asks if Tom can get him off for \"old times\\' sake,\" but Tom says he cannot. Tessio is driven away and never seen again (it is implied that Cicci shoots and kills Tessio with his own gun after he disarms him prior to entering the car).Meanwhile, Michael confronts Carlo about Sonny\\'s murder and forces him to admit his role in setting up the ambush, having been approached by Barzini himself. (The hitmen who killed Sonny were the core members of Barzini\\'s personal bodyguard.) Michael assures Carlo he will not be killed, but his punishment is exclusion from all family business. He hands Carlo a plane ticket to exile in Las Vegas. However, when Carlo gets into a car headed for the airport, he is immediately garroted to death by Clemenza, on Michael\\'s orders.Later, a hysterical Connie confronts Michael at the Corleone compound as movers carry away the furniture in preparation for the family move to Nevada. She accuses him of murdering Carlo in retribution for Carlo\\'s brutal treatment of her and for Carlo\\'s suspected involvement in Sonny\\'s murder. After Connie is removed from the house, Kay questions Michael about Connie\\'s accusation, but he refuses to answer, reminding her to never ask him about his business or what he does for a living. She insists, and Michael outright lies, reassuring his wife that he played no role in Carlo\\'s death. Kay believes him and is relieved. The film ends with Clemenza and new caporegimes Rocco Lampone and Al Neri arriving and paying their respects to Michael. Clemenza kisses Michael\\'s hand and greets him as \"Don Corleone.\" As Kay watches, the office door is closed.\\n\\n'"
      ]
     },
     "execution_count": 17,
     "metadata": {},
     "output_type": "execute_result"
    }
   ],
   "source": [
    "synopses[0]"
   ]
  },
  {
   "cell_type": "code",
   "execution_count": 18,
   "metadata": {},
   "outputs": [
    {
     "name": "stdout",
     "output_type": "stream",
     "text": [
      "100 titles\n",
      "100 genres\n",
      "100 synopses\n"
     ]
    }
   ],
   "source": [
    "print(str(len(titles)) + ' titles')\n",
    "print(str(len(genres)) + ' genres')\n",
    "print(str(len(synopses)) + ' synopses')"
   ]
  },
  {
   "cell_type": "code",
   "execution_count": 19,
   "metadata": {},
   "outputs": [],
   "source": [
    "# generates index for each item in the corpora (in this case it's just rank) and I'll use this for scoring later\n",
    "# the movies in the list are already ranked from 1 to 100\n",
    "ranks = []\n",
    "for i in range(1, len(titles)+1):\n",
    "    ranks.append(i)"
   ]
  },
  {
   "cell_type": "code",
   "execution_count": 20,
   "metadata": {
    "collapsed": true
   },
   "outputs": [],
   "source": [
    "# load nltk's English stopwords as variable called 'stopwords'\n",
    "# use nltk.download() to install the corpus first\n",
    "# Stop Words are words which do not contain important significance to be used in Search Queries\n",
    "stopwords = nltk.corpus.stopwords.words('english')\n",
    "\n",
    "# load nltk's SnowballStemmer as variabled 'stemmer'\n",
    "stemmer = SnowballStemmer(\"english\")"
   ]
  },
  {
   "cell_type": "code",
   "execution_count": 21,
   "metadata": {},
   "outputs": [
    {
     "data": {
      "text/plain": [
       "153"
      ]
     },
     "execution_count": 21,
     "metadata": {},
     "output_type": "execute_result"
    }
   ],
   "source": [
    "len(stopwords)"
   ]
  },
  {
   "cell_type": "code",
   "execution_count": 22,
   "metadata": {},
   "outputs": [
    {
     "data": {
      "text/plain": [
       "[u'i',\n",
       " u'me',\n",
       " u'my',\n",
       " u'myself',\n",
       " u'we',\n",
       " u'our',\n",
       " u'ours',\n",
       " u'ourselves',\n",
       " u'you',\n",
       " u'your',\n",
       " u'yours',\n",
       " u'yourself',\n",
       " u'yourselves',\n",
       " u'he',\n",
       " u'him',\n",
       " u'his',\n",
       " u'himself',\n",
       " u'she',\n",
       " u'her',\n",
       " u'hers',\n",
       " u'herself',\n",
       " u'it',\n",
       " u'its',\n",
       " u'itself',\n",
       " u'they',\n",
       " u'them',\n",
       " u'their',\n",
       " u'theirs',\n",
       " u'themselves',\n",
       " u'what',\n",
       " u'which',\n",
       " u'who',\n",
       " u'whom',\n",
       " u'this',\n",
       " u'that',\n",
       " u'these',\n",
       " u'those',\n",
       " u'am',\n",
       " u'is',\n",
       " u'are',\n",
       " u'was',\n",
       " u'were',\n",
       " u'be',\n",
       " u'been',\n",
       " u'being',\n",
       " u'have',\n",
       " u'has',\n",
       " u'had',\n",
       " u'having',\n",
       " u'do',\n",
       " u'does',\n",
       " u'did',\n",
       " u'doing',\n",
       " u'a',\n",
       " u'an',\n",
       " u'the',\n",
       " u'and',\n",
       " u'but',\n",
       " u'if',\n",
       " u'or',\n",
       " u'because',\n",
       " u'as',\n",
       " u'until',\n",
       " u'while',\n",
       " u'of',\n",
       " u'at',\n",
       " u'by',\n",
       " u'for',\n",
       " u'with',\n",
       " u'about',\n",
       " u'against',\n",
       " u'between',\n",
       " u'into',\n",
       " u'through',\n",
       " u'during',\n",
       " u'before',\n",
       " u'after',\n",
       " u'above',\n",
       " u'below',\n",
       " u'to',\n",
       " u'from',\n",
       " u'up',\n",
       " u'down',\n",
       " u'in',\n",
       " u'out',\n",
       " u'on',\n",
       " u'off',\n",
       " u'over',\n",
       " u'under',\n",
       " u'again',\n",
       " u'further',\n",
       " u'then',\n",
       " u'once',\n",
       " u'here',\n",
       " u'there',\n",
       " u'when',\n",
       " u'where',\n",
       " u'why',\n",
       " u'how',\n",
       " u'all',\n",
       " u'any',\n",
       " u'both',\n",
       " u'each',\n",
       " u'few',\n",
       " u'more',\n",
       " u'most',\n",
       " u'other',\n",
       " u'some',\n",
       " u'such',\n",
       " u'no',\n",
       " u'nor',\n",
       " u'not',\n",
       " u'only',\n",
       " u'own',\n",
       " u'same',\n",
       " u'so',\n",
       " u'than',\n",
       " u'too',\n",
       " u'very',\n",
       " u's',\n",
       " u't',\n",
       " u'can',\n",
       " u'will',\n",
       " u'just',\n",
       " u'don',\n",
       " u'should',\n",
       " u'now',\n",
       " u'd',\n",
       " u'll',\n",
       " u'm',\n",
       " u'o',\n",
       " u're',\n",
       " u've',\n",
       " u'y',\n",
       " u'ain',\n",
       " u'aren',\n",
       " u'couldn',\n",
       " u'didn',\n",
       " u'doesn',\n",
       " u'hadn',\n",
       " u'hasn',\n",
       " u'haven',\n",
       " u'isn',\n",
       " u'ma',\n",
       " u'mightn',\n",
       " u'mustn',\n",
       " u'needn',\n",
       " u'shan',\n",
       " u'shouldn',\n",
       " u'wasn',\n",
       " u'weren',\n",
       " u'won',\n",
       " u'wouldn']"
      ]
     },
     "execution_count": 22,
     "metadata": {},
     "output_type": "execute_result"
    }
   ],
   "source": [
    "stopwords"
   ]
  },
  {
   "cell_type": "code",
   "execution_count": 23,
   "metadata": {
    "collapsed": true
   },
   "outputs": [],
   "source": [
    "sents = [sent for sent in nltk.sent_tokenize(\"Today (May 19, 2016) is his only daughter's wedding. Vito Corleone is the Godfather. Vito's youngest son, Michael, in a Marine Corps uniform, introduces his girlfriend, Kay Adams, to his family at the sprawling reception.\")]"
   ]
  },
  {
   "cell_type": "code",
   "execution_count": 24,
   "metadata": {},
   "outputs": [
    {
     "data": {
      "text/plain": [
       "[\"Today (May 19, 2016) is his only daughter's wedding.\",\n",
       " 'Vito Corleone is the Godfather.',\n",
       " \"Vito's youngest son, Michael, in a Marine Corps uniform, introduces his girlfriend, Kay Adams, to his family at the sprawling reception.\"]"
      ]
     },
     "execution_count": 24,
     "metadata": {},
     "output_type": "execute_result"
    }
   ],
   "source": [
    "sents"
   ]
  },
  {
   "cell_type": "code",
   "execution_count": 25,
   "metadata": {},
   "outputs": [
    {
     "data": {
      "text/plain": [
       "['Today',\n",
       " '(',\n",
       " 'May',\n",
       " '19',\n",
       " ',',\n",
       " '2016',\n",
       " ')',\n",
       " 'is',\n",
       " 'his',\n",
       " 'only',\n",
       " 'daughter',\n",
       " \"'s\",\n",
       " 'wedding',\n",
       " '.']"
      ]
     },
     "execution_count": 25,
     "metadata": {},
     "output_type": "execute_result"
    }
   ],
   "source": [
    "words = [word for word in nltk.word_tokenize(sents[0])]\n",
    "words"
   ]
  },
  {
   "cell_type": "code",
   "execution_count": 26,
   "metadata": {},
   "outputs": [
    {
     "data": {
      "text/plain": [
       "['Today', 'May', 'is', 'his', 'only', 'daughter', \"'s\", 'wedding']"
      ]
     },
     "execution_count": 26,
     "metadata": {},
     "output_type": "execute_result"
    }
   ],
   "source": [
    "# filter out any tokens not containing letters (e.g., numeric tokens, raw punctuation)\n",
    "filtered_words = []\n",
    "for word in words:\n",
    "        if re.search('[a-zA-Z]', word):\n",
    "            filtered_words.append(word)\n",
    "filtered_words"
   ]
  },
  {
   "cell_type": "code",
   "execution_count": 27,
   "metadata": {},
   "outputs": [
    {
     "data": {
      "text/plain": [
       "[u'today', u'may', 'is', u'his', u'onli', u'daughter', \"'s\", u'wed']"
      ]
     },
     "execution_count": 27,
     "metadata": {},
     "output_type": "execute_result"
    }
   ],
   "source": [
    "# see how \"only\" is stemmed to \"onli\" and \"wedding\" is stemmed to \"wed\"\n",
    "stems = [stemmer.stem(t) for t in filtered_words]\n",
    "stems"
   ]
  },
  {
   "cell_type": "code",
   "execution_count": 28,
   "metadata": {},
   "outputs": [],
   "source": [
    "# here I define a tokenizer and stemmer which returns the set of stems in the text that it is passed\n",
    "# Punkt Sentence Tokenizer, sent means sentence \n",
    "def tokenize_and_stem(text):\n",
    "    # first tokenize by sentence, then by word to ensure that punctuation is caught as it's own token\n",
    "    tokens = [word for sent in nltk.sent_tokenize(text) for word in nltk.word_tokenize(sent)]\n",
    "    filtered_tokens = []\n",
    "    # filter out any tokens not containing letters (e.g., numeric tokens, raw punctuation)\n",
    "    for token in tokens:\n",
    "        if re.search('[a-zA-Z]', token):\n",
    "            filtered_tokens.append(token)\n",
    "    stems = [stemmer.stem(t) for t in filtered_tokens]\n",
    "    return stems"
   ]
  },
  {
   "cell_type": "code",
   "execution_count": 29,
   "metadata": {
    "collapsed": true
   },
   "outputs": [],
   "source": [
    "\n",
    "def tokenize_only(text):\n",
    "    # first tokenize by sentence, then by word to ensure that punctuation is caught as it's own token\n",
    "    tokens = [word.lower() for sent in nltk.sent_tokenize(text) for word in nltk.word_tokenize(sent)]\n",
    "    filtered_tokens = []\n",
    "    # filter out any tokens not containing letters (e.g., numeric tokens, raw punctuation)\n",
    "    for token in tokens:\n",
    "        if re.search('[a-zA-Z]', token):\n",
    "            filtered_tokens.append(token)\n",
    "    return filtered_tokens"
   ]
  },
  {
   "cell_type": "code",
   "execution_count": 30,
   "metadata": {},
   "outputs": [
    {
     "name": "stdout",
     "output_type": "stream",
     "text": [
      "[u'today', u'may', 'is', u'his', u'onli', u'daughter', \"'s\", u'wed']\n"
     ]
    }
   ],
   "source": [
    "words_stemmed = tokenize_and_stem(\"Today (May 19, 2016) is his only daughter's wedding.\")\n",
    "print(words_stemmed)"
   ]
  },
  {
   "cell_type": "code",
   "execution_count": 31,
   "metadata": {},
   "outputs": [
    {
     "data": {
      "text/plain": [
       "['today', 'may', 'is', 'his', 'only', 'daughter', \"'s\", 'wedding']"
      ]
     },
     "execution_count": 31,
     "metadata": {},
     "output_type": "execute_result"
    }
   ],
   "source": [
    "words_only = tokenize_only(\"Today (May 19, 2016) is his only daughter's wedding.\")\n",
    "words_only"
   ]
  },
  {
   "cell_type": "markdown",
   "metadata": {},
   "source": [
    "Below I use my stemming/tokenizing and tokenizing functions to iterate over the list of synopses to create two vocabularies: one stemmed and one only tokenized"
   ]
  },
  {
   "cell_type": "code",
   "execution_count": 32,
   "metadata": {},
   "outputs": [
    {
     "name": "stdout",
     "output_type": "stream",
     "text": [
      "[3, 4, [1, 2]]\n",
      "[5, 6, 1, 2]\n"
     ]
    }
   ],
   "source": [
    "# extend vs. append\n",
    "a = [1, 2]\n",
    "b = [3, 4]\n",
    "c = [5, 6]\n",
    "b.append(a)\n",
    "c.extend(a)\n",
    "print(b)\n",
    "print(c)"
   ]
  },
  {
   "cell_type": "code",
   "execution_count": 33,
   "metadata": {},
   "outputs": [],
   "source": [
    "totalvocab_stemmed = []\n",
    "totalvocab_tokenized = []\n",
    "for i in synopses:\n",
    "    allwords_stemmed = tokenize_and_stem(i) # for each item in 'synopses', tokenize/stem\n",
    "    totalvocab_stemmed.extend(allwords_stemmed) # extend the 'totalvocab_stemmed' list\n",
    "    \n",
    "    allwords_tokenized = tokenize_only(i)\n",
    "    totalvocab_tokenized.extend(allwords_tokenized)"
   ]
  },
  {
   "cell_type": "code",
   "execution_count": 34,
   "metadata": {},
   "outputs": [
    {
     "name": "stdout",
     "output_type": "stream",
     "text": [
      "312280\n",
      "312280\n"
     ]
    }
   ],
   "source": [
    "print(len(totalvocab_stemmed))\n",
    "print(len(totalvocab_tokenized))"
   ]
  },
  {
   "cell_type": "code",
   "execution_count": 35,
   "metadata": {},
   "outputs": [
    {
     "name": "stdout",
     "output_type": "stream",
     "text": [
      "there are 312280 items in vocab_frame\n",
      "     words\n",
      "plot  plot\n",
      "edit  edit\n",
      "edit  edit\n",
      "edit  edit\n",
      "on      on\n"
     ]
    }
   ],
   "source": [
    "vocab_frame = pd.DataFrame({'words': totalvocab_tokenized}, index = totalvocab_stemmed)\n",
    "print('there are ' + str(vocab_frame.shape[0]) + ' items in vocab_frame')\n",
    "print(vocab_frame.head())"
   ]
  },
  {
   "cell_type": "code",
   "execution_count": 36,
   "metadata": {},
   "outputs": [
    {
     "name": "stdout",
     "output_type": "stream",
     "text": [
      "there are 8 items in words_frame\n",
      "              WORD\n",
      "today        today\n",
      "may            may\n",
      "is              is\n",
      "his            his\n",
      "onli          only\n",
      "daughter  daughter\n",
      "'s              's\n",
      "wed        wedding\n"
     ]
    }
   ],
   "source": [
    "words_frame = pd.DataFrame({'WORD': words_only}, index = words_stemmed)\n",
    "print('there are ' + str(words_frame.shape[0]) + ' items in words_frame')\n",
    "print(words_frame)"
   ]
  },
  {
   "cell_type": "markdown",
   "metadata": {},
   "source": [
    "Generate TF-IDF matrix (see http://scikit-learn.org/stable/modules/generated/sklearn.feature_extraction.text.TfidfVectorizer.html)\n",
    "\n",
    "max_df: this is the maximum frequency within the documents a given feature can have to be used in the tfi-idf matrix. If the term is in greater than 80% of the documents it probably cares little meanining (in the context of film synopses)\n",
    "\n",
    "min_idf: this could be an integer (e.g. 5) and the term would have to be in at least 5 of the documents to be considered. Here I pass 0.2; the term must be in at least 20% of the document. I found that if I allowed a lower min_df I ended up basing clustering on names--for example \"Michael\" or \"Tom\" are names found in several of the movies and the synopses use these names frequently, but the names carry no real meaning.\n",
    "\n",
    "ngram_range: this just means I'll look at unigrams, bigrams and trigrams"
   ]
  },
  {
   "cell_type": "code",
   "execution_count": 37,
   "metadata": {
    "scrolled": true
   },
   "outputs": [
    {
     "name": "stdout",
     "output_type": "stream",
     "text": [
      "CPU times: user 11 s, sys: 158 ms, total: 11.1 s\n",
      "Wall time: 11.3 s\n",
      "(100, 563)\n"
     ]
    },
    {
     "data": {
      "text/plain": [
       "563"
      ]
     },
     "execution_count": 37,
     "metadata": {},
     "output_type": "execute_result"
    }
   ],
   "source": [
    "# Note that the result of this block takes a while to show\n",
    "from sklearn.feature_extraction.text import TfidfVectorizer\n",
    "\n",
    "#define vectorizer parameters\n",
    "tfidf_vectorizer = TfidfVectorizer(max_df=0.8, max_features=200000,\n",
    "                                 min_df=0.2, stop_words='english',\n",
    "                                 use_idf=True, tokenizer=tokenize_and_stem, ngram_range=(1,3))\n",
    "\n",
    "%time tfidf_matrix = tfidf_vectorizer.fit_transform(synopses) #fit the vectorizer to synopses\n",
    "\n",
    "# (100, 563) means the matrix has 100 rows and 563 columns\n",
    "print(tfidf_matrix.shape)\n",
    "terms = tfidf_vectorizer.get_feature_names()\n",
    "len(terms)"
   ]
  },
  {
   "cell_type": "code",
   "execution_count": 40,
   "metadata": {
    "scrolled": true
   },
   "outputs": [
    {
     "name": "stdout",
     "output_type": "stream",
     "text": [
      "CPU times: user 4.5 ms, sys: 1.1 ms, total: 5.6 ms\n",
      "Wall time: 4.78 ms\n",
      "(3, 58)\n",
      "  (0, 14)\t0.293883860165\n",
      "  (0, 36)\t0.293883860165\n",
      "  (0, 45)\t0.293883860165\n",
      "  (0, 1)\t0.293883860165\n",
      "  (0, 13)\t0.293883860165\n",
      "  (0, 35)\t0.293883860165\n",
      "  (0, 44)\t0.293883860165\n",
      "  (0, 54)\t0.293883860165\n",
      "  (0, 0)\t0.223506250645\n",
      "  (0, 12)\t0.293883860165\n",
      "  (0, 34)\t0.293883860165\n",
      "  (0, 43)\t0.293883860165\n",
      "  (1, 53)\t0.423394483412\n",
      "  (1, 8)\t0.423394483412\n",
      "  (1, 52)\t0.423394483412\n",
      "  (1, 21)\t0.423394483412\n",
      "  (1, 7)\t0.423394483412\n",
      "  (1, 49)\t0.322002417819\n",
      "  (2, 17)\t0.155875983098\n",
      "  (2, 6)\t0.155875983098\n",
      "  (2, 27)\t0.155875983098\n",
      "  (2, 20)\t0.155875983098\n",
      "  (2, 24)\t0.155875983098\n",
      "  (2, 48)\t0.155875983098\n",
      "  (2, 11)\t0.155875983098\n",
      "  :\t:\n",
      "  (2, 19)\t0.155875983098\n",
      "  (2, 23)\t0.155875983098\n",
      "  (2, 47)\t0.155875983098\n",
      "  (2, 10)\t0.155875983098\n",
      "  (2, 29)\t0.155875983098\n",
      "  (2, 32)\t0.155875983098\n",
      "  (2, 39)\t0.155875983098\n",
      "  (2, 56)\t0.155875983098\n",
      "  (2, 2)\t0.155875983098\n",
      "  (2, 50)\t0.155875983098\n",
      "  (2, 37)\t0.155875983098\n",
      "  (2, 41)\t0.155875983098\n",
      "  (2, 15)\t0.155875983098\n",
      "  (2, 4)\t0.155875983098\n",
      "  (2, 25)\t0.155875983098\n",
      "  (2, 18)\t0.155875983098\n",
      "  (2, 22)\t0.155875983098\n",
      "  (2, 46)\t0.155875983098\n",
      "  (2, 9)\t0.155875983098\n",
      "  (2, 28)\t0.155875983098\n",
      "  (2, 31)\t0.155875983098\n",
      "  (2, 38)\t0.155875983098\n",
      "  (2, 55)\t0.155875983098\n",
      "  (2, 49)\t0.11854770292\n",
      "  (2, 0)\t0.11854770292\n",
      "[u'today', u'onli', u'daughter', u\"'s\", u'wed', u'today onli', u'onli daughter', u\"daughter 's\", u\"'s wed\", u'today onli daughter', u\"onli daughter 's\", u\"daughter 's wed\"]\n",
      "[u'vito', u'corleon', u'godfath', u'vito corleon', u'corleon godfath', u'vito corleon godfath']\n",
      "[u'vito', u\"'s\", u'youngest', u'son', u'michael', u'marin', u'corp', u'uniform', u'introduc', u'girlfriend', u'kay', u'adam', u'famili', u'sprawl', u'recept', u\"vito 's\", u\"'s youngest\", u'youngest son', u'son michael', u'michael marin', u'marin corp', u'corp uniform', u'uniform introduc', u'introduc girlfriend', u'girlfriend kay', u'kay adam', u'adam famili', u'famili sprawl', u'sprawl recept', u\"vito 's youngest\", u\"'s youngest son\", u'youngest son michael', u'son michael marin', u'michael marin corp', u'marin corp uniform', u'corp uniform introduc', u'uniform introduc girlfriend', u'introduc girlfriend kay', u'girlfriend kay adam', u'kay adam famili', u'adam famili sprawl', u'famili sprawl recept']\n",
      "[u\"'s\", u\"'s wed\", u\"'s youngest\", u\"'s youngest son\", u'adam', u'adam famili', u'adam famili sprawl', u'corleon', u'corleon godfath', u'corp', u'corp uniform', u'corp uniform introduc', u'daughter', u\"daughter 's\", u\"daughter 's wed\", u'famili', u'famili sprawl', u'famili sprawl recept', u'girlfriend', u'girlfriend kay', u'girlfriend kay adam', u'godfath', u'introduc', u'introduc girlfriend', u'introduc girlfriend kay', u'kay', u'kay adam', u'kay adam famili', u'marin', u'marin corp', u'marin corp uniform', u'michael', u'michael marin', u'michael marin corp', u'onli', u'onli daughter', u\"onli daughter 's\", u'recept', u'son', u'son michael', u'son michael marin', u'sprawl', u'sprawl recept', u'today', u'today onli', u'today onli daughter', u'uniform', u'uniform introduc', u'uniform introduc girlfriend', u'vito', u\"vito 's\", u\"vito 's youngest\", u'vito corleon', u'vito corleon godfath', u'wed', u'youngest', u'youngest son', u'youngest son michael']\n",
      "58\n"
     ]
    },
    {
     "data": {
      "text/plain": [
       "array([[ 1.        ,  0.        ,  0.02649615],\n",
       "       [ 0.        ,  1.        ,  0.03817265],\n",
       "       [ 0.02649615,  0.03817265,  1.        ]])"
      ]
     },
     "execution_count": 40,
     "metadata": {},
     "output_type": "execute_result"
    }
   ],
   "source": [
    "from sklearn.metrics.pairwise import cosine_similarity\n",
    "# A short example using the sentences above\n",
    "words_vectorizer = TfidfVectorizer(max_df=0.8, max_features=200000,\n",
    "                                 min_df=0.2, stop_words='english',\n",
    "                                 use_idf=True, tokenizer=tokenize_and_stem, ngram_range=(1,3))\n",
    "\n",
    "%time words_matrix = words_vectorizer.fit_transform(sents) #fit the vectorizer to synopses\n",
    "\n",
    "# (2, 18) means the matrix has 2 rows (two sentences) and 18 columns (18 terms)\n",
    "print(words_matrix.shape)\n",
    "print(words_matrix)\n",
    "\n",
    "# this is how we get the 18 terms\n",
    "analyze = words_vectorizer.build_analyzer()\n",
    "print(analyze(\"Today (May 19, 2016) is his only daughter's wedding.\"))\n",
    "print(analyze(\"Vito Corleone is the Godfather.\"))\n",
    "print(analyze(\"Vito's youngest son, Michael, in a Marine Corps uniform, introduces his girlfriend, Kay Adams, to his family at the sprawling reception.\"))\n",
    "all_terms = words_vectorizer.get_feature_names()\n",
    "print(all_terms)\n",
    "print(len(all_terms))\n",
    "\n",
    "# sent 1 and 2, similarity 0, sent 1 and 3 shares \"his\", sent 2 and 3 shares Vito - try to change Vito's in sent3 to His and see the similary matrix changes\n",
    "example_similarity = cosine_similarity(words_matrix)\n",
    "example_similarity"
   ]
  },
  {
   "cell_type": "markdown",
   "metadata": {},
   "source": [
    "Now onto the fun part. Using the tf-idf matrix, you can run a slew of clustering algorithms to better understand the hidden structure within the synopses. I first chose k-means. K-means initializes with a pre-determined number of clusters (I chose 5). Each observation is assigned to a cluster (cluster assignment) so as to minimize the within cluster sum of squares. Next, the mean of the clustered observations is calculated and used as the new cluster centroid. Then, observations are reassigned to clusters and centroids recalculated in an iterative process until the algorithm reaches convergence.\n",
    "\n",
    "I found it took several runs for the algorithm to converge a global optimum as k-means is susceptible to reaching local optima - how to decide that the algorithm converged???"
   ]
  },
  {
   "cell_type": "code",
   "execution_count": 41,
   "metadata": {},
   "outputs": [
    {
     "name": "stdout",
     "output_type": "stream",
     "text": [
      "CPU times: user 86.2 ms, sys: 3.07 ms, total: 89.3 ms\n",
      "Wall time: 90 ms\n"
     ]
    }
   ],
   "source": [
    "from sklearn.cluster import KMeans\n",
    "\n",
    "num_clusters = 5\n",
    "\n",
    "km = KMeans(n_clusters=num_clusters)\n",
    "\n",
    "%time km.fit(tfidf_matrix)\n",
    "\n",
    "clusters = km.labels_.tolist()"
   ]
  },
  {
   "cell_type": "markdown",
   "metadata": {},
   "source": [
    "I use joblib.dump to pickle the model, once it has converged and to reload the model/reassign the labels as the clusters."
   ]
  },
  {
   "cell_type": "code",
   "execution_count": 42,
   "metadata": {},
   "outputs": [
    {
     "name": "stdout",
     "output_type": "stream",
     "text": [
      "100\n",
      "[0, 1, 0, 2, 1, 2, 3, 2, 3, 2, 3, 2, 1, 1, 1, 2, 3, 1, 1, 3, 3, 1, 1, 1, 3, 2, 4, 2, 2, 3, 1, 3, 1, 3, 3, 3, 3, 3, 3, 2, 2, 4, 2, 2, 2, 2, 3, 3, 3, 1, 3, 2, 3, 3, 1, 3, 2, 3, 0, 0, 1, 3, 3, 1, 2, 4, 2, 4, 2, 3, 2, 2, 2, 2, 2, 4, 1, 0, 0, 3, 0, 3, 1, 2, 2, 2, 1, 3, 3, 3, 1, 1, 1, 2, 1, 1, 1, 1, 1, 2]\n"
     ]
    }
   ],
   "source": [
    "from sklearn.externals import joblib\n",
    "\n",
    "#uncomment the below to save your model \n",
    "#since I've already run my model I am loading from the pickle\n",
    "\n",
    "joblib.dump(km,  'doc_cluster.pkl')\n",
    "\n",
    "km = joblib.load('doc_cluster.pkl')\n",
    "clusters = km.labels_.tolist()\n",
    "# clusters show which cluster (0-4) each of the 100 synoposes belongs to\n",
    "print(len(clusters))\n",
    "print(clusters)"
   ]
  },
  {
   "cell_type": "markdown",
   "metadata": {},
   "source": [
    "Here, I create a dictionary of titles, ranks, the synopsis, the cluster assignment, and the genre [rank and genre were scraped from IMDB].\n",
    "I convert this dictionary to a Pandas DataFrame for easy access. I'm a huge fan of Pandas and recommend taking a look at some of its awesome functionality which I'll use below, but not describe in a ton of detail."
   ]
  },
  {
   "cell_type": "code",
   "execution_count": 43,
   "metadata": {},
   "outputs": [
    {
     "name": "stdout",
     "output_type": "stream",
     "text": [
      "    rank                                              title  cluster  \\\n",
      "0      1                                      The Godfather        0   \n",
      "1      2                           The Shawshank Redemption        1   \n",
      "0      3                                   Schindler's List        0   \n",
      "2      4                                        Raging Bull        2   \n",
      "1      5                                         Casablanca        1   \n",
      "2      6                    One Flew Over the Cuckoo's Nest        2   \n",
      "3      7                                 Gone with the Wind        3   \n",
      "2      8                                       Citizen Kane        2   \n",
      "3      9                                   The Wizard of Oz        3   \n",
      "2     10                                            Titanic        2   \n",
      "3     11                                 Lawrence of Arabia        3   \n",
      "2     12                             The Godfather: Part II        2   \n",
      "1     13                                             Psycho        1   \n",
      "1     14                                       Sunset Blvd.        1   \n",
      "1     15                                            Vertigo        1   \n",
      "2     16                                  On the Waterfront        2   \n",
      "3     17                                       Forrest Gump        3   \n",
      "1     18                                 The Sound of Music        1   \n",
      "1     19                                    West Side Story        1   \n",
      "3     20                                          Star Wars        3   \n",
      "3     21                         E.T. the Extra-Terrestrial        3   \n",
      "1     22                              2001: A Space Odyssey        1   \n",
      "1     23                           The Silence of the Lambs        1   \n",
      "1     24                                          Chinatown        1   \n",
      "3     25                       The Bridge on the River Kwai        3   \n",
      "2     26                                Singin' in the Rain        2   \n",
      "4     27                              It's a Wonderful Life        4   \n",
      "2     28                                   Some Like It Hot        2   \n",
      "2     29                                       12 Angry Men        2   \n",
      "3     30  Dr. Strangelove or: How I Learned to Stop Worr...        3   \n",
      "..   ...                                                ...      ...   \n",
      "2     71                                           Rain Man        2   \n",
      "2     72                                         Annie Hall        2   \n",
      "2     73                                      Out of Africa        2   \n",
      "2     74                                  Good Will Hunting        2   \n",
      "2     75                                Terms of Endearment        2   \n",
      "4     76                                            Tootsie        4   \n",
      "1     77                                              Fargo        1   \n",
      "0     78                                              Giant        0   \n",
      "0     79                                The Grapes of Wrath        0   \n",
      "3     80                                              Shane        3   \n",
      "0     81                                     The Green Mile        0   \n",
      "3     82                 Close Encounters of the Third Kind        3   \n",
      "1     83                                            Network        1   \n",
      "2     84                                          Nashville        2   \n",
      "2     85                                       The Graduate        2   \n",
      "2     86                                  American Graffiti        2   \n",
      "1     87                                       Pulp Fiction        1   \n",
      "3     88                                  The African Queen        3   \n",
      "3     89                                         Stagecoach        3   \n",
      "3     90                               Mutiny on the Bounty        3   \n",
      "1     91                                 The Maltese Falcon        1   \n",
      "1     92                                 A Clockwork Orange        1   \n",
      "1     93                                        Taxi Driver        1   \n",
      "2     94                                  Wuthering Heights        2   \n",
      "1     95                                   Double Indemnity        1   \n",
      "1     96                              Rebel Without a Cause        1   \n",
      "1     97                                        Rear Window        1   \n",
      "1     98                                      The Third Man        1   \n",
      "1     99                                 North by Northwest        1   \n",
      "2    100                                Yankee Doodle Dandy        2   \n",
      "\n",
      "                                                genre  \n",
      "0                              [u' Crime', u' Drama']  \n",
      "1                              [u' Crime', u' Drama']  \n",
      "0             [u' Biography', u' Drama', u' History']  \n",
      "2               [u' Biography', u' Drama', u' Sport']  \n",
      "1                   [u' Drama', u' Romance', u' War']  \n",
      "2                                         [u' Drama']  \n",
      "3                   [u' Drama', u' Romance', u' War']  \n",
      "2                            [u' Drama', u' Mystery']  \n",
      "3   [u' Adventure', u' Family', u' Fantasy', u' Mu...  \n",
      "2                            [u' Drama', u' Romance']  \n",
      "3   [u' Adventure', u' Biography', u' Drama', u' H...  \n",
      "2                              [u' Crime', u' Drama']  \n",
      "1             [u' Horror', u' Mystery', u' Thriller']  \n",
      "1                          [u' Drama', u' Film-Noir']  \n",
      "1            [u' Mystery', u' Romance', u' Thriller']  \n",
      "2                              [u' Crime', u' Drama']  \n",
      "3                            [u' Drama', u' Romance']  \n",
      "1   [u' Biography', u' Drama', u' Family', u' Musi...  \n",
      "1   [u' Crime', u' Drama', u' Musical', u' Romance...  \n",
      "3   [u' Action', u' Adventure', u' Fantasy', u' Sc...  \n",
      "3             [u' Adventure', u' Family', u' Sci-Fi']  \n",
      "1                           [u' Mystery', u' Sci-Fi']  \n",
      "1                [u' Crime', u' Drama', u' Thriller']  \n",
      "1              [u' Drama', u' Mystery', u' Thriller']  \n",
      "3                 [u' Adventure', u' Drama', u' War']  \n",
      "2              [u' Comedy', u' Musical', u' Romance']  \n",
      "4                [u' Drama', u' Family', u' Fantasy']  \n",
      "2                                        [u' Comedy']  \n",
      "2                                         [u' Drama']  \n",
      "3                               [u' Comedy', u' War']  \n",
      "..                                                ...  \n",
      "2                                         [u' Drama']  \n",
      "2                [u' Comedy', u' Drama', u' Romance']  \n",
      "2             [u' Biography', u' Drama', u' Romance']  \n",
      "2                                         [u' Drama']  \n",
      "2                             [u' Comedy', u' Drama']  \n",
      "4                [u' Comedy', u' Drama', u' Romance']  \n",
      "1                [u' Crime', u' Drama', u' Thriller']  \n",
      "0                            [u' Drama', u' Romance']  \n",
      "0                                         [u' Drama']  \n",
      "3               [u' Drama', u' Romance', u' Western']  \n",
      "0    [u' Crime', u' Drama', u' Fantasy', u' Mystery']  \n",
      "3                             [u' Drama', u' Sci-Fi']  \n",
      "1                                         [u' Drama']  \n",
      "2                              [u' Drama', u' Music']  \n",
      "2                [u' Comedy', u' Drama', u' Romance']  \n",
      "2                             [u' Comedy', u' Drama']  \n",
      "1                [u' Crime', u' Drama', u' Thriller']  \n",
      "3               [u' Adventure', u' Romance', u' War']  \n",
      "3                        [u' Adventure', u' Western']  \n",
      "3             [u' Adventure', u' Drama', u' History']  \n",
      "1             [u' Drama', u' Film-Noir', u' Mystery']  \n",
      "1                  [u' Crime', u' Drama', u' Sci-Fi']  \n",
      "1                              [u' Crime', u' Drama']  \n",
      "2                            [u' Drama', u' Romance']  \n",
      "1   [u' Crime', u' Drama', u' Film-Noir', u' Thril...  \n",
      "1                                         [u' Drama']  \n",
      "1                         [u' Mystery', u' Thriller']  \n",
      "1          [u' Film-Noir', u' Mystery', u' Thriller']  \n",
      "1                         [u' Mystery', u' Thriller']  \n",
      "2             [u' Biography', u' Drama', u' Musical']  \n",
      "\n",
      "[100 rows x 4 columns]\n"
     ]
    },
    {
     "data": {
      "text/plain": [
       "3    31\n",
       "2    30\n",
       "1    27\n",
       "0     7\n",
       "4     5\n",
       "dtype: int64"
      ]
     },
     "execution_count": 43,
     "metadata": {},
     "output_type": "execute_result"
    }
   ],
   "source": [
    "films = { 'title': titles, 'rank': ranks, 'synopsis': synopses, 'cluster': clusters, 'genre': genres }\n",
    "\n",
    "frame = pd.DataFrame(films, index = [clusters] , columns = ['rank', 'title', 'cluster', 'genre'])\n",
    "\n",
    "print(frame) # here the ranking is still 0 to 99\n",
    "\n",
    "frame['cluster'].value_counts() #number of films per cluster (clusters from 0 to 4)\n"
   ]
  },
  {
   "cell_type": "code",
   "execution_count": 44,
   "metadata": {},
   "outputs": [
    {
     "data": {
      "text/plain": [
       "cluster\n",
       "0    51.571429\n",
       "1    53.962963\n",
       "2    50.733333\n",
       "3    46.161290\n",
       "4    55.800000\n",
       "Name: rank, dtype: float64"
      ]
     },
     "execution_count": 44,
     "metadata": {},
     "output_type": "execute_result"
    }
   ],
   "source": [
    "grouped = frame['rank'].groupby(frame['cluster']) # groupby cluster for aggregation purposes\n",
    "\n",
    "grouped.mean() # average rank (1 to 100) per cluster"
   ]
  },
  {
   "cell_type": "markdown",
   "metadata": {},
   "source": [
    "Note that clusters 4 and 0 have the lowest rank, which indicates that they, on average, contain films that were ranked as \"better\" on the top 100 list.\n",
    "Here is some fancy indexing and sorting on each cluster to identify which are the top n (I chose n=6) words that are nearest to the cluster centroid. This gives a good sense of the main topic of the cluster."
   ]
  },
  {
   "cell_type": "code",
   "execution_count": 45,
   "metadata": {
    "scrolled": true
   },
   "outputs": [
    {
     "name": "stdout",
     "output_type": "stream",
     "text": [
      "Top terms per cluster:\n",
      "Cluster 0 words: family, camps, john, war, guarding, prison,\n",
      "\n",
      "Cluster 0 titles: The Godfather, Schindler's List, The Pianist, Goodfellas, Giant, The Grapes of Wrath, The Green Mile,\n",
      "\n",
      "Cluster 1 words: police, car, killed, apartments, murders, asks,\n",
      "\n",
      "Cluster 1 titles: The Shawshank Redemption, Casablanca, Psycho, Sunset Blvd., Vertigo, The Sound of Music, West Side Story, 2001: A Space Odyssey, The Silence of the Lambs, Chinatown, Amadeus, Gandhi, Jaws, The Apartment, The Exorcist, The French Connection, Fargo, Network, Pulp Fiction, The Maltese Falcon, A Clockwork Orange, Taxi Driver, Double Indemnity, Rebel Without a Cause, Rear Window, The Third Man, North by Northwest,\n",
      "\n",
      "Cluster 2 words: father, friends, new, love, brothers, relationship,\n",
      "\n",
      "Cluster 2 titles: Raging Bull, One Flew Over the Cuckoo's Nest, Citizen Kane, Titanic, The Godfather: Part II, On the Waterfront, Singin' in the Rain, Some Like It Hot, 12 Angry Men, Rocky, A Streetcar Named Desire, To Kill a Mockingbird, An American in Paris, The Best Years of Our Lives, My Fair Lady, The Good, the Bad and the Ugly, High Noon, City Lights, It Happened One Night, Midnight Cowboy, Rain Man, Annie Hall, Out of Africa, Good Will Hunting, Terms of Endearment, Nashville, The Graduate, American Graffiti, Wuthering Heights, Yankee Doodle Dandy,\n",
      "\n",
      "Cluster 3 words: killed, soldiers, army, men, war, command,\n",
      "\n",
      "Cluster 3 titles: Gone with the Wind, The Wizard of Oz, Lawrence of Arabia, Forrest Gump, Star Wars, E.T. the Extra-Terrestrial, The Bridge on the River Kwai, Dr. Strangelove or: How I Learned to Stop Worrying and Love the Bomb, Apocalypse Now, The Lord of the Rings: The Return of the King, Gladiator, From Here to Eternity, Saving Private Ryan, Unforgiven, Raiders of the Lost Ark, Ben-Hur, Doctor Zhivago, Patton, Braveheart, Butch Cassidy and the Sundance Kid, The Treasure of the Sierra Madre, Platoon, Dances with Wolves, The Deer Hunter, All Quiet on the Western Front, Mr. Smith Goes to Washington, Shane, Close Encounters of the Third Kind, The African Queen, Stagecoach, Mutiny on the Bounty,\n",
      "\n",
      "Cluster 4 words: george, marries, family, john, james, playing,\n",
      "\n",
      "Cluster 4 titles: It's a Wonderful Life, The Philadelphia Story, The King's Speech, A Place in the Sun, Tootsie,\n",
      "\n"
     ]
    }
   ],
   "source": [
    "from __future__ import print_function\n",
    "\n",
    "print(\"Top terms per cluster:\")\n",
    "\n",
    "#sort cluster centers by proximity to centroid\n",
    "order_centroids = km.cluster_centers_.argsort()[:, ::-1] \n",
    "\n",
    "for i in range(num_clusters):\n",
    "    print(\"Cluster %d words:\" % i, end='')\n",
    "    \n",
    "    for ind in order_centroids[i, :6]: #replace 6 with n words per cluster\n",
    "        print(' %s' % vocab_frame.ix[terms[ind].split(' ')].values.tolist()[0][0].encode('utf-8', 'ignore'), end=',')\n",
    "    print() #add whitespace\n",
    "    print() #add whitespace\n",
    "    \n",
    "    print(\"Cluster %d titles:\" % i, end='')\n",
    "    for title in frame.ix[i]['title'].values.tolist():\n",
    "        print(' %s,' % title, end='')\n",
    "    print() #add whitespace\n",
    "    print() #add whitespace\n"
   ]
  },
  {
   "cell_type": "markdown",
   "metadata": {
    "collapsed": true
   },
   "source": [
    "Cosine similarity is measured against the tf-idf matrix and can be used to generate a measure of similarity between each document and the other documents in the corpus (each synopsis among the synopses). cosine similarity 1 means the same document, 0 means totally different ones. dist is defined as 1 - the cosine similarity of each document.  Subtracting it from 1 provides cosine distance which I will use for plotting on a euclidean (2-dimensional) plane.\n",
    "Note that with dist it is possible to evaluate the similarity of any two or more synopses."
   ]
  },
  {
   "cell_type": "code",
   "execution_count": 46,
   "metadata": {},
   "outputs": [
    {
     "name": "stdout",
     "output_type": "stream",
     "text": [
      "<type 'numpy.ndarray'>\n",
      "(100, 100)\n"
     ]
    }
   ],
   "source": [
    "\n",
    "similarity_distance = 1 - cosine_similarity(tfidf_matrix)\n",
    "print(type(similarity_distance))\n",
    "print(similarity_distance.shape)"
   ]
  },
  {
   "cell_type": "markdown",
   "metadata": {
    "collapsed": true
   },
   "source": [
    "Multidimensional scaling\n",
    "Here is some code to convert the dist matrix into a 2-dimensional array using multidimensional scaling. I won't pretend I know a ton about MDS, but it was useful for this purpose. Another option would be to use principal component analysis."
   ]
  },
  {
   "cell_type": "code",
   "execution_count": 47,
   "metadata": {},
   "outputs": [
    {
     "name": "stdout",
     "output_type": "stream",
     "text": [
      "CPU times: user 326 ms, sys: 42.1 ms, total: 369 ms\n",
      "Wall time: 359 ms\n",
      "(100, 2)\n",
      "[[ 0.18426392 -0.01169842]\n",
      " [ 0.44205428 -0.27868322]\n",
      " [-0.03170436 -0.45668598]\n",
      " [-0.13229217  0.57451091]\n",
      " [-0.25841725 -0.26522602]\n",
      " [ 0.05785577  0.25692859]\n",
      " [ 0.05839869 -0.04611703]\n",
      " [ 0.01187013  0.46248536]\n",
      " [-0.43453171 -0.29660614]\n",
      " [ 0.60376368 -0.34565548]\n",
      " [-0.25091002 -0.57483642]\n",
      " [ 0.07160787  0.13140356]\n",
      " [-0.22762168  0.06857695]\n",
      " [-0.43010128  0.28541414]\n",
      " [-0.35281829  0.12701319]\n",
      " [-0.05335737  0.12312849]\n",
      " [ 0.35479363  0.00829071]\n",
      " [ 0.55258281  0.49022359]\n",
      " [-0.48428094  0.17299841]\n",
      " [ 0.19843471 -0.38928027]\n",
      " [-0.021734   -0.04272077]\n",
      " [ 0.35007455 -0.33949066]\n",
      " [ 0.51777172 -0.25365403]\n",
      " [-0.55227595 -0.22475587]\n",
      " [-0.0823774  -0.57842927]\n",
      " [-0.3416057   0.63448085]\n",
      " [ 0.4192022   0.58545205]\n",
      " [-0.17104807  0.23239529]\n",
      " [ 0.53065154  0.12944971]\n",
      " [-0.01629042 -0.63557262]\n",
      " [ 0.41546634  0.40696883]\n",
      " [ 0.01973405 -0.63603671]\n",
      " [ 0.4334202   0.14567842]\n",
      " [ 0.24384331 -0.50412021]\n",
      " [ 0.08014907 -0.47990208]\n",
      " [-0.15255046 -0.34087538]\n",
      " [-0.02008183 -0.35718795]\n",
      " [-0.15297793 -0.30140577]\n",
      " [-0.2275835  -0.45047495]\n",
      " [-0.28462978  0.27563061]\n",
      " [ 0.3432853   0.24600671]\n",
      " [ 0.66985503  0.11893282]\n",
      " [ 0.21420712  0.21832868]\n",
      " [-0.20373328  0.55978349]\n",
      " [ 0.3181654   0.08775294]\n",
      " [-0.19659297  0.39572611]\n",
      " [ 0.34423528 -0.13020602]\n",
      " [ 0.16075134 -0.1194213 ]\n",
      " [ 0.12888676 -0.66845737]\n",
      " [ 0.07966542 -0.38896099]\n",
      " [ 0.49287618 -0.14111075]\n",
      " [-0.06989475  0.56970554]\n",
      " [-0.34784461 -0.32584147]\n",
      " [-0.36089513 -0.48195991]\n",
      " [-0.59626379  0.19021679]\n",
      " [-0.1126573  -0.49931217]\n",
      " [-0.66226088 -0.20511077]\n",
      " [ 0.182711   -0.57874645]\n",
      " [ 0.15640009 -0.21297987]\n",
      " [ 0.20867879  0.06434285]\n",
      " [ 0.18341909  0.30290169]\n",
      " [-0.08782998 -0.20074237]\n",
      " [-0.18336929 -0.55511829]\n",
      " [-0.45991541  0.00765471]\n",
      " [ 0.56562552  0.34237018]\n",
      " [ 0.40204401  0.49870167]\n",
      " [-0.42083182  0.46280088]\n",
      " [ 0.66776271  0.26949909]\n",
      " [-0.30315864  0.47587324]\n",
      " [ 0.64486178 -0.15574389]\n",
      " [-0.18148083  0.47660132]\n",
      " [-0.02882419  0.65422293]\n",
      " [ 0.12096768  0.48126374]\n",
      " [ 0.12587206  0.41777887]\n",
      " [ 0.22007854  0.48005184]\n",
      " [-0.02227778  0.33877773]\n",
      " [-0.34166307  0.03630579]\n",
      " [ 0.48194364  0.00802308]\n",
      " [ 0.47591169 -0.43580765]\n",
      " [-0.551622    0.3348729 ]\n",
      " [-0.56740212 -0.35376318]\n",
      " [ 0.27514358 -0.29426793]\n",
      " [ 0.66883266 -0.08783277]\n",
      " [ 0.06195872  0.61008731]\n",
      " [-0.3243216   0.33129824]\n",
      " [-0.60124952 -0.04195025]\n",
      " [-0.34157801 -0.06842765]\n",
      " [-0.45337586 -0.44518883]\n",
      " [ 0.32441837 -0.45650361]\n",
      " [ 0.33505792 -0.64582081]\n",
      " [-0.33941629 -0.15117828]\n",
      " [-0.18745723  0.15085562]\n",
      " [-0.5521655   0.02884582]\n",
      " [ 0.18464212  0.57919673]\n",
      " [-0.46600116 -0.09932905]\n",
      " [-0.57915815  0.29025774]\n",
      " [-0.58107433  0.10578299]\n",
      " [-0.20839337 -0.05857405]\n",
      " [-0.19959167  0.00641655]\n",
      " [ 0.6272944   0.35950468]]\n",
      "<type 'numpy.ndarray'>\n"
     ]
    },
    {
     "data": {
      "text/plain": [
       "array([ 0.18426392,  0.44205428, -0.03170436, -0.13229217, -0.25841725,\n",
       "        0.05785577,  0.05839869,  0.01187013, -0.43453171,  0.60376368,\n",
       "       -0.25091002,  0.07160787, -0.22762168, -0.43010128, -0.35281829,\n",
       "       -0.05335737,  0.35479363,  0.55258281, -0.48428094,  0.19843471,\n",
       "       -0.021734  ,  0.35007455,  0.51777172, -0.55227595, -0.0823774 ,\n",
       "       -0.3416057 ,  0.4192022 , -0.17104807,  0.53065154, -0.01629042,\n",
       "        0.41546634,  0.01973405,  0.4334202 ,  0.24384331,  0.08014907,\n",
       "       -0.15255046, -0.02008183, -0.15297793, -0.2275835 , -0.28462978,\n",
       "        0.3432853 ,  0.66985503,  0.21420712, -0.20373328,  0.3181654 ,\n",
       "       -0.19659297,  0.34423528,  0.16075134,  0.12888676,  0.07966542,\n",
       "        0.49287618, -0.06989475, -0.34784461, -0.36089513, -0.59626379,\n",
       "       -0.1126573 , -0.66226088,  0.182711  ,  0.15640009,  0.20867879,\n",
       "        0.18341909, -0.08782998, -0.18336929, -0.45991541,  0.56562552,\n",
       "        0.40204401, -0.42083182,  0.66776271, -0.30315864,  0.64486178,\n",
       "       -0.18148083, -0.02882419,  0.12096768,  0.12587206,  0.22007854,\n",
       "       -0.02227778, -0.34166307,  0.48194364,  0.47591169, -0.551622  ,\n",
       "       -0.56740212,  0.27514358,  0.66883266,  0.06195872, -0.3243216 ,\n",
       "       -0.60124952, -0.34157801, -0.45337586,  0.32441837,  0.33505792,\n",
       "       -0.33941629, -0.18745723, -0.5521655 ,  0.18464212, -0.46600116,\n",
       "       -0.57915815, -0.58107433, -0.20839337, -0.19959167,  0.6272944 ])"
      ]
     },
     "execution_count": 47,
     "metadata": {},
     "output_type": "execute_result"
    }
   ],
   "source": [
    "import os  # for os.path.basename\n",
    "\n",
    "import matplotlib.pyplot as plt\n",
    "import matplotlib as mpl\n",
    "\n",
    "from sklearn.manifold import MDS\n",
    "\n",
    "# convert two components as we're plotting points in a two-dimensional plane\n",
    "# \"precomputed\" because we provide a distance matrix\n",
    "# we will also specify `random_state` so the plot is reproducible.\n",
    "mds = MDS(n_components=2, dissimilarity=\"precomputed\", random_state=1)\n",
    "\n",
    "%time pos = mds.fit_transform(similarity_distance)  # shape (n_components, n_samples)\n",
    "\n",
    "print(pos.shape)\n",
    "print(pos)\n",
    "\n",
    "xs, ys = pos[:, 0], pos[:, 1]\n",
    "print(type(xs))\n",
    "xs"
   ]
  },
  {
   "cell_type": "markdown",
   "metadata": {
    "collapsed": true
   },
   "source": [
    "Visualizing document clusters\n",
    "In this section, I demonstrate how you can visualize the document clustering output using matplotlib and mpld3 (a matplotlib wrapper for D3.js).\n",
    "First I define some dictionaries for going from cluster number to color and to cluster name. I based the cluster names off the words that were closest to each cluster centroid."
   ]
  },
  {
   "cell_type": "code",
   "execution_count": 48,
   "metadata": {
    "collapsed": true
   },
   "outputs": [],
   "source": [
    "#set up colors per clusters using a dict\n",
    "cluster_colors = {0: '#1b9e77', 1: '#d95f02', 2: '#7570b3', 3: '#e7298a', 4: '#66a61e'}\n",
    "\n",
    "#set up cluster names using a dict\n",
    "cluster_names = {0: 'Family, home, war', \n",
    "                 1: 'Police, killed, murders', \n",
    "                 2: 'Father, New York, brothers', \n",
    "                 3: 'Dance, singing, love', \n",
    "                 4: 'Killed, soldiers, captain'}\n"
   ]
  },
  {
   "cell_type": "markdown",
   "metadata": {},
   "source": [
    "Next, I plot the labeled observations (films, film titles) colored by cluster using matplotlib. I won't get into too much detail about the matplotlib plot, but I tried to provide some helpful commenting."
   ]
  },
  {
   "cell_type": "code",
   "execution_count": 49,
   "metadata": {},
   "outputs": [
    {
     "name": "stdout",
     "output_type": "stream",
     "text": [
      "   label                            title         x         y\n",
      "1      1         The Shawshank Redemption  0.442054 -0.278683\n",
      "2      0                 Schindler's List -0.031704 -0.456686\n",
      "3      2                      Raging Bull -0.132292  0.574511\n",
      "4      1                       Casablanca -0.258417 -0.265226\n",
      "5      2  One Flew Over the Cuckoo's Nest  0.057856  0.256929\n",
      "6      3               Gone with the Wind  0.058399 -0.046117\n",
      "7      2                     Citizen Kane  0.011870  0.462485\n",
      "8      3                 The Wizard of Oz -0.434532 -0.296606\n",
      "9      2                          Titanic  0.603764 -0.345655\n",
      "{0: [0, 2, 58, 59, 77, 78, 80], 1: [1, 4, 12, 13, 14, 17, 18, 21, 22, 23, 30, 32, 49, 54, 60, 63, 76, 82, 86, 90, 91, 92, 94, 95, 96, 97, 98], 2: [3, 5, 7, 9, 11, 15, 25, 27, 28, 39, 40, 42, 43, 44, 45, 51, 56, 64, 66, 68, 70, 71, 72, 73, 74, 83, 84, 85, 93, 99], 3: [6, 8, 10, 16, 19, 20, 24, 29, 31, 33, 34, 35, 36, 37, 38, 46, 47, 48, 50, 52, 53, 55, 57, 61, 62, 69, 79, 81, 87, 88, 89], 4: [26, 41, 65, 67, 75]}\n",
      "*******\n",
      "group name 0\n",
      "    label                title         x         y\n",
      "0       0        The Godfather  0.184264 -0.011698\n",
      "2       0     Schindler's List -0.031704 -0.456686\n",
      "58      0          The Pianist  0.156400 -0.212980\n",
      "59      0           Goodfellas  0.208679  0.064343\n",
      "77      0                Giant  0.481944  0.008023\n",
      "78      0  The Grapes of Wrath  0.475912 -0.435808\n",
      "80      0       The Green Mile -0.567402 -0.353763\n",
      "*******\n",
      "group name 1\n",
      "    label                     title         x         y\n",
      "1       1  The Shawshank Redemption  0.442054 -0.278683\n",
      "4       1                Casablanca -0.258417 -0.265226\n",
      "12      1                    Psycho -0.227622  0.068577\n",
      "13      1              Sunset Blvd. -0.430101  0.285414\n",
      "14      1                   Vertigo -0.352818  0.127013\n",
      "17      1        The Sound of Music  0.552583  0.490224\n",
      "18      1           West Side Story -0.484281  0.172998\n",
      "21      1     2001: A Space Odyssey  0.350075 -0.339491\n",
      "22      1  The Silence of the Lambs  0.517772 -0.253654\n",
      "23      1                 Chinatown -0.552276 -0.224756\n",
      "30      1                   Amadeus  0.415466  0.406969\n",
      "32      1                    Gandhi  0.433420  0.145678\n",
      "49      1                      Jaws  0.079665 -0.388961\n",
      "54      1             The Apartment -0.596264  0.190217\n",
      "60      1              The Exorcist  0.183419  0.302902\n",
      "63      1     The French Connection -0.459915  0.007655\n",
      "76      1                     Fargo -0.341663  0.036306\n",
      "82      1                   Network  0.668833 -0.087833\n",
      "86      1              Pulp Fiction -0.341578 -0.068428\n",
      "90      1        The Maltese Falcon -0.339416 -0.151178\n",
      "91      1        A Clockwork Orange -0.187457  0.150856\n",
      "92      1               Taxi Driver -0.552166  0.028846\n",
      "94      1          Double Indemnity -0.466001 -0.099329\n",
      "95      1     Rebel Without a Cause -0.579158  0.290258\n",
      "96      1               Rear Window -0.581074  0.105783\n",
      "97      1             The Third Man -0.208393 -0.058574\n",
      "98      1        North by Northwest -0.199592  0.006417\n",
      "*******\n",
      "group name 2\n",
      "    label                            title         x         y\n",
      "3       2                      Raging Bull -0.132292  0.574511\n",
      "5       2  One Flew Over the Cuckoo's Nest  0.057856  0.256929\n",
      "7       2                     Citizen Kane  0.011870  0.462485\n",
      "9       2                          Titanic  0.603764 -0.345655\n",
      "11      2           The Godfather: Part II  0.071608  0.131404\n",
      "15      2                On the Waterfront -0.053357  0.123128\n",
      "25      2              Singin' in the Rain -0.341606  0.634481\n",
      "27      2                 Some Like It Hot -0.171048  0.232395\n",
      "28      2                     12 Angry Men  0.530652  0.129450\n",
      "39      2                            Rocky -0.284630  0.275631\n",
      "40      2         A Streetcar Named Desire  0.343285  0.246007\n",
      "42      2            To Kill a Mockingbird  0.214207  0.218329\n",
      "43      2             An American in Paris -0.203733  0.559783\n",
      "44      2      The Best Years of Our Lives  0.318165  0.087753\n",
      "45      2                     My Fair Lady -0.196593  0.395726\n",
      "51      2   The Good, the Bad and the Ugly -0.069895  0.569706\n",
      "56      2                        High Noon -0.662261 -0.205111\n",
      "64      2                      City Lights  0.565626  0.342370\n",
      "66      2            It Happened One Night -0.420832  0.462801\n",
      "68      2                  Midnight Cowboy -0.303159  0.475873\n",
      "70      2                         Rain Man -0.181481  0.476601\n",
      "71      2                       Annie Hall -0.028824  0.654223\n",
      "72      2                    Out of Africa  0.120968  0.481264\n",
      "73      2                Good Will Hunting  0.125872  0.417779\n",
      "74      2              Terms of Endearment  0.220079  0.480052\n",
      "83      2                        Nashville  0.061959  0.610087\n",
      "84      2                     The Graduate -0.324322  0.331298\n",
      "85      2                American Graffiti -0.601250 -0.041950\n",
      "93      2                Wuthering Heights  0.184642  0.579197\n",
      "99      2              Yankee Doodle Dandy  0.627294  0.359505\n",
      "*******\n",
      "group name 3\n",
      "    label                                              title         x  \\\n",
      "6       3                                 Gone with the Wind  0.058399   \n",
      "8       3                                   The Wizard of Oz -0.434532   \n",
      "10      3                                 Lawrence of Arabia -0.250910   \n",
      "16      3                                       Forrest Gump  0.354794   \n",
      "19      3                                          Star Wars  0.198435   \n",
      "20      3                         E.T. the Extra-Terrestrial -0.021734   \n",
      "24      3                       The Bridge on the River Kwai -0.082377   \n",
      "29      3  Dr. Strangelove or: How I Learned to Stop Worr... -0.016290   \n",
      "31      3                                     Apocalypse Now  0.019734   \n",
      "33      3      The Lord of the Rings: The Return of the King  0.243843   \n",
      "34      3                                          Gladiator  0.080149   \n",
      "35      3                              From Here to Eternity -0.152550   \n",
      "36      3                                Saving Private Ryan -0.020082   \n",
      "37      3                                         Unforgiven -0.152978   \n",
      "38      3                            Raiders of the Lost Ark -0.227583   \n",
      "46      3                                            Ben-Hur  0.344235   \n",
      "47      3                                     Doctor Zhivago  0.160751   \n",
      "48      3                                             Patton  0.128887   \n",
      "50      3                                         Braveheart  0.492876   \n",
      "52      3                 Butch Cassidy and the Sundance Kid -0.347845   \n",
      "53      3                   The Treasure of the Sierra Madre -0.360895   \n",
      "55      3                                            Platoon -0.112657   \n",
      "57      3                                 Dances with Wolves  0.182711   \n",
      "61      3                                    The Deer Hunter -0.087830   \n",
      "62      3                     All Quiet on the Western Front -0.183369   \n",
      "69      3                       Mr. Smith Goes to Washington  0.644862   \n",
      "79      3                                              Shane -0.551622   \n",
      "81      3                 Close Encounters of the Third Kind  0.275144   \n",
      "87      3                                  The African Queen -0.453376   \n",
      "88      3                                         Stagecoach  0.324418   \n",
      "89      3                               Mutiny on the Bounty  0.335058   \n",
      "\n",
      "           y  \n",
      "6  -0.046117  \n",
      "8  -0.296606  \n",
      "10 -0.574836  \n",
      "16  0.008291  \n",
      "19 -0.389280  \n",
      "20 -0.042721  \n",
      "24 -0.578429  \n",
      "29 -0.635573  \n",
      "31 -0.636037  \n",
      "33 -0.504120  \n",
      "34 -0.479902  \n",
      "35 -0.340875  \n",
      "36 -0.357188  \n",
      "37 -0.301406  \n",
      "38 -0.450475  \n",
      "46 -0.130206  \n",
      "47 -0.119421  \n",
      "48 -0.668457  \n",
      "50 -0.141111  \n",
      "52 -0.325841  \n",
      "53 -0.481960  \n",
      "55 -0.499312  \n",
      "57 -0.578746  \n",
      "61 -0.200742  \n",
      "62 -0.555118  \n",
      "69 -0.155744  \n",
      "79  0.334873  \n",
      "81 -0.294268  \n",
      "87 -0.445189  \n",
      "88 -0.456504  \n",
      "89 -0.645821  \n",
      "*******\n",
      "group name 4\n",
      "    label                   title         x         y\n",
      "26      4   It's a Wonderful Life  0.419202  0.585452\n",
      "41      4  The Philadelphia Story  0.669855  0.118933\n",
      "65      4       The King's Speech  0.402044  0.498702\n",
      "67      4      A Place in the Sun  0.667763  0.269499\n",
      "75      4                 Tootsie -0.022278  0.338778\n"
     ]
    },
    {
     "data": {
      "image/png": "[encoded data removed]",
      "text/plain": [
       "<matplotlib.figure.Figure at 0x119181550>"
      ]
     },
     "metadata": {},
     "output_type": "display_data"
    }
   ],
   "source": [
    "#some ipython magic to show the matplotlib plots inline\n",
    "%matplotlib inline \n",
    "\n",
    "#create data frame that has the result of the MDS plus the cluster numbers and titles\n",
    "df = pd.DataFrame(dict(x=xs, y=ys, label=clusters, title=titles)) \n",
    "\n",
    "print(df[1:10])\n",
    "# group by cluster\n",
    "# this generate {name:group(which is a dataframe)}\n",
    "groups = df.groupby('label')\n",
    "print(groups.groups)\n",
    "\n",
    "\n",
    "# set up plot\n",
    "fig, ax = plt.subplots(figsize=(17, 9)) # set size\n",
    "# ax.margins(0.05) # Optional, just adds 5% padding to the autoscaling\n",
    "\n",
    "#iterate through groups to layer the plot\n",
    "#note that I use the cluster_name and cluster_color dicts with the 'name' lookup to return the appropriate color/label\n",
    "# ms: marker size\n",
    "for name, group in groups:\n",
    "    print(\"*******\")\n",
    "    print(\"group name \" + str(name))\n",
    "    print(group)\n",
    "    ax.plot(group.x, group.y, marker='o', linestyle='', ms=20, \n",
    "            label=cluster_names[name], color=cluster_colors[name], \n",
    "            mec='none')\n",
    "    ax.set_aspect('auto')\n",
    "    ax.tick_params(\\\n",
    "        axis= 'x',          # changes apply to the x-axis\n",
    "        which='both',      # both major and minor ticks are affected\n",
    "        bottom='off',      # ticks along the bottom edge are off\n",
    "        top='off',         # ticks along the top edge are off\n",
    "        labelbottom='off')\n",
    "    ax.tick_params(\\\n",
    "        axis= 'y',         # changes apply to the y-axis\n",
    "        which='both',      # both major and minor ticks are affected\n",
    "        left='off',      # ticks along the bottom edge are off\n",
    "        top='off',         # ticks along the top edge are off\n",
    "        labelleft='off')\n",
    "    \n",
    "ax.legend(numpoints=1)  #show legend with only 1 point\n",
    "\n",
    "#add label in x,y position with the label as the film title\n",
    "for i in range(len(df)):\n",
    "    ax.text(df.ix[i]['x'], df.ix[i]['y'], df.ix[i]['title'], size=10)  \n",
    "\n",
    "    \n",
    "    \n",
    "plt.show() #show the plot\n",
    "\n",
    "#uncomment the below to save the plot if need be\n",
    "#plt.savefig('clusters_small_noaxes.png', dpi=200)"
   ]
  },
  {
   "cell_type": "markdown",
   "metadata": {},
   "source": [
    "Use plotly to generate interactive chart. I have to downgrade matplotlib to 1.3.1 for this chart to work with plotly. see https://github.com/harrywang/plotly/blob/master/README.md for how to setup plotly. After running the following, a browser will open to show the plotly chart."
   ]
  },
  {
   "cell_type": "code",
   "execution_count": 50,
   "metadata": {},
   "outputs": [],
   "source": [
    "# import plotly.plotly as py\n",
    "# plot_url = py.plot_mpl(fig)"
   ]
  }
 ],
 "metadata": {
  "kernelspec": {
   "display_name": "Python 3",
   "language": "python",
   "name": "python3"
  },
  "language_info": {
   "codemirror_mode": {
    "name": "ipython",
    "version": 3
   },
   "file_extension": ".py",
   "mimetype": "text/x-python",
   "name": "python",
   "nbconvert_exporter": "python",
   "pygments_lexer": "ipython3",
   "version": "3.6.1"
  }
 },
 "nbformat": 4,
 "nbformat_minor": 1
}
