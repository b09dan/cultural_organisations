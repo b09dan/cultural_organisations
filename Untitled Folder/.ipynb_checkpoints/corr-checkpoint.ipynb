{
 "cells": [
  {
   "cell_type": "code",
   "execution_count": null,
   "metadata": {
    "collapsed": true
   },
   "outputs": [],
   "source": [
    "from urllib.request import urlopen  # Library for urlopen\n",
    "from bs4 import BeautifulSoup  # Library for html parser (scraper), lxml is also nice\n",
    "import pandas as pd\n",
    "import numpy as np\n",
    "import re\n",
    "import sys\n",
    "sys.path.append('..') \n",
    "from uni_cache.cache_function import cache_function\n",
    "import pymysql\n",
    "import collections\n",
    "import mysql_credits\n",
    "\n",
    "from __future__ import division, print_function\n",
    "import os.path\n",
    "from pathlib import Path\n",
    "import json\n",
    "from pandas.io.json import json_normalize \n",
    "\n",
    "# отключим всякие предупреждения Anaconda\n",
    "import warnings\n",
    "warnings.filterwarnings('ignore')\n",
    "\n",
    "from matplotlib import pyplot as plt\n",
    "\n",
    "import plotly.plotly as py\n",
    "import plotly.graph_objs as go \n",
    "\n",
    "import pandas_datareader.data as web\n",
    "\n",
    "from sklearn.preprocessing import OneHotEncoder, LabelEncoder\n",
    "\n",
    "import matplotlib\n",
    "import plotly\n",
    "\n",
    "from datetime import datetime, date, time, timedelta \n",
    "import time as main_time\n",
    "import calendar\n",
    "\n",
    "plotly.tools.set_credentials_file(username='st035004', api_key='zAZHt6Yz62WilMD5pKIE')\n",
    "pd.options.display.max_columns = 250\n",
    "pd.options.display.max_rows = 200\n",
    "pd.options.display.float_format = '{:,.2f}'.format\n",
    "\n",
    "%matplotlib inline"
   ]
  },
  {
   "cell_type": "code",
   "execution_count": null,
   "metadata": {
    "collapsed": true
   },
   "outputs": [],
   "source": [
    "from matplotlib import pyplot as plt\n",
    "\n",
    "import plotly.plotly as py\n",
    "import plotly.graph_objs as go \n",
    "\n",
    "import pandas_datareader.data as web\n",
    "\n",
    "from sklearn.preprocessing import OneHotEncoder, LabelEncoder\n",
    "\n",
    "import matplotlib\n",
    "import plotly\n",
    "\n",
    "from datetime import datetime, date, time, timedelta \n",
    "import time as main_time\n",
    "import calendar\n",
    "\n",
    "plotly.tools.set_credentials_file(username='st035004', api_key='zAZHt6Yz62WilMD5pKIE')\n",
    "pd.options.display.max_columns = 250\n",
    "pd.options.display.max_rows = 200\n",
    "pd.options.display.float_format = '{:,.2f}'.format\n",
    "\n",
    "%matplotlib inline"
   ]
  },
  {
   "cell_type": "code",
   "execution_count": null,
   "metadata": {
    "collapsed": true
   },
   "outputs": [],
   "source": [
    "connection = pymysql.connect(\n",
    "    host=mysql_credits.db_host,\n",
    "    user=mysql_credits.db_user,\n",
    "    password=mysql_credits.db_password,\n",
    "    db=mysql_credits.db,\n",
    "    charset='utf8mb4',\n",
    "    cursorclass=pymysql.cursors.DictCursor\n",
    ")"
   ]
  },
  {
   "cell_type": "code",
   "execution_count": null,
   "metadata": {
    "collapsed": true
   },
   "outputs": [],
   "source": [
    "cursor = connection.cursor()"
   ]
  },
  {
   "cell_type": "code",
   "execution_count": null,
   "metadata": {
    "collapsed": true
   },
   "outputs": [],
   "source": [
    "sql='''\n",
    "select article_id, article_rating, article_uni, article_pub_date, article_country, article_latitude, article_longitude\n",
    "from article\n",
    "WHERE (article_rating>0)\n",
    "'''"
   ]
  },
  {
   "cell_type": "code",
   "execution_count": null,
   "metadata": {
    "collapsed": true
   },
   "outputs": [],
   "source": [
    "cursor = connection.cursor()\n",
    "cursor.execute(sql)\n",
    "raw = cursor.fetchall()\n",
    "df = pd.DataFrame(raw, columns=[i[0] for i in cursor.description])"
   ]
  },
  {
   "cell_type": "code",
   "execution_count": null,
   "metadata": {
    "collapsed": true
   },
   "outputs": [],
   "source": [
    "df.article_pub_date=pd.to_datetime(df.article_pub_date)"
   ]
  },
  {
   "cell_type": "code",
   "execution_count": null,
   "metadata": {
    "collapsed": true
   },
   "outputs": [],
   "source": [
    "df.article_pub_date=pd.to_datetime(df.article_pub_date)\n",
    "df['year'] = pd.DatetimeIndex(df['article_pub_date']).year\n",
    "df['month'] = pd.DatetimeIndex(df['article_pub_date']).month\n",
    "df['week'] = pd.DatetimeIndex(df['article_pub_date']).week\n",
    "df['month_year']=pd.DatetimeIndex(df['article_pub_date']).week + pd.DatetimeIndex(df['article_pub_date']).year * 100\n",
    "df['dayofweek']=pd.DatetimeIndex(df['article_pub_date']).dayofweek\n",
    "df['days'] = pd.DatetimeIndex(df['article_pub_date']).day"
   ]
  },
  {
   "cell_type": "code",
   "execution_count": null,
   "metadata": {
    "scrolled": true
   },
   "outputs": [],
   "source": [
    "print(df.shape)\n",
    "#df.head()"
   ]
  },
  {
   "cell_type": "code",
   "execution_count": null,
   "metadata": {},
   "outputs": [],
   "source": [
    "a=df[df['article_uni'].str.contains(\"Univers\")].article_uni.unique()\n",
    "b=df[df['article_uni'].str.contains(\"School\")].article_uni.unique()  \n",
    "c=df[df['article_uni'].str.contains(\"College\")].article_uni.unique()\n",
    "d=df[df['article_uni'].str.contains(\"Instit\")].article_uni.unique()\n",
    "select_col=list(set(a)|set(b)|set(c))\n",
    "print(len(select_col))"
   ]
  },
  {
   "cell_type": "code",
   "execution_count": null,
   "metadata": {
    "collapsed": true
   },
   "outputs": [],
   "source": [
    "a=df[['article_uni','article_country']] "
   ]
  },
  {
   "cell_type": "code",
   "execution_count": null,
   "metadata": {
    "collapsed": true
   },
   "outputs": [],
   "source": [
    "for i in range(a.article_uni.str.split(',').str.len().max()):\n",
    "    a['col_'+str(i)]=a.article_uni.str.split(',').str.get(i)"
   ]
  },
  {
   "cell_type": "code",
   "execution_count": null,
   "metadata": {},
   "outputs": [],
   "source": [
    "a.columns[3:][::-1]"
   ]
  },
  {
   "cell_type": "code",
   "execution_count": null,
   "metadata": {
    "collapsed": true
   },
   "outputs": [],
   "source": [
    "list_index=a.index\n",
    "b=pd.DataFrame(columns=['article_uni', 'country'])\n",
    "for i in a.columns[3:][::-1]:\n",
    "    b=pd.concat([b, a.iloc[list_index,:][~a[i].isnull()][['article_uni', i]].rename(columns={i:'country'})])\n",
    "    list_index=list(set(list_index)-set(b.index))\n",
    "b=b.sort_index()"
   ]
  },
  {
   "cell_type": "code",
   "execution_count": null,
   "metadata": {
    "collapsed": true
   },
   "outputs": [],
   "source": [
    "list_index=a.index\n",
    "c=pd.DataFrame(columns=['article_uni', 'name_uni'])\n",
    "for i in a.columns[2:a.shape[1]-1][::-1]:\n",
    "    for j in [\"Univers\",\"School\",\"College\",\"Instit\",\"Academ\"]:\n",
    "        c=pd.concat([c, a.iloc[list_index,:][(~a[i].isnull())&\n",
    "                                            (a[i].str.contains(j))][['article_uni', i]].rename(columns={i:'name_uni'})])\n",
    "        list_index=list(set(list_index)-set(c.index))\n",
    "c=c.sort_index()"
   ]
  },
  {
   "cell_type": "code",
   "execution_count": null,
   "metadata": {
    "collapsed": true
   },
   "outputs": [],
   "source": [
    "pd.concat([a[['article_country','article_uni']], b.country,c.name_uni],axis=1).drop_duplicates(subset=['article_uni']).to_csv('arcticle_uni_3.csv')"
   ]
  },
  {
   "cell_type": "code",
   "execution_count": null,
   "metadata": {
    "collapsed": true
   },
   "outputs": [],
   "source": [
    "d=pd.concat([a[['article_country','article_uni']], b.country,c.name_uni],axis=1).drop_duplicates(subset=['article_uni'])"
   ]
  },
  {
   "cell_type": "code",
   "execution_count": null,
   "metadata": {
    "collapsed": true
   },
   "outputs": [],
   "source": [
    "d.iloc[:,d.columns.get_loc('name_uni')][d.name_uni.str.get(0)==' ']=d[d.name_uni.str.get(0)==' '].name_uni.str[1:].values\n",
    "d.iloc[:,d.columns.get_loc('country')][d.country.str.get(0)==' ']=d[d.country.str.get(0)==' '].country.str[1:].values"
   ]
  },
  {
   "cell_type": "code",
   "execution_count": null,
   "metadata": {
    "collapsed": true
   },
   "outputs": [],
   "source": [
    "d.to_csv('arcticle_uni_3.csv')"
   ]
  },
  {
   "cell_type": "code",
   "execution_count": null,
   "metadata": {
    "collapsed": true
   },
   "outputs": [],
   "source": [
    "e=pd.read_csv('arcticle_uni_3.csv', index_col=0)"
   ]
  },
  {
   "cell_type": "code",
   "execution_count": null,
   "metadata": {
    "collapsed": true
   },
   "outputs": [],
   "source": [
    "r=e[e.name_uni.isnull()]\n",
    "r=r[r.article_uni.str.split(',').str.len()>1]\n",
    "'University of '+ r.article_uni.str.split(',').str.get(0)"
   ]
  },
  {
   "cell_type": "code",
   "execution_count": null,
   "metadata": {},
   "outputs": [],
   "source": [
    "r.index"
   ]
  },
  {
   "cell_type": "code",
   "execution_count": null,
   "metadata": {
    "collapsed": true
   },
   "outputs": [],
   "source": [
    "e.loc[r.index,'name_uni']='University of '+ r.article_uni.str.split(',').str.get(0)"
   ]
  },
  {
   "cell_type": "code",
   "execution_count": null,
   "metadata": {
    "collapsed": true
   },
   "outputs": [],
   "source": [
    "e.loc[:,'name_uni'][e.article_uni=='Oxford Brookes']='Oxford Brookes'"
   ]
  },
  {
   "cell_type": "code",
   "execution_count": null,
   "metadata": {
    "collapsed": true
   },
   "outputs": [],
   "source": [
    "e=e[~e.name_uni.isnull()]"
   ]
  },
  {
   "cell_type": "code",
   "execution_count": null,
   "metadata": {
    "collapsed": true
   },
   "outputs": [],
   "source": [
    "data=pd.merge(df.drop(['article_country'], axis=1), e[['article_country','article_uni','name_uni']], on=['article_uni'])"
   ]
  },
  {
   "cell_type": "code",
   "execution_count": null,
   "metadata": {
    "collapsed": true
   },
   "outputs": [],
   "source": [
    "from sklearn.preprocessing import MinMaxScaler, StandardScaler\n",
    "scaler=MinMaxScaler()#StandardScaler()"
   ]
  },
  {
   "cell_type": "code",
   "execution_count": null,
   "metadata": {
    "collapsed": true
   },
   "outputs": [],
   "source": [
    "a=data.groupby(['article_uni']).article_rating.max().reset_index()\n",
    "uni_cluster_1=a[a.article_rating<=5].article_uni\n",
    "uni_cluster_2=a[a.article_rating>5].article_uni\n",
    "data['article_rating_copy']=data['article_rating'].copy()\n",
    "data.loc[:,'article_rating_copy'][data.article_uni.isin(uni_cluster_1)]=scaler.fit_transform(data.loc[:,'article_rating_copy'][data.article_uni.isin(uni_cluster_1)].values.reshape(data.loc[:,'article_rating_copy'][data.article_uni.isin(uni_cluster_1)].shape[0],1))\n",
    "data.loc[:,'article_rating_copy'][data.article_uni.isin(uni_cluster_2)]=scaler.fit_transform(data.loc[:,'article_rating_copy'][data.article_uni.isin(uni_cluster_2)].values.reshape(data.loc[:,'article_rating_copy'][data.article_uni.isin(uni_cluster_2)].shape[0],1))"
   ]
  },
  {
   "cell_type": "code",
   "execution_count": null,
   "metadata": {},
   "outputs": [],
   "source": [
    "f=data[data.year<2018].groupby(['name_uni', 'year']).agg({'article_rating_copy':{'avg_rank':'mean', 'total_review':'count'}})\n",
    "f.columns=f.columns.droplevel(0)\n",
    "f=f.reset_index()\n",
    "f"
   ]
  },
  {
   "cell_type": "code",
   "execution_count": null,
   "metadata": {},
   "outputs": [],
   "source": [
    "f=data[data.year<2018].groupby(['article_country', 'year']).agg({'article_rating_copy':{'avg_rank':'mean', 'total_review':'count'}})\n",
    "f.columns=f.columns.droplevel(0)\n",
    "f=f.reset_index()\n",
    "f"
   ]
  },
  {
   "cell_type": "code",
   "execution_count": null,
   "metadata": {},
   "outputs": [],
   "source": [
    "set(df.article_country.unique())-set(df_country.article_country.unique())"
   ]
  },
  {
   "cell_type": "code",
   "execution_count": null,
   "metadata": {
    "collapsed": true
   },
   "outputs": [],
   "source": [
    "df.article_country.unique()"
   ]
  },
  {
   "cell_type": "code",
   "execution_count": null,
   "metadata": {
    "collapsed": true
   },
   "outputs": [],
   "source": [
    "#url = 'https://raw.githubusercontent.com/johan/world.geo.json/master/countries.geo.json' \n",
    "\n",
    "file = 'countries.geo.json'\n",
    "with open(file) as data_file:\n",
    "    geo_json_data = json.load(data_file)\n",
    "\n",
    "def get_coordinates(features): \n",
    "    depth = lambda L: isinstance(L, list) and max(map(depth, L))+1 \n",
    "    xs = [] \n",
    "    ys = []\n",
    "    country_name=[]\n",
    "    country_id=[]\n",
    "    t=1\n",
    "    for feature in geo_json_data['features']:\n",
    "        coords = feature['geometry']['coordinates']\n",
    "        #print(feature['properties']['name'], t)\n",
    "        t+=1\n",
    "        nbdims = depth(coords) \n",
    "         # one border \n",
    "        if nbdims == 3: \n",
    "            pts = np.array(coords[0], 'f') \n",
    "            xs.append(pts[:, 0]) \n",
    "            ys.append(pts[:, 1]) \n",
    "            country_name.append(feature['properties']['name'])\n",
    "            country_id.append(feature['id'])\n",
    "        #several borders \n",
    "        else: \n",
    "            for shape in coords: \n",
    "                pts = np.array(shape[0], 'f') \n",
    "                xs.append(pts[:, 0]) \n",
    "                ys.append(pts[:, 1])\n",
    "                country_name.append(feature['properties']['name'])\n",
    "                country_id.append(feature['id'])\n",
    "    \n",
    "    return xs, ys, country_name, country_id\n",
    "\n",
    "xs, ys,country_name, country_id = get_coordinates(geo_json_data['features'])\n",
    "\n",
    "\n",
    "# In[10]:\n",
    "\n",
    "df_country=pd.DataFrame({'xs':xs,\n",
    "             'ys':ys,\n",
    "             'article_country':country_name,\n",
    "             'code':country_id})"
   ]
  },
  {
   "cell_type": "code",
   "execution_count": null,
   "metadata": {},
   "outputs": [],
   "source": [
    "from datetime import datetime, date, time, timedelta \n",
    "data_first_ranking=datetime.combine(date(2010,1,1), time(0,0))\n",
    "print (data_first_ranking)"
   ]
  },
  {
   "cell_type": "code",
   "execution_count": null,
   "metadata": {
    "collapsed": true
   },
   "outputs": [],
   "source": [
    "df_ranking=pd.read_csv('article_uni.csv', index_col=0)\n",
    "done_uni=df_ranking.article_uni.unique()"
   ]
  },
  {
   "cell_type": "code",
   "execution_count": null,
   "metadata": {
    "collapsed": true
   },
   "outputs": [],
   "source": [
    "a=df[df['article_uni'].str.contains(\"Univers\")].article_uni.unique()\n",
    "b=df[df['article_uni'].str.contains(\"School\")].article_uni.unique()\n",
    "c=df[df['article_uni'].str.contains(\"College\")].article_uni.unique()\n",
    "select_col=list(set(a)|set(b)|set(c))"
   ]
  },
  {
   "cell_type": "code",
   "execution_count": null,
   "metadata": {
    "collapsed": true
   },
   "outputs": [],
   "source": [
    "pd.DataFrame({'article_uni':df.article_uni.unique()}).to_csv('article_uni_2.csv')"
   ]
  },
  {
   "cell_type": "code",
   "execution_count": null,
   "metadata": {},
   "outputs": [],
   "source": [
    "df[~df.article_uni.isin(select_col)].article_uni.unique()"
   ]
  },
  {
   "cell_type": "code",
   "execution_count": null,
   "metadata": {},
   "outputs": [],
   "source": [
    "print(df_ranking.shape)\n",
    "df_ranking.head()"
   ]
  },
  {
   "cell_type": "code",
   "execution_count": null,
   "metadata": {
    "collapsed": true
   },
   "outputs": [],
   "source": [
    "df.article_uni.replace('The London School of Economics and Political Science (United-Kingdom)',\n",
    "    'London School of Economics and Political Science', inplace=True)"
   ]
  },
  {
   "cell_type": "markdown",
   "metadata": {},
   "source": [
    "b=df[df.article_pub_date>=data_first_ranking].groupby(['article_uni', 'year']).article_rating.agg(lambda x:x.value_counts().index[0]).reset_index()"
   ]
  },
  {
   "cell_type": "code",
   "execution_count": null,
   "metadata": {
    "scrolled": true
   },
   "outputs": [],
   "source": [
    "b=df[df.article_pub_date>=data_first_ranking].groupby(['article_uni', 'year']).article_rating.agg({'article_rating_mean':'mean',\n",
    "                                                       'article_rating_count':'count',\n",
    "                                                        'article_rating_moda':lambda x:x.value_counts().index[0]}).reset_index()\n",
    "b['ranking']=np.zeros((1, b.shape[0]))[0]\n",
    "b.head()"
   ]
  },
  {
   "cell_type": "code",
   "execution_count": null,
   "metadata": {
    "collapsed": true
   },
   "outputs": [],
   "source": [
    "for name in b.article_uni.unique():\n",
    "    for year in b[b.article_uni==name].year:\n",
    "        #print(year)\n",
    "        b['ranking'][(b.article_uni==name)&(b.year==year)]=df_ranking[(df_ranking.article_uni==name)][str(year)].values[0]"
   ]
  },
  {
   "cell_type": "code",
   "execution_count": null,
   "metadata": {
    "collapsed": true
   },
   "outputs": [],
   "source": [
    "b=b[(~b.ranking.isnull())]"
   ]
  },
  {
   "cell_type": "code",
   "execution_count": null,
   "metadata": {},
   "outputs": [],
   "source": [
    "for year in np.sort(b.year.unique()):\n",
    "    print(year, round(np.corrcoef(b[(b.year==year)].article_rating_mean, b[(b.year==year)].ranking)[1,0],2))"
   ]
  },
  {
   "cell_type": "code",
   "execution_count": null,
   "metadata": {},
   "outputs": [],
   "source": [
    "for year in np.sort(b.year.unique()):\n",
    "    print(year, round(np.corrcoef(b[(b.year==year)].article_rating_moda, b[(b.year==year)].ranking)[1,0],2))"
   ]
  },
  {
   "cell_type": "code",
   "execution_count": null,
   "metadata": {
    "collapsed": true,
    "scrolled": true
   },
   "outputs": [],
   "source": [
    "df_all=pd.merge(b, df_ranking[['article_uni','country']], on=['article_uni'])"
   ]
  },
  {
   "cell_type": "code",
   "execution_count": null,
   "metadata": {},
   "outputs": [],
   "source": [
    "df_all.head()"
   ]
  },
  {
   "cell_type": "code",
   "execution_count": null,
   "metadata": {
    "collapsed": true
   },
   "outputs": [],
   "source": [
    "import plotly.plotly as py\n",
    "from plotly.grid_objs import Grid, Column\n",
    "from plotly.tools import FigureFactory as FF \n",
    "\n",
    "import pandas as pd\n",
    "import time"
   ]
  },
  {
   "cell_type": "code",
   "execution_count": null,
   "metadata": {
    "scrolled": true
   },
   "outputs": [],
   "source": [
    "years_from_col = set(df_all['year'])\n",
    "years_ints = sorted(list(years_from_col))\n",
    "years = [str(year) for year in years_ints]\n",
    "\n",
    "# make list of continents\n",
    "countries = []\n",
    "for country in df_all['country']:\n",
    "    if country not in countries: \n",
    "        countries.append(country)\n",
    "\n",
    "columns = []\n",
    "# make grid\n",
    "for year in years:\n",
    "    for country in countries:\n",
    "        df_by_year = df_all[df_all['year'] == int(year)]\n",
    "        df_by_year_and_cont = df_by_year[df_by_year['country'] == country]\n",
    "        for col_name in df_by_year_and_cont:\n",
    "            #print(col_name)\n",
    "            # each column name is unique\n",
    "            column_name = '{year}_{country}_{header}_gapminder_grid'.format(\n",
    "                year=year, country=country, header=col_name\n",
    "            )\n",
    "            a_column = Column(list(df_by_year_and_cont[col_name]), column_name)\n",
    "            columns.append(a_column)\n",
    "\n",
    "# upload grid\n",
    "grid = Grid(columns)\n",
    "url = py.grid_ops.upload(grid, 'gapminder_grid'+str(time.time()), auto_open=False)\n",
    "url"
   ]
  },
  {
   "cell_type": "code",
   "execution_count": null,
   "metadata": {
    "collapsed": true
   },
   "outputs": [],
   "source": [
    "figure = {\n",
    "    'data': [],\n",
    "    'layout': {},\n",
    "    'frames': [],\n",
    "    'config': {'scrollzoom': True}\n",
    "}\n",
    "\n",
    "# fill in most of layout\n",
    "figure['layout']['yaxis'] = {'range': [-50, 200], 'title': 'Ranking un THE', 'gridcolor': '#FFFFFF'}\n",
    "figure['layout']['xaxis'] = {'range': [-0.1, 1.1], 'title': 'Ranking mean', 'gridcolor': '#FFFFFF'}\n",
    "figure['layout']['hovermode'] = 'closest'\n",
    "figure['layout']['plot_bgcolor'] = 'rgb(223, 232, 243)'"
   ]
  },
  {
   "cell_type": "code",
   "execution_count": null,
   "metadata": {
    "collapsed": true
   },
   "outputs": [],
   "source": [
    "figure['layout']['sliders'] = {\n",
    "    'active': 0,\n",
    "    'yanchor': 'top',\n",
    "    'xanchor': 'left',\n",
    "    'currentvalue': {\n",
    "        'font': {'size': 20},\n",
    "        'prefix': 'text-before-value-on-display',\n",
    "        'visible': True,\n",
    "        'xanchor': 'right'\n",
    "    },\n",
    "    'transition': {'duration': 1000, 'easing': 'cubic-in-out'},\n",
    "    'pad': {'b': 10, 't': 50},\n",
    "    'len': 0.9,\n",
    "    'x': 0.1,\n",
    "    'y': 0,\n",
    "    'steps': [...]\n",
    "}"
   ]
  },
  {
   "cell_type": "code",
   "execution_count": null,
   "metadata": {},
   "outputs": [],
   "source": [
    "{\n",
    "    'method': 'animate',\n",
    "    'label': 'label-for-frame',\n",
    "    'value': 'value-for-frame(defaults to label)',\n",
    "    'args': [{'frame': {'duration': 300, 'redraw': False},\n",
    "         'mode': 'immediate'}\n",
    "    ],\n",
    "}"
   ]
  },
  {
   "cell_type": "code",
   "execution_count": null,
   "metadata": {
    "collapsed": true
   },
   "outputs": [],
   "source": [
    "sliders_dict = {\n",
    "    'active': 0,\n",
    "    'yanchor': 'top',\n",
    "    'xanchor': 'left',\n",
    "    'currentvalue': {\n",
    "        'font': {'size': 20},\n",
    "        'prefix': 'Year:',\n",
    "        'visible': True,\n",
    "        'xanchor': 'right'\n",
    "    },\n",
    "    'transition': {'duration': 300, 'easing': 'cubic-in-out'},\n",
    "    'pad': {'b': 10, 't': 50},\n",
    "    'len': 0.9,\n",
    "    'x': 0.1,\n",
    "    'y': 0,\n",
    "    'steps': []\n",
    "}"
   ]
  },
  {
   "cell_type": "code",
   "execution_count": null,
   "metadata": {
    "collapsed": true
   },
   "outputs": [],
   "source": [
    "figure['layout']['updatemenus'] = [\n",
    "    {\n",
    "        'buttons': [\n",
    "            {\n",
    "                'args': [None, {'frame': {'duration': 500, 'redraw': False},\n",
    "                         'fromcurrent': True, 'transition': {'duration': 300, 'easing': 'quadratic-in-out'}}],\n",
    "                'label': 'Play',\n",
    "                'method': 'animate'\n",
    "            },\n",
    "            {\n",
    "                'args': [[None], {'frame': {'duration': 0, 'redraw': False}, 'mode': 'immediate',\n",
    "                'transition': {'duration': 0}}],\n",
    "                'label': 'Pause',\n",
    "                'method': 'animate'\n",
    "            }\n",
    "        ],\n",
    "        'direction': 'left',\n",
    "        'pad': {'r': 10, 't': 87},\n",
    "        'showactive': False,\n",
    "        'type': 'buttons',\n",
    "        'x': 0.1,\n",
    "        'xanchor': 'right',\n",
    "        'y': 0,\n",
    "        'yanchor': 'top'\n",
    "    }\n",
    "]\n",
    "\n",
    "custom_colors = {\n",
    "    'UK': 'rgb(171, 99, 250)',\n",
    "    'USA': 'rgb(230, 99, 250)',\n",
    "    'Canada': 'rgb(99, 110, 250)',\n",
    "}"
   ]
  },
  {
   "cell_type": "markdown",
   "metadata": {},
   "source": [
    "column_name = '{year}_{country}_{header}_gapminder_grid'.format(\n",
    "                year=year, country=country, header=col_name\n",
    "            )"
   ]
  },
  {
   "cell_type": "code",
   "execution_count": null,
   "metadata": {},
   "outputs": [],
   "source": [
    "df_all.country.unique()"
   ]
  },
  {
   "cell_type": "code",
   "execution_count": null,
   "metadata": {
    "collapsed": true
   },
   "outputs": [],
   "source": [
    "col_name_template = '{year}_{country}_{header}_gapminder_grid'\n",
    "year = df_all.year.min()\n",
    "for country in countries:\n",
    "    data_dict = {\n",
    "        'xsrc': grid.get_column_reference(col_name_template.format(\n",
    "            year=year, country=country, header='article_rating_mean'\n",
    "        )),\n",
    "        'ysrc': grid.get_column_reference(col_name_template.format(\n",
    "            year=year, country=country, header='ranking'\n",
    "        )),\n",
    "        'mode': 'markers',\n",
    "        'textsrc': grid.get_column_reference(col_name_template.format(\n",
    "            year=year, country=country, header='article_uni'\n",
    "        )),\n",
    "        'marker': {\n",
    "            'sizemode': 'area',\n",
    "            'sizeref': 0.05,\n",
    "            'sizesrc': grid.get_column_reference(col_name_template.format(\n",
    "                 year=year, country=country, header='article_rating_count'\n",
    "            )),\n",
    "            'color': custom_colors[country]\n",
    "        },\n",
    "        'name': country\n",
    "    }\n",
    "    figure['data'].append(data_dict)"
   ]
  },
  {
   "cell_type": "code",
   "execution_count": null,
   "metadata": {
    "collapsed": true
   },
   "outputs": [],
   "source": [
    "for year in years:\n",
    "    frame = {'data': [], 'name': str(year)}\n",
    "    for country in countries:\n",
    "        data_dict = {\n",
    "            'xsrc': grid.get_column_reference(col_name_template.format(\n",
    "                year=year, country=country, header='article_rating_mean'\n",
    "            )),\n",
    "            'ysrc': grid.get_column_reference(col_name_template.format(\n",
    "                year=year, country=country, header='ranking'\n",
    "            )),\n",
    "            'mode': 'markers',\n",
    "            'textsrc': grid.get_column_reference(col_name_template.format(\n",
    "                year=year, country=country, header='article_uni', \n",
    "                )),\n",
    "            'marker': {\n",
    "                'sizemode': 'area',\n",
    "                'sizeref': 0.05,\n",
    "                'sizesrc': grid.get_column_reference(col_name_template.format(\n",
    "                    year=year, country=country, header='article_rating_count'\n",
    "                )),\n",
    "                'color': custom_colors[country]\n",
    "            },\n",
    "            'name': country\n",
    "        }\n",
    "        frame['data'].append(data_dict)\n",
    "\n",
    "    figure['frames'].append(frame)\n",
    "    slider_step = {'args': [\n",
    "        [year],\n",
    "        {'frame': {'duration': 300, 'redraw': False},\n",
    "         'mode': 'immediate',\n",
    "       'transition': {'duration': 300}}\n",
    "     ],\n",
    "     'label': year,\n",
    "     'method': 'animate'}\n",
    "    sliders_dict['steps'].append(slider_step)\n",
    "\n",
    "figure['layout']['sliders'] = [sliders_dict]"
   ]
  },
  {
   "cell_type": "code",
   "execution_count": null,
   "metadata": {},
   "outputs": [],
   "source": [
    "py.icreate_animations(figure, 'gapminder_example'+str(time.time()))"
   ]
  },
  {
   "cell_type": "code",
   "execution_count": null,
   "metadata": {
    "collapsed": true
   },
   "outputs": [],
   "source": [
    "import seaborn as sns"
   ]
  },
  {
   "cell_type": "code",
   "execution_count": null,
   "metadata": {},
   "outputs": [],
   "source": [
    "df_all.head()"
   ]
  },
  {
   "cell_type": "code",
   "execution_count": null,
   "metadata": {
    "scrolled": true
   },
   "outputs": [],
   "source": [
    "for i in  np.sort(df_all.year.unique()):\n",
    "    plt.scatter(df_all[df_all.year==i].article_rating_mean,\n",
    "           df_all[df_all.year==i].ranking)\n",
    "    plt.title('Corr between ranking in THE and ranking review in {:0.0f}'.format(i))\n",
    "    plt.show()"
   ]
  },
  {
   "cell_type": "code",
   "execution_count": null,
   "metadata": {
    "collapsed": true
   },
   "outputs": [],
   "source": [
    "df_all.article_rating_count"
   ]
  },
  {
   "cell_type": "code",
   "execution_count": null,
   "metadata": {
    "scrolled": true
   },
   "outputs": [],
   "source": [
    "for i in  np.sort(df_all.year.unique()):\n",
    "    plt.scatter(df_all[df_all.year==i].article_rating_count,\n",
    "           df_all[df_all.year==i].ranking)\n",
    "    plt.title('Corr between ranking in THE and ranking review count in {:0.0f}'.format(i))\n",
    "    plt.show()"
   ]
  },
  {
   "cell_type": "code",
   "execution_count": null,
   "metadata": {},
   "outputs": [],
   "source": [
    "plt.hist(df_all.article_rating_count)"
   ]
  },
  {
   "cell_type": "code",
   "execution_count": null,
   "metadata": {},
   "outputs": [],
   "source": [
    "df_country.head()"
   ]
  },
  {
   "cell_type": "code",
   "execution_count": null,
   "metadata": {
    "scrolled": true
   },
   "outputs": [],
   "source": [
    "#url = 'https://raw.githubusercontent.com/johan/world.geo.json/master/countries.geo.json' \n",
    "from __future__ import division, print_function\n",
    "import os.path\n",
    "from pathlib import Path\n",
    "import json\n",
    "from pandas.io.json import json_normalize \n",
    "\n",
    "# отключим всякие предупреждения Anaconda\n",
    "import warnings\n",
    "warnings.filterwarnings('ignore')\n",
    "\n",
    "import pandas as pd\n",
    "import numpy as np\n",
    "import seaborn as sns\n",
    "import pymssql\n",
    "\n",
    "from os.path import dirname, join, realpath\n",
    "import requests \n",
    "import bokeh \n",
    "print(bokeh.__version__) \n",
    "\n",
    "from bokeh.embed import notebook_div\n",
    "\n",
    "from bokeh.plotting import figure, output_file, show, reset_output\n",
    "from bokeh.layouts import layout, widgetbox\n",
    "from bokeh.models import ColumnDataSource, HoverTool, Div, Label\n",
    "from bokeh.models.widgets import Slider, Select, TextInput, RangeSlider, DateRangeSlider, Panel, Tabs\n",
    "from bokeh.io import curdoc\n",
    "from bokeh.sampledata.movies_data import movie_path\n",
    "from bokeh.palettes import Spectral4\n",
    "from bokeh.models.widgets import RangeSlider\n",
    " \n",
    "from bokeh.models import GeoJSONDataSource, LogColorMapper\n",
    "\n",
    "import matplotlib.cm as cm\n",
    "import bokeh.plotting as bk\n",
    "\n",
    "from bokeh.models.widgets import TextInput\n",
    "from bokeh.models import CustomJS, Div, Button"
   ]
  },
  {
   "cell_type": "code",
   "execution_count": null,
   "metadata": {},
   "outputs": [],
   "source": [
    "from bokeh.io import output_notebook, output_file \n",
    "output_notebook()"
   ]
  },
  {
   "cell_type": "code",
   "execution_count": null,
   "metadata": {},
   "outputs": [],
   "source": [
    "df.head()"
   ]
  },
  {
   "cell_type": "code",
   "execution_count": null,
   "metadata": {
    "collapsed": true
   },
   "outputs": [],
   "source": [
    "from sklearn.preprocessing import MinMaxScaler, StandardScaler\n",
    "scaler=MinMaxScaler()#StandardScaler()"
   ]
  },
  {
   "cell_type": "code",
   "execution_count": null,
   "metadata": {
    "collapsed": true
   },
   "outputs": [],
   "source": [
    "a=df.groupby(['article_uni']).article_rating.max().reset_index()\n",
    "uni_cluster_1=a[a.article_rating<=5].article_uni\n",
    "uni_cluster_2=a[a.article_rating>5].article_uni\n",
    "df['article_rating_copy']=df['article_rating'].copy()\n",
    "df.loc[:,'article_rating_copy'][df.article_uni.isin(uni_cluster_1)]=scaler.fit_transform(df.loc[:,'article_rating_copy'][df.article_uni.isin(uni_cluster_1)].values.reshape(df.loc[:,'article_rating_copy'][df.article_uni.isin(uni_cluster_1)].shape[0],1))\n",
    "df.loc[:,'article_rating_copy'][df.article_uni.isin(uni_cluster_2)]=scaler.fit_transform(df.loc[:,'article_rating_copy'][df.article_uni.isin(uni_cluster_2)].values.reshape(df.loc[:,'article_rating_copy'][df.article_uni.isin(uni_cluster_2)].shape[0],1))\n",
    "s=df.groupby(['article_country']).article_rating_copy.mean().reset_index()\n",
    "t=pd.merge(df_country, s, on=['article_country'])\n",
    "#s.article_country=s.article_country.str.lower()\n",
    "#s.column"
   ]
  },
  {
   "cell_type": "markdown",
   "metadata": {
    "collapsed": true
   },
   "source": [
    "uni_cluster_1=df[df.article_rating==df.article_rating.max()].article_uni.unique()\n",
    "uni_cluster_2=list(set(df.article_uni.unique())-set(uni_cluster_1))"
   ]
  },
  {
   "cell_type": "code",
   "execution_count": null,
   "metadata": {},
   "outputs": [],
   "source": [
    "import matplotlib.cm as cm\n",
    "colormap =cm.get_cmap(\"hot\")\n",
    "colorspan=[40,140]\n",
    "#A_color=colormap(t['article_rating_copy'],1,True) \n",
    "A_color=colormap(1-scaler.fit_transform(t['article_rating_copy'].reshape(t['article_rating_copy'].shape[0], 1))[:,0],1,True)\n",
    "bokeh_colors = [\"#%02x%02x%02x\" % (r, g, b) for r, g, b in A_color[:,0:3]]"
   ]
  },
  {
   "cell_type": "code",
   "execution_count": null,
   "metadata": {},
   "outputs": [],
   "source": [
    "hover_map = HoverTool(tooltips=[\n",
    "        (\"Avg.ranking\", \"@{ranking}\"),\n",
    "        ])\n",
    "\n",
    "source = ColumnDataSource(data=dict(\n",
    "    x=df_country[~df_country.article_country.isin(t.article_country)]['xs'],\n",
    "    y=df_country[~df_country.article_country.isin(t.article_country)]['ys'],\n",
    "    name=df_country[~df_country.article_country.isin(t.article_country)]['code'],\n",
    "    #fill=\n",
    "    ))\n",
    "source_2 = ColumnDataSource(data=dict(\n",
    "    x=t['xs'],\n",
    "    y=t['ys'],\n",
    "    name=t['code'],\n",
    "    ranking=t.article_rating_copy,\n",
    "    fill=bokeh_colors,\n",
    "    ))\n",
    "source_3 = ColumnDataSource(data=dict(\n",
    "    x=df.drop_duplicates(['article_uni']).article_longitude,\n",
    "    y=df.drop_duplicates(['article_uni']).article_latitude,\n",
    "    name_uni=df.drop_duplicates(['article_uni']).article_uni,\n",
    "    #ranking=t.article_rating_copy,\n",
    "    #fill=bokeh_colors,\n",
    "    ))"
   ]
  },
  {
   "cell_type": "code",
   "execution_count": null,
   "metadata": {
    "scrolled": false
   },
   "outputs": [],
   "source": [
    "w = figure(plot_width=900, plot_height=600, x_range=(-180,180), y_range=(-90,90), tools=[\"box_select\", \"reset\",\"wheel_zoom\",\"pan\"]) \n",
    "w.patches(xs=df_country['xs'], ys=df_country['ys'], color='navy', fill_alpha=0.7, line_width=0.5) \n",
    "r1 = w.patches(xs='x', ys='y',source=source_2, fill_color='fill', fill_alpha=0.7, line_width=0.5)\n",
    "w.add_tools(HoverTool(renderers=[r1], tooltips = {\"Avg.ranking\":\"@{ranking}\"}))\n",
    "r2 = w.circle(x='x', y='y',source=source_3, size=0.05, color='red')\n",
    "w.add_tools(HoverTool(renderers=[r2], tooltips = {\"Name\":\"@{name_uni}\"}))\n",
    "show(w)"
   ]
  }
 ],
 "metadata": {
  "kernelspec": {
   "display_name": "Python 3",
   "language": "python",
   "name": "python3"
  },
  "language_info": {
   "codemirror_mode": {
    "name": "ipython",
    "version": 3
   },
   "file_extension": ".py",
   "mimetype": "text/x-python",
   "name": "python",
   "nbconvert_exporter": "python",
   "pygments_lexer": "ipython3",
   "version": "3.6.1"
  }
 },
 "nbformat": 4,
 "nbformat_minor": 2
}
