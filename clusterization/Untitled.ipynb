{
 "cells": [
  {
   "cell_type": "code",
   "execution_count": 45,
   "metadata": {},
   "outputs": [
    {
     "name": "stdout",
     "output_type": "stream",
     "text": [
      "(150, 2)\n"
     ]
    },
    {
     "data": {
      "image/png": "[encoded data removed]",
      "text/plain": [
       "<matplotlib.figure.Figure at 0x7fe74857aef0>"
      ]
     },
     "metadata": {},
     "output_type": "display_data"
    }
   ],
   "source": [
    "# needed imports\n",
    "from matplotlib import pyplot as plt\n",
    "from scipy.cluster.hierarchy import dendrogram, linkage\n",
    "import numpy as np\n",
    "\n",
    "\n",
    "# some setting for this notebook to actually show the graphs inline\n",
    "# you probably won't need this\n",
    "%matplotlib inline\n",
    "np.set_printoptions(precision=5, suppress=True)  # suppress scientific float notation\n",
    "\n",
    "# generate two clusters: a with 100 points, b with 50:\n",
    "np.random.seed(4711)  # for repeatability of this tutorial\n",
    "a = np.random.multivariate_normal([10, 0], [[3, 1], [1, 4]], size=[100,])\n",
    "b = np.random.multivariate_normal([0, 20], [[3, 1], [1, 4]], size=[50,])\n",
    "X = np.concatenate((a, b),)\n",
    "print(X.shape)  # 150 samples with 2 dimensions\n",
    "plt.scatter(X[:,0], X[:,1])\n",
    "plt.show()"
   ]
  },
  {
   "cell_type": "code",
   "execution_count": 47,
   "metadata": {},
   "outputs": [
    {
     "data": {
      "text/plain": [
       "0.98001483875742679"
      ]
     },
     "execution_count": 47,
     "metadata": {},
     "output_type": "execute_result"
    }
   ],
   "source": [
    "# generate the linkage matrix\n",
    "Z = linkage(X, 'ward')\n",
    "\n",
    "from scipy.cluster.hierarchy import cophenet\n",
    "from scipy.spatial.distance import pdist\n",
    "\n",
    "c, coph_dists = cophenet(Z, pdist(X))\n",
    "c"
   ]
  },
  {
   "cell_type": "code",
   "execution_count": 48,
   "metadata": {},
   "outputs": [
    {
     "data": {
      "text/plain": [
       "array([ 52.     ,  53.     ,   0.04151,   2.     ])"
      ]
     },
     "execution_count": 48,
     "metadata": {},
     "output_type": "execute_result"
    }
   ],
   "source": [
    "Z[0]"
   ]
  },
  {
   "cell_type": "code",
   "execution_count": 49,
   "metadata": {},
   "outputs": [
    {
     "data": {
      "text/plain": [
       "array([ 14.     ,  79.     ,   0.05914,   2.     ])"
      ]
     },
     "execution_count": 49,
     "metadata": {},
     "output_type": "execute_result"
    }
   ],
   "source": [
    "Z[1]"
   ]
  },
  {
   "cell_type": "code",
   "execution_count": 50,
   "metadata": {},
   "outputs": [
    {
     "data": {
      "text/plain": [
       "array([[  52.     ,   53.     ,    0.04151,    2.     ],\n",
       "       [  14.     ,   79.     ,    0.05914,    2.     ],\n",
       "       [  33.     ,   68.     ,    0.07107,    2.     ],\n",
       "       [  17.     ,   73.     ,    0.07137,    2.     ],\n",
       "       [   1.     ,    8.     ,    0.07543,    2.     ],\n",
       "       [  85.     ,   95.     ,    0.10928,    2.     ],\n",
       "       [ 108.     ,  131.     ,    0.11007,    2.     ],\n",
       "       [   9.     ,   66.     ,    0.11302,    2.     ],\n",
       "       [  15.     ,   69.     ,    0.11429,    2.     ],\n",
       "       [  63.     ,   98.     ,    0.1212 ,    2.     ],\n",
       "       [ 107.     ,  115.     ,    0.12167,    2.     ],\n",
       "       [  65.     ,   74.     ,    0.1249 ,    2.     ],\n",
       "       [  58.     ,   61.     ,    0.14028,    2.     ],\n",
       "       [  62.     ,  152.     ,    0.1726 ,    3.     ],\n",
       "       [  41.     ,  158.     ,    0.1779 ,    3.     ],\n",
       "       [  10.     ,   83.     ,    0.18635,    2.     ],\n",
       "       [ 114.     ,  139.     ,    0.20419,    2.     ],\n",
       "       [  39.     ,   88.     ,    0.20628,    2.     ],\n",
       "       [  70.     ,   96.     ,    0.21931,    2.     ],\n",
       "       [  46.     ,   50.     ,    0.22049,    2.     ]])"
      ]
     },
     "execution_count": 50,
     "metadata": {},
     "output_type": "execute_result"
    }
   ],
   "source": [
    "Z[:20]"
   ]
  }
 ],
 "metadata": {
  "kernelspec": {
   "display_name": "Python 3",
   "language": "python",
   "name": "python3"
  },
  "language_info": {
   "codemirror_mode": {
    "name": "ipython",
    "version": 3
   },
   "file_extension": ".py",
   "mimetype": "text/x-python",
   "name": "python",
   "nbconvert_exporter": "python",
   "pygments_lexer": "ipython3",
   "version": "3.6.3"
  }
 },
 "nbformat": 4,
 "nbformat_minor": 2
}
