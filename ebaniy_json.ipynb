{
 "cells": [
  {
   "cell_type": "code",
   "execution_count": 1,
   "metadata": {},
   "outputs": [],
   "source": [
    "import pandas as pd"
   ]
  },
  {
   "cell_type": "code",
   "execution_count": 2,
   "metadata": {},
   "outputs": [],
   "source": [
    "import json"
   ]
  },
  {
   "cell_type": "code",
   "execution_count": 3,
   "metadata": {},
   "outputs": [],
   "source": [
    "import os"
   ]
  },
  {
   "cell_type": "code",
   "execution_count": 10,
   "metadata": {},
   "outputs": [],
   "source": [
    "with open('cultural_data/libraries.json', 'rt', encoding='utf8') as data_file:\n",
    "    libraries = json.load(data_file)"
   ]
  },
  {
   "cell_type": "code",
   "execution_count": 41,
   "metadata": {},
   "outputs": [
    {
     "data": {
      "text/plain": [
       "{'__v': 10,\n",
       " '_id': '580e3b010f4e87fd1183757c',\n",
       " 'activated': '2016-10-24T16:46:56.856Z',\n",
       " 'created': '2016-10-24T16:46:57.923Z',\n",
       " 'data': {'general': {'address': {'comment': '',\n",
       "    'mapPosition': {'coordinates': [58.309780999999994, 42.50301500000001],\n",
       "     'type': 'Point'},\n",
       "    'street': 'д. Аксёново, 24'},\n",
       "   'category': {'name': 'Библиотеки', 'sysName': 'biblioteki'},\n",
       "   'contacts': {'email': 'biblioteka-gorkogo.galich@yandex.ru',\n",
       "    'phones': [{'comment': '', 'value': '74943721442'}]},\n",
       "   'description': '<p style=\"text-align:left\"><span>Библиотека основана в 1973 году. Расположена в деревне Аксёново Дмитриевского сельского поселения Галичского муниципального района. В зоне обслуживания библиотеки 100 человек, читателей по учреждению – 91. Книжный фонд составляет 3306 экз. книг.</span><span> Библиотекарем работает Поздина Олеся Олеговна.</span></p> <p style=\"text-align:left\"><span>Библиотека тесно сотрудничает с администрацией Дмитриевского сельского поселения, Аксёновским сельским клубом, местными ТОСами.</span><span> </span><span>Результатом </span><span>совместного творчества являются тематические вечера, праздники, огоньки, дни деревни</span><span>, которые неизменно собирают большую аудиторию.</span></p> <p style=\"text-align:left\"><span>Читатели библиотеки активно участвуют в областных и районных конкурсах. В 2015 году Поздин Никита и Цветкова Юлия награждены благодарственными письмами за участие в областном творческом конкурсе «Земля, воспетая стихами». </span></p> <p style=\"text-align:left\"><span>В библиотеке работают два клуба по интересам: клуб «Надежда» для взрослых читателей и детский клуб «Сказка».</span></p> <p style=\"text-align:left\"><span>Основные направления работы: семейное воспитание, духовно-нравственное воспитание, пропаганда здорового образа жизни, пропаганда художественной литературы.</span></p>',\n",
       "   'externalInfo': [{'serviceName': 'Культура.рф'}],\n",
       "   'id': 25431,\n",
       "   'image': {'title': '1.jpg',\n",
       "    'url': 'https://all.culture.ru/uploads/b0ecdd618b0a78a0cbe2c981d77dd684.jpg'},\n",
       "   'locale': {'id': 785,\n",
       "    'name': 'Галичский район',\n",
       "    'sysName': 'galichskiy-rayon',\n",
       "    'timezone': 'Europe/Moscow'},\n",
       "   'localeIds': [785, 185, 1],\n",
       "   'name': 'Аксёновская сельская библиотека-филиал № 4',\n",
       "   'organization': {'address': {'fullAddress': 'г. Галич, ул. Свободы, 6'},\n",
       "    'id': 10216,\n",
       "    'locale': {'id': 785,\n",
       "     'name': 'Галичский район',\n",
       "     'sysName': 'galichskiy-rayon',\n",
       "     'timezone': 'Europe/Moscow'},\n",
       "    'localeIds': [785, 185, 1],\n",
       "    'name': 'МКУК «Межпоселенческая библиотека имени М. Горького»',\n",
       "    'subordination': {'id': 785,\n",
       "     'name': 'Галичский район',\n",
       "     'sysName': 'galichskiy-rayon',\n",
       "     'timezone': 'Europe/Moscow'},\n",
       "    'subordinationIds': [785, 185, 1],\n",
       "    'type': 'mincult'},\n",
       "   'status': 'accepted',\n",
       "   'workingSchedule': {'1': {'from': '13:00:00', 'to': '16:30:00'},\n",
       "    '2': {'from': '13:00:00', 'to': '16:30:00'},\n",
       "    '3': {'from': '13:00:00', 'to': '16:30:00'},\n",
       "    '4': {'from': '13:00:00', 'to': '16:30:00'},\n",
       "    '6': {'from': '13:00:00', 'to': '16:30:00'}}},\n",
       "  'info': {'category': 'place',\n",
       "   'createDate': '2016-10-20T07:48:12Z',\n",
       "   'path': '/cdm/v2/libraries/25431',\n",
       "   'updateDate': '2016-10-24T14:07:12Z'}},\n",
       " 'dataset': '5774fbc7f2485ab25d8b7f35',\n",
       " 'hash': '2016-10-24T14:07:12Z',\n",
       " 'modified': '2017-08-14T20:58:52.961Z',\n",
       " 'nativeId': '25431',\n",
       " 'nativeName': 'Аксёновская сельская библиотека-филиал № 4',\n",
       " 'odSchema': '57f6aac6b718c717251d25ac',\n",
       " 'odSetVersions': ['580e3aff464500964a21d79c',\n",
       "  '581b3c215e9ae84b7d35df93',\n",
       "  '585515d129cd3ad258736f2a',\n",
       "  '5857b9cb77a292624754dad8',\n",
       "  '5880be3caabeaa071f51ca57',\n",
       "  '5894a743ce37a84f4f8e3b4a',\n",
       "  '58cb95fa31fb71386fbb8a10',\n",
       "  '58eb642f31fb71386fbbca3b',\n",
       "  '590301c9d175b6ff218d710f',\n",
       "  '59314d85a66f0f6b222fb123',\n",
       "  '59524a52085963056a18a568',\n",
       "  '59fb9af227c49f60036bacbe'],\n",
       " 'status': 0}"
      ]
     },
     "execution_count": 41,
     "metadata": {},
     "output_type": "execute_result"
    }
   ],
   "source": [
    "libraries[0]"
   ]
  },
  {
   "cell_type": "code",
   "execution_count": 54,
   "metadata": {},
   "outputs": [
    {
     "data": {
      "text/plain": [
       "'<p>Ходынинская библиотека была организованна в 1949 году. Раньше она была при клубе и ею заведовал зав. клубом Комаров М. Я. В 1954 году, после окончания годичных курсов в Ходынинскую библиотеку была направлена на работу областным Управлением культуры Горбатова Н. Н. Фонд библиотеки насчитывал 3065 экз. Отдельного помещения библиотека не имела. Фонд располагался в клубе на сцене, площадь которой была 4 кв. м. Стеллажей не было, работать с читателями было трудно<span> </span>и так продолжалось около двух лет. <span> </span>Потом при клубе сделали пристройку в 9 кв. м, изготовили стеллажи, и библиотека заработала в нормальных условиях. </p><p>С 1972 года библиотека расположена в здании Дома культуры, занимает комнату площадью 23 кв. м. С 1976 года библиотека считается городской, обслуживает читателей города Рыбное и с. Ходынино. Книжный фонд составляет<span> </span>5000 экз. Главные задачи в работе Ходынинской библиотеки:</p><p> –<span> </span>формирование социально активной личности;</p><p>– воспитание патриотизма, гражданственности, нравственных начал, экологического сознания, правовой культуры.</p>'"
      ]
     },
     "execution_count": 54,
     "metadata": {},
     "output_type": "execute_result"
    }
   ],
   "source": [
    " libraries[11]['data']['general']['description']"
   ]
  },
  {
   "cell_type": "code",
   "execution_count": 53,
   "metadata": {},
   "outputs": [
    {
     "data": {
      "text/plain": [
       "'Ходынинская городская библиотека'"
      ]
     },
     "execution_count": 53,
     "metadata": {},
     "output_type": "execute_result"
    }
   ],
   "source": [
    "libraries[11]['data']['general']['name']"
   ]
  },
  {
   "cell_type": "code",
   "execution_count": 46,
   "metadata": {},
   "outputs": [],
   "source": [
    "df = pd.DataFrame(columns=['Name','Discription'])"
   ]
  },
  {
   "cell_type": "code",
   "execution_count": 68,
   "metadata": {},
   "outputs": [],
   "source": [
    "df.loc[0]=[1,2]"
   ]
  },
  {
   "cell_type": "code",
   "execution_count": 97,
   "metadata": {},
   "outputs": [],
   "source": [
    "for i in range(0, len(libraries)):\n",
    "    df['Name'][i]=[libraries[i]['data']['general']['name']]\n",
    "    df['Discription'][i]=libraries[i]['data']['general']['description']"
   ]
  },
  {
   "cell_type": "code",
   "execution_count": 98,
   "metadata": {},
   "outputs": [
    {
     "data": {
      "text/plain": [
       "['Пензенская областная библиотека для детей и юношества']"
      ]
     },
     "execution_count": 98,
     "metadata": {},
     "output_type": "execute_result"
    }
   ],
   "source": [
    "df['Name'][i]"
   ]
  },
  {
   "cell_type": "code",
   "execution_count": 100,
   "metadata": {},
   "outputs": [
    {
     "data": {
      "text/html": [
       "<div>\n",
       "<table border=\"1\" class=\"dataframe\">\n",
       "  <thead>\n",
       "    <tr style=\"text-align: right;\">\n",
       "      <th></th>\n",
       "      <th>Name</th>\n",
       "      <th>Discription</th>\n",
       "    </tr>\n",
       "  </thead>\n",
       "  <tbody>\n",
       "    <tr>\n",
       "      <th>0</th>\n",
       "      <td>[Аксёновская сельская библиотека-филиал № 4]</td>\n",
       "      <td>&lt;p style=\"text-align:left\"&gt;&lt;span&gt;Библиотека ос...</td>\n",
       "    </tr>\n",
       "    <tr>\n",
       "      <th>1</th>\n",
       "      <td>[Мелёшинская сельская библиотека-филиал № 15]</td>\n",
       "      <td>&lt;p style=\"text-align:left\"&gt;&lt;span&gt; Библиотека о...</td>\n",
       "    </tr>\n",
       "    <tr>\n",
       "      <th>2</th>\n",
       "      <td>[Ряжская центральная библиотека]</td>\n",
       "      <td>&lt;p style=\"text-align:left\"&gt;&lt;span&gt;В феврале 186...</td>\n",
       "    </tr>\n",
       "    <tr>\n",
       "      <th>3</th>\n",
       "      <td>[Левковская сельская библиотека-филиал № 12]</td>\n",
       "      <td>&lt;p style=\"text-align:left\"&gt;&lt;span&gt;Левковская се...</td>\n",
       "    </tr>\n",
       "    <tr>\n",
       "      <th>4</th>\n",
       "      <td>[Сасовская центральная библиотека]</td>\n",
       "      <td>&lt;p style=\"text-align:left\"&gt;&lt;span&gt;&lt;span&gt;Сасовск...</td>\n",
       "    </tr>\n",
       "  </tbody>\n",
       "</table>\n",
       "</div>"
      ],
      "text/plain": [
       "                                            Name  \\\n",
       "0   [Аксёновская сельская библиотека-филиал № 4]   \n",
       "1  [Мелёшинская сельская библиотека-филиал № 15]   \n",
       "2               [Ряжская центральная библиотека]   \n",
       "3   [Левковская сельская библиотека-филиал № 12]   \n",
       "4             [Сасовская центральная библиотека]   \n",
       "\n",
       "                                         Discription  \n",
       "0  <p style=\"text-align:left\"><span>Библиотека ос...  \n",
       "1  <p style=\"text-align:left\"><span> Библиотека о...  \n",
       "2  <p style=\"text-align:left\"><span>В феврале 186...  \n",
       "3  <p style=\"text-align:left\"><span>Левковская се...  \n",
       "4  <p style=\"text-align:left\"><span><span>Сасовск...  "
      ]
     },
     "execution_count": 100,
     "metadata": {},
     "output_type": "execute_result"
    }
   ],
   "source": [
    "df.head()"
   ]
  },
  {
   "cell_type": "code",
   "execution_count": 110,
   "metadata": {},
   "outputs": [
    {
     "ename": "TypeError",
     "evalue": "Expected String or Unicode",
     "output_type": "error",
     "traceback": [
      "\u001b[0;31m---------------------------------------------------------------------------\u001b[0m",
      "\u001b[0;31mTypeError\u001b[0m                                 Traceback (most recent call last)",
      "\u001b[0;32m<ipython-input-110-d4222ab7e0fa>\u001b[0m in \u001b[0;36m<module>\u001b[0;34m()\u001b[0m\n\u001b[0;32m----> 1\u001b[0;31m \u001b[0mdf2\u001b[0m\u001b[0;34m=\u001b[0m\u001b[0mpd\u001b[0m\u001b[0;34m.\u001b[0m\u001b[0mread_json\u001b[0m\u001b[0;34m(\u001b[0m\u001b[0mlibraries\u001b[0m\u001b[0;34m,\u001b[0m\u001b[0morient\u001b[0m\u001b[0;34m=\u001b[0m\u001b[0;34m'values'\u001b[0m\u001b[0;34m)\u001b[0m\u001b[0;34m\u001b[0m\u001b[0m\n\u001b[0m",
      "\u001b[0;32m/opt/conda/lib/python3.6/site-packages/pandas/io/json.py\u001b[0m in \u001b[0;36mread_json\u001b[0;34m(path_or_buf, orient, typ, dtype, convert_axes, convert_dates, keep_default_dates, numpy, precise_float, date_unit, encoding, lines)\u001b[0m\n\u001b[1;32m    279\u001b[0m         obj = FrameParser(json, orient, dtype, convert_axes, convert_dates,\n\u001b[1;32m    280\u001b[0m                           \u001b[0mkeep_default_dates\u001b[0m\u001b[0;34m,\u001b[0m \u001b[0mnumpy\u001b[0m\u001b[0;34m,\u001b[0m \u001b[0mprecise_float\u001b[0m\u001b[0;34m,\u001b[0m\u001b[0;34m\u001b[0m\u001b[0m\n\u001b[0;32m--> 281\u001b[0;31m                           date_unit).parse()\n\u001b[0m\u001b[1;32m    282\u001b[0m \u001b[0;34m\u001b[0m\u001b[0m\n\u001b[1;32m    283\u001b[0m     \u001b[0;32mif\u001b[0m \u001b[0mtyp\u001b[0m \u001b[0;34m==\u001b[0m \u001b[0;34m'series'\u001b[0m \u001b[0;32mor\u001b[0m \u001b[0mobj\u001b[0m \u001b[0;32mis\u001b[0m \u001b[0;32mNone\u001b[0m\u001b[0;34m:\u001b[0m\u001b[0;34m\u001b[0m\u001b[0m\n",
      "\u001b[0;32m/opt/conda/lib/python3.6/site-packages/pandas/io/json.py\u001b[0m in \u001b[0;36mparse\u001b[0;34m(self)\u001b[0m\n\u001b[1;32m    347\u001b[0m \u001b[0;34m\u001b[0m\u001b[0m\n\u001b[1;32m    348\u001b[0m         \u001b[0;32melse\u001b[0m\u001b[0;34m:\u001b[0m\u001b[0;34m\u001b[0m\u001b[0m\n\u001b[0;32m--> 349\u001b[0;31m             \u001b[0mself\u001b[0m\u001b[0;34m.\u001b[0m\u001b[0m_parse_no_numpy\u001b[0m\u001b[0;34m(\u001b[0m\u001b[0;34m)\u001b[0m\u001b[0;34m\u001b[0m\u001b[0m\n\u001b[0m\u001b[1;32m    350\u001b[0m \u001b[0;34m\u001b[0m\u001b[0m\n\u001b[1;32m    351\u001b[0m         \u001b[0;32mif\u001b[0m \u001b[0mself\u001b[0m\u001b[0;34m.\u001b[0m\u001b[0mobj\u001b[0m \u001b[0;32mis\u001b[0m \u001b[0;32mNone\u001b[0m\u001b[0;34m:\u001b[0m\u001b[0;34m\u001b[0m\u001b[0m\n",
      "\u001b[0;32m/opt/conda/lib/python3.6/site-packages/pandas/io/json.py\u001b[0m in \u001b[0;36m_parse_no_numpy\u001b[0;34m(self)\u001b[0m\n\u001b[1;32m    577\u001b[0m         \u001b[0;32melse\u001b[0m\u001b[0;34m:\u001b[0m\u001b[0;34m\u001b[0m\u001b[0m\n\u001b[1;32m    578\u001b[0m             self.obj = DataFrame(\n\u001b[0;32m--> 579\u001b[0;31m                 loads(json, precise_float=self.precise_float), dtype=None)\n\u001b[0m\u001b[1;32m    580\u001b[0m \u001b[0;34m\u001b[0m\u001b[0m\n\u001b[1;32m    581\u001b[0m     \u001b[0;32mdef\u001b[0m \u001b[0m_process_converter\u001b[0m\u001b[0;34m(\u001b[0m\u001b[0mself\u001b[0m\u001b[0;34m,\u001b[0m \u001b[0mf\u001b[0m\u001b[0;34m,\u001b[0m \u001b[0mfilt\u001b[0m\u001b[0;34m=\u001b[0m\u001b[0;32mNone\u001b[0m\u001b[0;34m)\u001b[0m\u001b[0;34m:\u001b[0m\u001b[0;34m\u001b[0m\u001b[0m\n",
      "\u001b[0;31mTypeError\u001b[0m: Expected String or Unicode"
     ]
    }
   ],
   "source": [
    "df2=pd.read_json(libraries,orient='values')"
   ]
  },
  {
   "cell_type": "code",
   "execution_count": 104,
   "metadata": {},
   "outputs": [
    {
     "data": {
      "text/plain": [
       "'{\\'_id\\': \\'580e3b010f4e87fd1183757c\\', \\'created\\': \\'2016-10-24T16:46:57.923Z\\', \\'hash\\': \\'2016-10-24T14:07:12Z\\', \\'odSchema\\': \\'57f6aac6b718c717251d25ac\\', \\'nativeId\\': \\'25431\\', \\'data\\': {\\'info\\': {\\'path\\': \\'/cdm/v2/libraries/25431\\', \\'category\\': \\'place\\', \\'createDate\\': \\'2016-10-20T07:48:12Z\\', \\'updateDate\\': \\'2016-10-24T14:07:12Z\\'}, \\'general\\': {\\'id\\': 25431, \\'name\\': \\'Аксёновская сельская библиотека-филиал № 4\\', \\'description\\': \\'<p style=\"text-align:left\"><span>Библиотека основана в 1973 году. Расположена в деревне Аксёново Дмитриевского сельского поселения Галичского муниципального района. В зоне обслуживания библиотеки 100 человек, читателей по учреждению – 91. Книжный фонд составляет 3306 экз. книг.</span><span> Библиотекарем работает Поздина Олеся Олеговна.</span></p> <p style=\"text-align:left\"><span>Библиотека тесно сотрудничает с администрацией Дмитриевского сельского поселения, Аксёновским сельским клубом, местными ТОСами.</span><span> </span><span>Результатом </span><span>совместного творчества являются тематические вечера, праздники, огоньки, дни деревни</span><span>, которые неизменно собирают большую аудиторию.</span></p> <p style=\"text-align:left\"><span>Читатели библиотеки активно участвуют в областных и районных конкурсах. В 2015 году Поздин Никита и Цветкова Юлия награждены благодарственными письмами за участие в областном творческом конкурсе «Земля, воспетая стихами». </span></p> <p style=\"text-align:left\"><span>В библиотеке работают два клуба по интересам: клуб «Надежда» для взрослых читателей и детский клуб «Сказка».</span></p> <p style=\"text-align:left\"><span>Основные направления работы: семейное воспитание, духовно-нравственное воспитание, пропаганда здорового образа жизни, пропаганда художественной литературы.</span></p>\\', \\'status\\': \\'accepted\\', \\'address\\': {\\'street\\': \\'д. Аксёново, 24\\', \\'comment\\': \\'\\', \\'mapPosition\\': {\\'type\\': \\'Point\\', \\'coordinates\\': [58.309780999999994, 42.50301500000001]}}, \\'category\\': {\\'name\\': \\'Библиотеки\\', \\'sysName\\': \\'biblioteki\\'}, \\'contacts\\': {\\'email\\': \\'biblioteka-gorkogo.galich@yandex.ru\\', \\'phones\\': [{\\'value\\': \\'74943721442\\', \\'comment\\': \\'\\'}]}, \\'externalInfo\\': [{\\'serviceName\\': \\'Культура.рф\\'}], \\'image\\': {\\'url\\': \\'https://all.culture.ru/uploads/b0ecdd618b0a78a0cbe2c981d77dd684.jpg\\', \\'title\\': \\'1.jpg\\'}, \\'localeIds\\': [785, 185, 1], \\'locale\\': {\\'name\\': \\'Галичский район\\', \\'timezone\\': \\'Europe/Moscow\\', \\'sysName\\': \\'galichskiy-rayon\\', \\'id\\': 785}, \\'organization\\': {\\'id\\': 10216, \\'name\\': \\'МКУК «Межпоселенческая библиотека имени М. Горького»\\', \\'type\\': \\'mincult\\', \\'address\\': {\\'fullAddress\\': \\'г. Галич, ул. Свободы, 6\\'}, \\'subordinationIds\\': [785, 185, 1], \\'subordination\\': {\\'name\\': \\'Галичский район\\', \\'timezone\\': \\'Europe/Moscow\\', \\'sysName\\': \\'galichskiy-rayon\\', \\'id\\': 785}, \\'localeIds\\': [785, 185, 1], \\'locale\\': {\\'name\\': \\'Галичский район\\', \\'timezone\\': \\'Europe/Moscow\\', \\'sysName\\': \\'galichskiy-rayon\\', \\'id\\': 785}}, \\'workingSchedule\\': {\\'1\\': {\\'from\\': \\'13:00:00\\', \\'to\\': \\'16:30:00\\'}, \\'2\\': {\\'from\\': \\'13:00:00\\', \\'to\\': \\'16:30:00\\'}, \\'3\\': {\\'from\\': \\'13:00:00\\', \\'to\\': \\'16:30:00\\'}, \\'4\\': {\\'from\\': \\'13:00:00\\', \\'to\\': \\'16:30:00\\'}, \\'6\\': {\\'from\\': \\'13:00:00\\', \\'to\\': \\'16:30:00\\'}}}}, \\'__v\\': 10, \\'dataset\\': \\'5774fbc7f2485ab25d8b7f35\\', \\'nativeName\\': \\'Аксёновская сельская библиотека-филиал № 4\\', \\'modified\\': \\'2017-08-14T20:58:52.961Z\\', \\'activated\\': \\'2016-10-24T16:46:56.856Z\\', \\'status\\': 0, \\'odSetVersions\\': [\\'580e3aff464500964a21d79c\\', \\'581b3c215e9ae84b7d35df93\\', \\'585515d129cd3ad258736f2a\\', \\'5857b9cb77a292624754dad8\\', \\'5880be3caabeaa071f51ca57\\', \\'5894a743ce37a84f4f8e3b4a\\', \\'58cb95fa31fb71386fbb8a10\\', \\'58eb642f31fb71386fbbca3b\\', \\'590301c9d175b6ff218d710f\\', \\'59314d85a66f0f6b222fb123\\', \\'59524a52085963056a18a568\\', \\'59fb9af227c49f60036bacbe\\']}'"
      ]
     },
     "execution_count": 104,
     "metadata": {},
     "output_type": "execute_result"
    }
   ],
   "source": []
  },
  {
   "cell_type": "code",
   "execution_count": 2,
   "metadata": {},
   "outputs": [],
   "source": [
    "import json"
   ]
  },
  {
   "cell_type": "code",
   "execution_count": 4,
   "metadata": {},
   "outputs": [
    {
     "name": "stdout",
     "output_type": "stream",
     "text": [
      "Collecting twitter\n",
      "  Downloading twitter-1.18.0-py2.py3-none-any.whl (54kB)\n",
      "\u001b[K    100% |████████████████████████████████| 61kB 486kB/s ta 0:00:01\n",
      "\u001b[?25hInstalling collected packages: twitter\n",
      "Successfully installed twitter-1.18.0\n"
     ]
    }
   ],
   "source": [
    "!pip install twitter"
   ]
  },
  {
   "cell_type": "code",
   "execution_count": 5,
   "metadata": {},
   "outputs": [],
   "source": [
    "from twitter import Twitter, OAuth, TwitterHTTPError, TwitterStream"
   ]
  },
  {
   "cell_type": "code",
   "execution_count": 6,
   "metadata": {},
   "outputs": [],
   "source": [
    "ACCESS_TOKEN = '3236221677-PSP3tGz1NTGuEpZfOwCeLRrFCiaBvQ77qNBS2R3'\n",
    "ACCESS_SECRET = '\tvzJhneHMnAEr6NFLY5yHz4aD9yZdvMv6WU2q7L3nmOx8e'\n",
    "CONSUMER_KEY = 'PKwRQ5eBB5EphH37QXLMtfPfH'\n",
    "CONSUMER_SECRET = 'AvFrt0B6OuQKMXgpYbKSB2kbz0TKp1sSAaiuuzMtO5Ih3CO560'"
   ]
  },
  {
   "cell_type": "code",
   "execution_count": 7,
   "metadata": {},
   "outputs": [],
   "source": [
    "oauth = OAuth(ACCESS_TOKEN, ACCESS_SECRET, CONSUMER_KEY, CONSUMER_SECRET)"
   ]
  },
  {
   "cell_type": "code",
   "execution_count": 8,
   "metadata": {},
   "outputs": [],
   "source": [
    "twitter_stream = TwitterStream(auth=oauth)"
   ]
  },
  {
   "cell_type": "code",
   "execution_count": 9,
   "metadata": {},
   "outputs": [
    {
     "ename": "TwitterHTTPError",
     "evalue": "Twitter sent status 401 for URL: 1.1/statuses/sample.json using parameters: (oauth_consumer_key=PKwRQ5eBB5EphH37QXLMtfPfH&oauth_nonce=12013122683052139281&oauth_signature_method=HMAC-SHA1&oauth_timestamp=1512240472&oauth_token=3236221677-PSP3tGz1NTGuEpZfOwCeLRrFCiaBvQ77qNBS2R3&oauth_version=1.0&oauth_signature=NCmQBVLLpvhNO4iBP46pRiCo85c%3D)\ndetails: <html>\\n<head>\\n<meta http-equiv=\"Content-Type\" content=\"text/html; charset=utf-8\"/>\\n<title>Error 401 Unauthorized</title>\n</head>\n<body>\n<h2>HTTP ERROR: 401</h2>\n<p>Problem accessing '/1.1/statuses/sample.json?oauth_consumer_key=PKwRQ5eBB5EphH37QXLMtfPfH&amp;oauth_nonce=12013122683052139281&amp;oauth_signature_method=HMAC-SHA1&amp;oauth_timestamp=1512240472&amp;oauth_token=3236221677-PSP3tGz1NTGuEpZfOwCeLRrFCiaBvQ77qNBS2R3&amp;oauth_version=1.0&amp;oauth_signature=NCmQBVLLpvhNO4iBP46pRiCo85c%3D'. Reason:\n<pre>    Unauthorized</pre>\n</body>\n</html>\n",
     "output_type": "error",
     "traceback": [
      "\u001b[0;31m---------------------------------------------------------------------------\u001b[0m",
      "\u001b[0;31mHTTPError\u001b[0m                                 Traceback (most recent call last)",
      "\u001b[0;32m/opt/conda/lib/python3.6/site-packages/twitter/stream.py\u001b[0m in \u001b[0;36mhandle_stream_response\u001b[0;34m(req, uri, arg_data, block, timeout, heartbeat_timeout)\u001b[0m\n\u001b[1;32m    210\u001b[0m     \u001b[0;32mtry\u001b[0m\u001b[0;34m:\u001b[0m\u001b[0;34m\u001b[0m\u001b[0m\n\u001b[0;32m--> 211\u001b[0;31m         \u001b[0mhandle\u001b[0m \u001b[0;34m=\u001b[0m \u001b[0murllib_request\u001b[0m\u001b[0;34m.\u001b[0m\u001b[0murlopen\u001b[0m\u001b[0;34m(\u001b[0m\u001b[0mreq\u001b[0m\u001b[0;34m,\u001b[0m\u001b[0;34m)\u001b[0m\u001b[0;34m\u001b[0m\u001b[0m\n\u001b[0m\u001b[1;32m    212\u001b[0m     \u001b[0;32mexcept\u001b[0m \u001b[0murllib_error\u001b[0m\u001b[0;34m.\u001b[0m\u001b[0mHTTPError\u001b[0m \u001b[0;32mas\u001b[0m \u001b[0me\u001b[0m\u001b[0;34m:\u001b[0m\u001b[0;34m\u001b[0m\u001b[0m\n",
      "\u001b[0;32m/opt/conda/lib/python3.6/urllib/request.py\u001b[0m in \u001b[0;36murlopen\u001b[0;34m(url, data, timeout, cafile, capath, cadefault, context)\u001b[0m\n\u001b[1;32m    222\u001b[0m         \u001b[0mopener\u001b[0m \u001b[0;34m=\u001b[0m \u001b[0m_opener\u001b[0m\u001b[0;34m\u001b[0m\u001b[0m\n\u001b[0;32m--> 223\u001b[0;31m     \u001b[0;32mreturn\u001b[0m \u001b[0mopener\u001b[0m\u001b[0;34m.\u001b[0m\u001b[0mopen\u001b[0m\u001b[0;34m(\u001b[0m\u001b[0murl\u001b[0m\u001b[0;34m,\u001b[0m \u001b[0mdata\u001b[0m\u001b[0;34m,\u001b[0m \u001b[0mtimeout\u001b[0m\u001b[0;34m)\u001b[0m\u001b[0;34m\u001b[0m\u001b[0m\n\u001b[0m\u001b[1;32m    224\u001b[0m \u001b[0;34m\u001b[0m\u001b[0m\n",
      "\u001b[0;32m/opt/conda/lib/python3.6/urllib/request.py\u001b[0m in \u001b[0;36mopen\u001b[0;34m(self, fullurl, data, timeout)\u001b[0m\n\u001b[1;32m    531\u001b[0m             \u001b[0mmeth\u001b[0m \u001b[0;34m=\u001b[0m \u001b[0mgetattr\u001b[0m\u001b[0;34m(\u001b[0m\u001b[0mprocessor\u001b[0m\u001b[0;34m,\u001b[0m \u001b[0mmeth_name\u001b[0m\u001b[0;34m)\u001b[0m\u001b[0;34m\u001b[0m\u001b[0m\n\u001b[0;32m--> 532\u001b[0;31m             \u001b[0mresponse\u001b[0m \u001b[0;34m=\u001b[0m \u001b[0mmeth\u001b[0m\u001b[0;34m(\u001b[0m\u001b[0mreq\u001b[0m\u001b[0;34m,\u001b[0m \u001b[0mresponse\u001b[0m\u001b[0;34m)\u001b[0m\u001b[0;34m\u001b[0m\u001b[0m\n\u001b[0m\u001b[1;32m    533\u001b[0m \u001b[0;34m\u001b[0m\u001b[0m\n",
      "\u001b[0;32m/opt/conda/lib/python3.6/urllib/request.py\u001b[0m in \u001b[0;36mhttp_response\u001b[0;34m(self, request, response)\u001b[0m\n\u001b[1;32m    641\u001b[0m             response = self.parent.error(\n\u001b[0;32m--> 642\u001b[0;31m                 'http', request, response, code, msg, hdrs)\n\u001b[0m\u001b[1;32m    643\u001b[0m \u001b[0;34m\u001b[0m\u001b[0m\n",
      "\u001b[0;32m/opt/conda/lib/python3.6/urllib/request.py\u001b[0m in \u001b[0;36merror\u001b[0;34m(self, proto, *args)\u001b[0m\n\u001b[1;32m    569\u001b[0m             \u001b[0margs\u001b[0m \u001b[0;34m=\u001b[0m \u001b[0;34m(\u001b[0m\u001b[0mdict\u001b[0m\u001b[0;34m,\u001b[0m \u001b[0;34m'default'\u001b[0m\u001b[0;34m,\u001b[0m \u001b[0;34m'http_error_default'\u001b[0m\u001b[0;34m)\u001b[0m \u001b[0;34m+\u001b[0m \u001b[0morig_args\u001b[0m\u001b[0;34m\u001b[0m\u001b[0m\n\u001b[0;32m--> 570\u001b[0;31m             \u001b[0;32mreturn\u001b[0m \u001b[0mself\u001b[0m\u001b[0;34m.\u001b[0m\u001b[0m_call_chain\u001b[0m\u001b[0;34m(\u001b[0m\u001b[0;34m*\u001b[0m\u001b[0margs\u001b[0m\u001b[0;34m)\u001b[0m\u001b[0;34m\u001b[0m\u001b[0m\n\u001b[0m\u001b[1;32m    571\u001b[0m \u001b[0;34m\u001b[0m\u001b[0m\n",
      "\u001b[0;32m/opt/conda/lib/python3.6/urllib/request.py\u001b[0m in \u001b[0;36m_call_chain\u001b[0;34m(self, chain, kind, meth_name, *args)\u001b[0m\n\u001b[1;32m    503\u001b[0m             \u001b[0mfunc\u001b[0m \u001b[0;34m=\u001b[0m \u001b[0mgetattr\u001b[0m\u001b[0;34m(\u001b[0m\u001b[0mhandler\u001b[0m\u001b[0;34m,\u001b[0m \u001b[0mmeth_name\u001b[0m\u001b[0;34m)\u001b[0m\u001b[0;34m\u001b[0m\u001b[0m\n\u001b[0;32m--> 504\u001b[0;31m             \u001b[0mresult\u001b[0m \u001b[0;34m=\u001b[0m \u001b[0mfunc\u001b[0m\u001b[0;34m(\u001b[0m\u001b[0;34m*\u001b[0m\u001b[0margs\u001b[0m\u001b[0;34m)\u001b[0m\u001b[0;34m\u001b[0m\u001b[0m\n\u001b[0m\u001b[1;32m    505\u001b[0m             \u001b[0;32mif\u001b[0m \u001b[0mresult\u001b[0m \u001b[0;32mis\u001b[0m \u001b[0;32mnot\u001b[0m \u001b[0;32mNone\u001b[0m\u001b[0;34m:\u001b[0m\u001b[0;34m\u001b[0m\u001b[0m\n",
      "\u001b[0;32m/opt/conda/lib/python3.6/urllib/request.py\u001b[0m in \u001b[0;36mhttp_error_default\u001b[0;34m(self, req, fp, code, msg, hdrs)\u001b[0m\n\u001b[1;32m    649\u001b[0m     \u001b[0;32mdef\u001b[0m \u001b[0mhttp_error_default\u001b[0m\u001b[0;34m(\u001b[0m\u001b[0mself\u001b[0m\u001b[0;34m,\u001b[0m \u001b[0mreq\u001b[0m\u001b[0;34m,\u001b[0m \u001b[0mfp\u001b[0m\u001b[0;34m,\u001b[0m \u001b[0mcode\u001b[0m\u001b[0;34m,\u001b[0m \u001b[0mmsg\u001b[0m\u001b[0;34m,\u001b[0m \u001b[0mhdrs\u001b[0m\u001b[0;34m)\u001b[0m\u001b[0;34m:\u001b[0m\u001b[0;34m\u001b[0m\u001b[0m\n\u001b[0;32m--> 650\u001b[0;31m         \u001b[0;32mraise\u001b[0m \u001b[0mHTTPError\u001b[0m\u001b[0;34m(\u001b[0m\u001b[0mreq\u001b[0m\u001b[0;34m.\u001b[0m\u001b[0mfull_url\u001b[0m\u001b[0;34m,\u001b[0m \u001b[0mcode\u001b[0m\u001b[0;34m,\u001b[0m \u001b[0mmsg\u001b[0m\u001b[0;34m,\u001b[0m \u001b[0mhdrs\u001b[0m\u001b[0;34m,\u001b[0m \u001b[0mfp\u001b[0m\u001b[0;34m)\u001b[0m\u001b[0;34m\u001b[0m\u001b[0m\n\u001b[0m\u001b[1;32m    651\u001b[0m \u001b[0;34m\u001b[0m\u001b[0m\n",
      "\u001b[0;31mHTTPError\u001b[0m: HTTP Error 401: Authorization Required",
      "\nDuring handling of the above exception, another exception occurred:\n",
      "\u001b[0;31mTwitterHTTPError\u001b[0m                          Traceback (most recent call last)",
      "\u001b[0;32m<ipython-input-9-f57fd805e879>\u001b[0m in \u001b[0;36m<module>\u001b[0;34m()\u001b[0m\n\u001b[0;32m----> 1\u001b[0;31m \u001b[0miterator\u001b[0m \u001b[0;34m=\u001b[0m \u001b[0mtwitter_stream\u001b[0m\u001b[0;34m.\u001b[0m\u001b[0mstatuses\u001b[0m\u001b[0;34m.\u001b[0m\u001b[0msample\u001b[0m\u001b[0;34m(\u001b[0m\u001b[0;34m)\u001b[0m\u001b[0;34m\u001b[0m\u001b[0m\n\u001b[0m",
      "\u001b[0;32m/opt/conda/lib/python3.6/site-packages/twitter/api.py\u001b[0m in \u001b[0;36m__call__\u001b[0;34m(self, **kwargs)\u001b[0m\n\u001b[1;32m    332\u001b[0m             \u001b[0;32mreturn\u001b[0m \u001b[0mself\u001b[0m\u001b[0;34m.\u001b[0m\u001b[0m_handle_response_with_retry\u001b[0m\u001b[0;34m(\u001b[0m\u001b[0mreq\u001b[0m\u001b[0;34m,\u001b[0m \u001b[0muri\u001b[0m\u001b[0;34m,\u001b[0m \u001b[0marg_data\u001b[0m\u001b[0;34m,\u001b[0m \u001b[0m_timeout\u001b[0m\u001b[0;34m)\u001b[0m\u001b[0;34m\u001b[0m\u001b[0m\n\u001b[1;32m    333\u001b[0m         \u001b[0;32melse\u001b[0m\u001b[0;34m:\u001b[0m\u001b[0;34m\u001b[0m\u001b[0m\n\u001b[0;32m--> 334\u001b[0;31m             \u001b[0;32mreturn\u001b[0m \u001b[0mself\u001b[0m\u001b[0;34m.\u001b[0m\u001b[0m_handle_response\u001b[0m\u001b[0;34m(\u001b[0m\u001b[0mreq\u001b[0m\u001b[0;34m,\u001b[0m \u001b[0muri\u001b[0m\u001b[0;34m,\u001b[0m \u001b[0marg_data\u001b[0m\u001b[0;34m,\u001b[0m \u001b[0m_timeout\u001b[0m\u001b[0;34m)\u001b[0m\u001b[0;34m\u001b[0m\u001b[0m\n\u001b[0m\u001b[1;32m    335\u001b[0m \u001b[0;34m\u001b[0m\u001b[0m\n\u001b[1;32m    336\u001b[0m     \u001b[0;32mdef\u001b[0m \u001b[0m_handle_response\u001b[0m\u001b[0;34m(\u001b[0m\u001b[0mself\u001b[0m\u001b[0;34m,\u001b[0m \u001b[0mreq\u001b[0m\u001b[0;34m,\u001b[0m \u001b[0muri\u001b[0m\u001b[0;34m,\u001b[0m \u001b[0marg_data\u001b[0m\u001b[0;34m,\u001b[0m \u001b[0m_timeout\u001b[0m\u001b[0;34m=\u001b[0m\u001b[0;32mNone\u001b[0m\u001b[0;34m)\u001b[0m\u001b[0;34m:\u001b[0m\u001b[0;34m\u001b[0m\u001b[0m\n",
      "\u001b[0;32m/opt/conda/lib/python3.6/site-packages/twitter/stream.py\u001b[0m in \u001b[0;36m_handle_response\u001b[0;34m(self, req, uri, arg_data, _timeout)\u001b[0m\n\u001b[1;32m    286\u001b[0m                 return handle_stream_response(\n\u001b[1;32m    287\u001b[0m                     \u001b[0mreq\u001b[0m\u001b[0;34m,\u001b[0m \u001b[0muri\u001b[0m\u001b[0;34m,\u001b[0m \u001b[0marg_data\u001b[0m\u001b[0;34m,\u001b[0m \u001b[0mblock\u001b[0m\u001b[0;34m,\u001b[0m\u001b[0;34m\u001b[0m\u001b[0m\n\u001b[0;32m--> 288\u001b[0;31m                     _timeout or timeout, heartbeat_timeout)\n\u001b[0m\u001b[1;32m    289\u001b[0m \u001b[0;34m\u001b[0m\u001b[0m\n\u001b[1;32m    290\u001b[0m         TwitterCall.__init__(\n",
      "\u001b[0;32m/opt/conda/lib/python3.6/site-packages/twitter/stream.py\u001b[0m in \u001b[0;36mhandle_stream_response\u001b[0;34m(req, uri, arg_data, block, timeout, heartbeat_timeout)\u001b[0m\n\u001b[1;32m    211\u001b[0m         \u001b[0mhandle\u001b[0m \u001b[0;34m=\u001b[0m \u001b[0murllib_request\u001b[0m\u001b[0;34m.\u001b[0m\u001b[0murlopen\u001b[0m\u001b[0;34m(\u001b[0m\u001b[0mreq\u001b[0m\u001b[0;34m,\u001b[0m\u001b[0;34m)\u001b[0m\u001b[0;34m\u001b[0m\u001b[0m\n\u001b[1;32m    212\u001b[0m     \u001b[0;32mexcept\u001b[0m \u001b[0murllib_error\u001b[0m\u001b[0;34m.\u001b[0m\u001b[0mHTTPError\u001b[0m \u001b[0;32mas\u001b[0m \u001b[0me\u001b[0m\u001b[0;34m:\u001b[0m\u001b[0;34m\u001b[0m\u001b[0m\n\u001b[0;32m--> 213\u001b[0;31m         \u001b[0;32mraise\u001b[0m \u001b[0mTwitterHTTPError\u001b[0m\u001b[0;34m(\u001b[0m\u001b[0me\u001b[0m\u001b[0;34m,\u001b[0m \u001b[0muri\u001b[0m\u001b[0;34m,\u001b[0m \u001b[0;34m'json'\u001b[0m\u001b[0;34m,\u001b[0m \u001b[0marg_data\u001b[0m\u001b[0;34m)\u001b[0m\u001b[0;34m\u001b[0m\u001b[0m\n\u001b[0m\u001b[1;32m    214\u001b[0m     \u001b[0;32mreturn\u001b[0m \u001b[0miter\u001b[0m\u001b[0;34m(\u001b[0m\u001b[0mTwitterJSONIter\u001b[0m\u001b[0;34m(\u001b[0m\u001b[0mhandle\u001b[0m\u001b[0;34m,\u001b[0m \u001b[0muri\u001b[0m\u001b[0;34m,\u001b[0m \u001b[0marg_data\u001b[0m\u001b[0;34m,\u001b[0m \u001b[0mblock\u001b[0m\u001b[0;34m,\u001b[0m \u001b[0mtimeout\u001b[0m\u001b[0;34m,\u001b[0m \u001b[0mheartbeat_timeout\u001b[0m\u001b[0;34m)\u001b[0m\u001b[0;34m)\u001b[0m\u001b[0;34m\u001b[0m\u001b[0m\n\u001b[1;32m    215\u001b[0m \u001b[0;34m\u001b[0m\u001b[0m\n",
      "\u001b[0;31mTwitterHTTPError\u001b[0m: Twitter sent status 401 for URL: 1.1/statuses/sample.json using parameters: (oauth_consumer_key=PKwRQ5eBB5EphH37QXLMtfPfH&oauth_nonce=12013122683052139281&oauth_signature_method=HMAC-SHA1&oauth_timestamp=1512240472&oauth_token=3236221677-PSP3tGz1NTGuEpZfOwCeLRrFCiaBvQ77qNBS2R3&oauth_version=1.0&oauth_signature=NCmQBVLLpvhNO4iBP46pRiCo85c%3D)\ndetails: <html>\\n<head>\\n<meta http-equiv=\"Content-Type\" content=\"text/html; charset=utf-8\"/>\\n<title>Error 401 Unauthorized</title>\n</head>\n<body>\n<h2>HTTP ERROR: 401</h2>\n<p>Problem accessing '/1.1/statuses/sample.json?oauth_consumer_key=PKwRQ5eBB5EphH37QXLMtfPfH&amp;oauth_nonce=12013122683052139281&amp;oauth_signature_method=HMAC-SHA1&amp;oauth_timestamp=1512240472&amp;oauth_token=3236221677-PSP3tGz1NTGuEpZfOwCeLRrFCiaBvQ77qNBS2R3&amp;oauth_version=1.0&amp;oauth_signature=NCmQBVLLpvhNO4iBP46pRiCo85c%3D'. Reason:\n<pre>    Unauthorized</pre>\n</body>\n</html>\n"
     ]
    }
   ],
   "source": [
    "iterator = twitter_stream.statuses.sample()"
   ]
  },
  {
   "cell_type": "code",
   "execution_count": 11,
   "metadata": {},
   "outputs": [],
   "source": [
    "import twitter"
   ]
  },
  {
   "cell_type": "code",
   "execution_count": 12,
   "metadata": {},
   "outputs": [
    {
     "ename": "AttributeError",
     "evalue": "module 'twitter' has no attribute 'search'",
     "output_type": "error",
     "traceback": [
      "\u001b[0;31m---------------------------------------------------------------------------\u001b[0m",
      "\u001b[0;31mAttributeError\u001b[0m                            Traceback (most recent call last)",
      "\u001b[0;32m<ipython-input-12-25daf7a2edf8>\u001b[0m in \u001b[0;36m<module>\u001b[0;34m()\u001b[0m\n\u001b[0;32m----> 1\u001b[0;31m \u001b[0mtwitter\u001b[0m\u001b[0;34m.\u001b[0m\u001b[0msearch\u001b[0m\u001b[0;34m.\u001b[0m\u001b[0mtweets\u001b[0m\u001b[0;34m(\u001b[0m\u001b[0mq\u001b[0m\u001b[0;34m=\u001b[0m\u001b[0;34m'#nlproc'\u001b[0m\u001b[0;34m)\u001b[0m\u001b[0;34m\u001b[0m\u001b[0m\n\u001b[0m",
      "\u001b[0;31mAttributeError\u001b[0m: module 'twitter' has no attribute 'search'"
     ]
    }
   ],
   "source": [
    "twitter.search.tweets(q='#nlproc')"
   ]
  }
 ],
 "metadata": {
  "kernelspec": {
   "display_name": "Python 3",
   "language": "python",
   "name": "python3"
  },
  "language_info": {
   "codemirror_mode": {
    "name": "ipython",
    "version": 3
   },
   "file_extension": ".py",
   "mimetype": "text/x-python",
   "name": "python",
   "nbconvert_exporter": "python",
   "pygments_lexer": "ipython3",
   "version": "3.6.3"
  }
 },
 "nbformat": 4,
 "nbformat_minor": 2
}
