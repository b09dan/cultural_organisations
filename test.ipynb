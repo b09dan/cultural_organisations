{
 "cells": [
  {
   "cell_type": "code",
   "execution_count": 1,
   "metadata": {},
   "outputs": [
    {
     "name": "stdout",
     "output_type": "stream",
     "text": [
      "test\n"
     ]
    }
   ],
   "source": [
    "print(\"test\")"
   ]
  },
  {
   "cell_type": "code",
   "execution_count": null,
   "metadata": {},
   "outputs": [],
   "source": []
  },
  {
   "cell_type": "code",
   "execution_count": 2,
   "metadata": {},
   "outputs": [
    {
     "data": {
      "text/plain": [
       "'sha1:7116dafa7feb:4e4aef7ea08ab9a01cc3296b8c63e756526ecce3'"
      ]
     },
     "execution_count": 2,
     "metadata": {},
     "output_type": "execute_result"
    }
   ],
   "source": [
    "import IPython.lib.security\n",
    "IPython.lib.security.passwd(passphrase=\"blabla\", algorithm='sha1')"
   ]
  },
  {
   "cell_type": "code",
   "execution_count": 3,
   "metadata": {},
   "outputs": [
    {
     "name": "stdout",
     "output_type": "stream",
     "text": [
      "2017-11-08 11:35:00\n"
     ]
    }
   ],
   "source": [
    "import datetime\n",
    "print(\n",
    "    datetime.datetime.fromtimestamp(int(\"1510140900\")).strftime('%Y-%m-%d %H:%M:%S')\n",
    ")"
   ]
  },
  {
   "cell_type": "code",
   "execution_count": 7,
   "metadata": {},
   "outputs": [
    {
     "name": "stdout",
     "output_type": "stream",
     "text": [
      "['museums_new.json', 'theaters.json', 'museums.json', 'libraries.json']\n"
     ]
    }
   ],
   "source": [
    "from os import listdir\n",
    "from os.path import isfile, join\n",
    "path_with_jsons = 'cultural_data'\n",
    "onlyfiles = [f for f in listdir(path_with_jsons) if isfile(join(path_with_jsons, f))]\n",
    "print(onlyfiles)"
   ]
  },
  {
   "cell_type": "code",
   "execution_count": 8,
   "metadata": {},
   "outputs": [
    {
     "name": "stdout",
     "output_type": "stream",
     "text": [
      "855f938d67b52b5a7eb124320a21a139\n"
     ]
    }
   ],
   "source": [
    "import hashlib\n",
    "print(hashlib.md5(\"whatever your string is\".encode('utf-8')).hexdigest())"
   ]
  },
  {
   "cell_type": "code",
   "execution_count": 15,
   "metadata": {},
   "outputs": [
    {
     "name": "stdout",
     "output_type": "stream",
     "text": [
      "fk\\'fkkfkf\n"
     ]
    }
   ],
   "source": [
    "a_string = \"fk'fkkfkf\"\n",
    "escaped = a_string.translate(str.maketrans({\"-\":  r\"\\-\",\n",
    "                                          \"]\":  r\"\\]\",\n",
    "                                          \"\\\\\": r\"\\\\\",\n",
    "                                          \"^\":  r\"\\^\",\n",
    "                                          \"$\":  r\"\\$\",\n",
    "                                          \"*\":  r\"\\*\",\n",
    "                                          \"'\":  r\"\\'\",\n",
    "                                          '\"':  r'\\\"',\n",
    "                                          \".\":  r\"\\.\"}))\n",
    "print(escaped)"
   ]
  }
 ],
 "metadata": {
  "kernelspec": {
   "display_name": "Python 3",
   "language": "python",
   "name": "python3"
  },
  "language_info": {
   "codemirror_mode": {
    "name": "ipython",
    "version": 3
   },
   "file_extension": ".py",
   "mimetype": "text/x-python",
   "name": "python",
   "nbconvert_exporter": "python",
   "pygments_lexer": "ipython3",
   "version": "3.6.3"
  }
 },
 "nbformat": 4,
 "nbformat_minor": 2
}
