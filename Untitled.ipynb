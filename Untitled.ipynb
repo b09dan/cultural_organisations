{
 "cells": [
  {
   "cell_type": "code",
   "execution_count": 18,
   "metadata": {},
   "outputs": [
    {
     "name": "stdout",
     "output_type": "stream",
     "text": [
      "ok!\n"
     ]
    }
   ],
   "source": [
    "import os\n",
    "import json\n",
    "# print(os.getcwd())\n",
    "with open('cultural_data/museums.json', 'rt', encoding='utf8') as data_file:\n",
    "    museums = json.load(data_file)\n",
    "    file = open('cultural_data/museums_new.json', 'w', encoding='utf8')\n",
    "    file.write(json.dumps(museums, indent=4, sort_keys=True))\n",
    "    file.close()\n",
    "    print('ok!')"
   ]
  },
  {
   "cell_type": "code",
   "execution_count": null,
   "metadata": {},
   "outputs": [],
   "source": []
  },
  {
   "cell_type": "code",
   "execution_count": null,
   "metadata": {},
   "outputs": [],
   "source": []
  }
 ],
 "metadata": {
  "kernelspec": {
   "display_name": "Python 3",
   "language": "python",
   "name": "python3"
  },
  "language_info": {
   "codemirror_mode": {
    "name": "ipython",
    "version": 3
   },
   "file_extension": ".py",
   "mimetype": "text/x-python",
   "name": "python",
   "nbconvert_exporter": "python",
   "pygments_lexer": "ipython3",
   "version": "3.6.3"
  }
 },
 "nbformat": 4,
 "nbformat_minor": 2
}
